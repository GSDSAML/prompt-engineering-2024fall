{
  "cells": [
    {
      "cell_type": "markdown",
      "source": [
        "# Skeleton Code for the Final Project\n",
        "\n",
        "Github repo link: https://github.com/GSDSAML/prompt-engineering-2024fall/tree/main\n",
        "\n"
      ],
      "metadata": {
        "id": "19O4MAoFHUjz"
      }
    },
    {
      "cell_type": "markdown",
      "source": [
        "## Leaderboard\n",
        "\n",
        "Leaderboard updated from the Github repo."
      ],
      "metadata": {
        "id": "fMpyAl4IIV-o"
      }
    },
    {
      "cell_type": "code",
      "source": [
        "!rm -f leaderboard.csv\n",
        "!wget https://raw.githubusercontent.com/GSDSAML/prompt-engineering-2024fall/refs/heads/main/final_project/leaderboard.csv"
      ],
      "metadata": {
        "id": "GIUdjZeSI4Mm"
      },
      "execution_count": null,
      "outputs": []
    },
    {
      "cell_type": "code",
      "source": [
        "import pandas as pd\n",
        "\n",
        "# Load the leaderboard.csv file into a pandas DataFrame.\n",
        "df = pd.read_csv('leaderboard.csv')\n",
        "\n",
        "df"
      ],
      "metadata": {
        "id": "a3zBj1nmKYmM"
      },
      "execution_count": null,
      "outputs": []
    },
    {
      "cell_type": "markdown",
      "source": [
        "## Data preparation"
      ],
      "metadata": {
        "id": "FYk79iGCtJ8N"
      }
    },
    {
      "cell_type": "markdown",
      "source": [
        "### You can download the FinQA train and test set here"
      ],
      "metadata": {
        "id": "7BA9geSeFrVk"
      }
    },
    {
      "cell_type": "code",
      "source": [
        "!wget https://github.com/czyssrs/FinQA/raw/refs/heads/main/dataset/train.json"
      ],
      "metadata": {
        "id": "PkWddz6XfEM-"
      },
      "execution_count": null,
      "outputs": []
    },
    {
      "cell_type": "code",
      "source": [
        "!wget https://github.com/czyssrs/FinQA/raw/refs/heads/main/dataset/test.json"
      ],
      "metadata": {
        "id": "qU9mfaittMPw"
      },
      "execution_count": null,
      "outputs": []
    },
    {
      "cell_type": "markdown",
      "source": [
        "## Environment Setup"
      ],
      "metadata": {
        "id": "JM1XarjUHjqf"
      }
    },
    {
      "cell_type": "code",
      "execution_count": null,
      "metadata": {
        "id": "JnqUcYp07ban"
      },
      "outputs": [],
      "source": [
        "# Install langchain\n",
        "!pip install --upgrade --quiet  langchain langchain-community langchainhub langchain-openai langchain-chroma bs4"
      ]
    },
    {
      "cell_type": "markdown",
      "source": [
        "### Set API key"
      ],
      "metadata": {
        "id": "AybAbPJsMJFH"
      }
    },
    {
      "cell_type": "code",
      "source": [
        "# Set API key\n",
        "OPENAI_API_KEY=\"your_api_key_here\""
      ],
      "metadata": {
        "id": "dNgq1RVvMLkh"
      },
      "execution_count": null,
      "outputs": []
    },
    {
      "cell_type": "markdown",
      "source": [
        "### Prepare model"
      ],
      "metadata": {
        "id": "44i0fn9TMQHV"
      }
    },
    {
      "cell_type": "code",
      "execution_count": null,
      "metadata": {
        "id": "-oDeBNrKkb7l"
      },
      "outputs": [],
      "source": [
        "# Prepare model\n",
        "from langchain_openai import ChatOpenAI\n",
        "\n",
        "llm = ChatOpenAI(model=\"gpt-4o-mini\", temperature=0.0, api_key=OPENAI_API_KEY)"
      ]
    },
    {
      "cell_type": "markdown",
      "source": [
        "## Data Preparation"
      ],
      "metadata": {
        "id": "Nt_8KIg1LulJ"
      }
    },
    {
      "cell_type": "markdown",
      "source": [
        "### Download and unzip backup vector DB\n",
        "\n",
        "*   Source dataset: [FinQA](https://finqasite.github.io/)\n",
        "*   EDA for the FinQA dataset: https://medium.com/@sohilsharma1996/finqa-project-numerical-reasoning-over-financial-data-77a3fb4133d2\n",
        "\n",
        "You can build your own vector DB for retrieval."
      ],
      "metadata": {
        "id": "6E-jaNPlP5O6"
      }
    },
    {
      "cell_type": "code",
      "source": [
        "!wget https://github.com/GSDSAML/prompt-engineering-2024fall/raw/refs/heads/main/final_project/db.zip"
      ],
      "metadata": {
        "id": "JVDMQIK22yBC"
      },
      "execution_count": null,
      "outputs": []
    },
    {
      "cell_type": "code",
      "source": [
        "!unzip db.zip"
      ],
      "metadata": {
        "id": "3jbbxmA_LsOi"
      },
      "execution_count": null,
      "outputs": []
    },
    {
      "cell_type": "markdown",
      "source": [
        "### Fiscal year end date dictionary\n",
        "\n",
        "Collected from SEC EDGAR\n",
        "\n",
        "Dictionary with Key(ticker): Value(Fiscal year end date)\n",
        "\n",
        "Actually, the date may different every year, but we will use this for now."
      ],
      "metadata": {
        "id": "TygXV4kiPoSe"
      }
    },
    {
      "cell_type": "code",
      "source": [
        "company_fiscal_year_end = {'GIS': '0530', 'FRT': '1231', 'MMM': '1231', 'K': '1228', 'INTC': '1228', 'CAG': '0525', 'MSI': '1231', 'FIS': '1231', 'CCI': '1231', 'CDW': '1231', 'GPN': '1231', 'TMUS': '1231', 'D': '1231', 'KMI': '1231', 'NTAP': '0426', 'TSCO': '1230', 'BLK': '1231', 'CNC': '1231', 'MRK': '1231', 'JKHY': '0630', 'VTR': '1231', 'GRMN': '1228', 'AMT': '1231', 'MAR': '1231', 'HIG': '1231', 'ADI': '1102', 'ILMN': '1229', 'NKE': '0531', 'VNO': '1231', 'FITB': '1231', 'ETR': '1231', 'KIM': '1231', 'AMAT': '1027', 'OKE': '1231', 'DG': '0131', 'TFX': '1231', 'AAL': '1231', 'EXPD': '1231', 'V': '0930', 'REGN': '1231', 'PPG': '1231', 'RCL': '1231', 'VLO': '1231', 'KHC': '1228', 'HUM': '1231', 'WELL': '1231', 'ALLE': '1231', 'UNP': '1231', 'LLY': '1231', 'TXN': '1231', 'GS': '1231', 'LKQ': '1231', 'SYY': '0629', 'IPG': '1231', 'AAP': '1228', 'ECL': '1231', 'MKTX': '1231', 'C': '1231', 'ZBH': '1231', 'UAA': '0331', 'MRO': '1231', 'AON': '1231', 'SPGI': '1231', 'ORLY': '1231', 'MO': '1231', 'PM': '1231', 'BKNG': '1231', 'BKR': '1231', 'AWK': '1231', 'APTV': '1231', 'WRK': '0930', 'SWKS': '0927', 'CMCSA': '1231', 'CE': '1231', 'CB': '1231', 'WMT': '0131', 'STT': '1231', 'RSG': '1231', 'AOS': '1231', 'AAPL': '0928', 'EXR': '1231', 'UA': '0331', 'CME': '1231', 'HII': '1231', 'HOLX': '0928', 'SLB': '1231', 'EW': '1231', 'EMR': '0930', 'VRTX': '1231', 'APD': '0930', 'ADBE': '1129', 'CAT': '1231', 'PNC': '1231', 'MAA': '1231', 'AES': '1231', 'SNA': '1228', 'JPM': '1231', 'NCLH': '1231', 'PKG': '1231', 'TROW': '1231', 'HST': '1231', 'NWS': '0630', 'MA': '1231', 'DVN': '1231', 'ANSS': '1231', 'ANET': '1231', 'SNPS': '1031', 'RL': '0328', 'DISH': '1231', 'HWM': '1231', 'FTV': '1231', 'L': '1231', 'LMT': '1231', 'MAS': '1231', 'STZ': '0228', 'EMN': '1231', 'CDNS': '1231', 'EL': '0630', 'SLG': '1231', 'BDX': '0930', 'UPS': '1231', 'MS': '1231', 'IQV': '1231', 'IP': '1231', 'EOG': '1231'}"
      ],
      "metadata": {
        "id": "g8rLfgccqo4h"
      },
      "execution_count": null,
      "outputs": []
    },
    {
      "cell_type": "markdown",
      "source": [
        "## Define Tools"
      ],
      "metadata": {
        "id": "ZNZo8fc5P0Ea"
      }
    },
    {
      "cell_type": "markdown",
      "source": [
        "### LangChain Tool Use Example\n",
        "\n",
        "List of pre-defined tools in LangChain: https://python.langchain.com/docs/integrations/tools/"
      ],
      "metadata": {
        "id": "dn7_THCzRWY7"
      }
    },
    {
      "cell_type": "code",
      "source": [
        "from langchain_core.tools import tool\n",
        "\n",
        "\n",
        "@tool\n",
        "def multiply(a: int, b: int) -> int:\n",
        "    \"\"\"Multiply two numbers.\"\"\"\n",
        "    return a * b\n",
        "\n",
        "\n",
        "# Let's inspect some of the attributes associated with the tool.\n",
        "print(multiply.name)\n",
        "print(multiply.description)\n",
        "print(multiply.args)\n",
        "\n",
        "@tool\n",
        "def add(a: int, b: int) -> int:\n",
        "    \"\"\"Add two integers.\"\"\"\n",
        "    return a + b\n",
        "\n",
        "print(add.name)\n",
        "print(add.description)\n",
        "print(add.args)"
      ],
      "metadata": {
        "id": "MdLyOCHIdEbt"
      },
      "execution_count": null,
      "outputs": []
    },
    {
      "cell_type": "code",
      "source": [
        "tools = [add, multiply]"
      ],
      "metadata": {
        "id": "NpFIzwndaQtg"
      },
      "execution_count": null,
      "outputs": []
    },
    {
      "cell_type": "code",
      "source": [
        "llm_with_tools = llm.bind_tools(tools)\n",
        "\n",
        "query = \"What is 3 * 12?\"\n",
        "\n",
        "llm_with_tools.invoke(query).tool_calls"
      ],
      "metadata": {
        "id": "mp1jDdlbdYa-"
      },
      "execution_count": null,
      "outputs": []
    },
    {
      "cell_type": "code",
      "source": [
        "from langchain_core.messages import HumanMessage\n",
        "\n",
        "query = \"What is 3 * 12? Also, what is 11 + 49?\"\n",
        "\n",
        "messages = [HumanMessage(query)]\n",
        "\n",
        "ai_msg = llm_with_tools.invoke(messages)\n",
        "\n",
        "print(ai_msg.tool_calls)\n",
        "\n",
        "messages.append(ai_msg)"
      ],
      "metadata": {
        "id": "QTbFn1r3R2wH"
      },
      "execution_count": null,
      "outputs": []
    },
    {
      "cell_type": "code",
      "source": [
        "for tool_call in ai_msg.tool_calls:\n",
        "    selected_tool = {\"add\": add, \"multiply\": multiply}[tool_call[\"name\"].lower()]\n",
        "    tool_msg = selected_tool.invoke(tool_call)\n",
        "    messages.append(tool_msg)\n",
        "\n",
        "messages"
      ],
      "metadata": {
        "id": "EavFjCRGSfRz"
      },
      "execution_count": null,
      "outputs": []
    },
    {
      "cell_type": "code",
      "source": [
        "llm_with_tools.invoke(messages).content"
      ],
      "metadata": {
        "id": "4OW5A9F9SgVv"
      },
      "execution_count": null,
      "outputs": []
    },
    {
      "cell_type": "markdown",
      "source": [
        "### Extract fiscal tool"
      ],
      "metadata": {
        "id": "8WJZgyasgOO-"
      }
    },
    {
      "cell_type": "code",
      "source": [
        "company_fiscal_year_end"
      ],
      "metadata": {
        "id": "7f4Gox8K--TB"
      },
      "execution_count": null,
      "outputs": []
    },
    {
      "cell_type": "markdown",
      "source": [
        "Extract company ticker from the question\n",
        "\n",
        "We used LLM for now, but may need to connect DB for stability."
      ],
      "metadata": {
        "id": "t-ARd27WTqwy"
      }
    },
    {
      "cell_type": "code",
      "source": [
        "from langchain_core.prompts import PromptTemplate\n",
        "\n",
        "extract_ticker_prompt = PromptTemplate(\n",
        "    input_variables=[\"question\"],\n",
        "    template=\"\"\"\n",
        "    You have to extract the company name in the given question, and answer the ticker of the company.\n",
        "    Answer in JSON format, with 'ticker' key.\n",
        "\n",
        "    Question: {question}\n",
        "\n",
        "    Output JSON: {{\n",
        "      \"ticker\": \"<ticker of the company>\"\n",
        "    }}\n",
        "    \"\"\"\n",
        ")\n",
        "\n",
        "from pydantic import BaseModel, Field\n",
        "\n",
        "class Ticker(BaseModel):\n",
        "    \"\"\"Ticker of the company in the given question\"\"\"\n",
        "    ticker: str = Field(description=\"ticker of the company\")\n",
        "\n",
        "extract_ticker_chain = extract_ticker_prompt | llm.with_structured_output(Ticker)"
      ],
      "metadata": {
        "id": "UfyesW-YAlD-"
      },
      "execution_count": null,
      "outputs": []
    },
    {
      "cell_type": "code",
      "source": [
        "extract_ticker_chain.invoke({\"question\": \"What was the revenue of Apple in 2022?\"})"
      ],
      "metadata": {
        "id": "aYHiFpRCAmql"
      },
      "execution_count": null,
      "outputs": []
    },
    {
      "cell_type": "code",
      "source": [
        "from langchain_core.output_parsers import StrOutputParser\n",
        "from datetime import datetime\n",
        "\n",
        "parser = StrOutputParser()\n",
        "\n",
        "change_prompt = PromptTemplate(\n",
        "    input_variables=[\"original_question\", \"fiscal_info\", \"today\"],\n",
        "    template=\"\"\"\n",
        "    You have to convert relative time information in the given original question to the fiscal year of the company.\n",
        "    Use the fiscal end date to convert to fiscal year.\n",
        "    Answer only the converted question.\n",
        "\n",
        "    Original question: {original_question}\n",
        "    Fiscal end date for the company: {fiscal_info}\n",
        "    Today date: {today}\n",
        "    \"\"\"\n",
        ")\n",
        "\n",
        "convert_chain = change_prompt | llm | parser\n",
        "\n",
        "def get_fiscal_info_with_ticker(ticker: str) -> str:\n",
        "    \"\"\"Get fiscal year information of the company with ticker string.\"\"\"\n",
        "    ticker = ticker.upper()\n",
        "    if ticker in company_fiscal_year_end:\n",
        "      end_date = company_fiscal_year_end[ticker]\n",
        "      return end_date[:2] + '-' + end_date[2:]\n",
        "    else:\n",
        "      return '12-31'\n",
        "\n",
        "extract_fiscal_prompt = PromptTemplate(\n",
        "    input_variables=[\"question\"],\n",
        "    template=\"\"\"\n",
        "    You have to extract the fiscal year in the given question.\n",
        "    Answer in JSON format, with 'fy' key.\n",
        "\n",
        "    Question: {question}\n",
        "\n",
        "    Output JSON: {{\n",
        "      \"fy\": <fiscal year in the question>\n",
        "    }}\n",
        "    \"\"\"\n",
        ")\n",
        "\n",
        "from pydantic import BaseModel, Field\n",
        "\n",
        "class FiscalYear(BaseModel):\n",
        "    \"\"\"FiscalYear mentioned in the given question\"\"\"\n",
        "    fy: int = Field(description=\"fiscal year in the question\")\n",
        "\n",
        "extract_fiscal_chain = extract_fiscal_prompt | llm.with_structured_output(FiscalYear)"
      ],
      "metadata": {
        "id": "nIm_nhmfoIWP"
      },
      "execution_count": null,
      "outputs": []
    },
    {
      "cell_type": "code",
      "source": [
        "from langchain_core.tools import tool\n",
        "\n",
        "@tool\n",
        "def rewrite2fiscal(question: str) -> tuple[str, int]:\n",
        "  \"\"\"Extract the company and convert relative time information in the question to the actual fiscal year of the company.\n",
        "     It uses today function for the date information.\n",
        "\n",
        "    Args:\n",
        "        question: Question to be extracted.\n",
        "\n",
        "    Returns:\n",
        "        A tuple of ticker of the company and the fiscal year\n",
        "  \"\"\"\n",
        "  ticker = extract_ticker_chain.invoke({\"question\": question}).ticker\n",
        "  today = datetime.now().strftime(\"%Y-%m-%d\")\n",
        "  response = convert_chain.invoke({\"original_question\": question, \"fiscal_info\": get_fiscal_info_with_ticker(ticker), \"today\": today})\n",
        "  fy = extract_fiscal_chain.invoke({'question': response}).fy\n",
        "  return ticker, fy"
      ],
      "metadata": {
        "id": "xdpBeMeRUy8J"
      },
      "execution_count": null,
      "outputs": []
    },
    {
      "cell_type": "code",
      "source": [
        "rewrite2fiscal(\"What was the revenue of Apple in 2023-07-10?\")"
      ],
      "metadata": {
        "id": "3GOj-6lcKivd"
      },
      "execution_count": null,
      "outputs": []
    },
    {
      "cell_type": "code",
      "source": [
        "rewrite2fiscal(\"What was the revenue of Apple in 2023-12-20?\")"
      ],
      "metadata": {
        "id": "keuaxuI3Ayr7"
      },
      "execution_count": null,
      "outputs": []
    },
    {
      "cell_type": "code",
      "source": [
        "rewrite2fiscal(\"What was the revenue of Apple in last year?\")"
      ],
      "metadata": {
        "id": "X42RHclaBmxQ"
      },
      "execution_count": null,
      "outputs": []
    },
    {
      "cell_type": "code",
      "source": [
        "rewrite2fiscal(\"What was the revenue of Apple in this year?\")"
      ],
      "metadata": {
        "id": "gPtNMB8QKzsF"
      },
      "execution_count": null,
      "outputs": []
    },
    {
      "cell_type": "markdown",
      "source": [
        "### Domain specific calulation tools\n",
        "\n",
        "You should implement more tools to answer complex questions."
      ],
      "metadata": {
        "id": "5EwXgvdOgSCa"
      }
    },
    {
      "cell_type": "code",
      "source": [
        "@tool\n",
        "def calculate_eps(net_income: float, outstanding_shares: int):\n",
        "  \"\"\"Calculate the EPS of the company using net income and outstanding share\n",
        "\n",
        "   Args:\n",
        "        net_income: Net income value of the company\n",
        "        outstanding_shares: Total stock held by the company's shareholders\n",
        "\n",
        "    Returns:\n",
        "        EPS value\n",
        "  \"\"\"\n",
        "  if (net_income is None) or (outstanding_shares is None):\n",
        "    print(\"Give me the net income and outstanding shares first\")\n",
        "    return None\n",
        "  elif outstanding_shares == 0:\n",
        "    print(\"Outstanding shares cannot be zero\")\n",
        "    return None\n",
        "\n",
        "  return net_income / outstanding_shares"
      ],
      "metadata": {
        "id": "JfPNAZqoXSs3"
      },
      "execution_count": null,
      "outputs": []
    },
    {
      "cell_type": "code",
      "source": [
        "@tool\n",
        "def calculate_cashflowfromoperations(net_income: float, non_cash_items: float, changes_in_working_capital: float):\n",
        "  \"\"\"Calculate the cash flow from operations of the company using net income, non cash items and change in working capital\n",
        "\n",
        "   Args:\n",
        "        net_income: Net income value of the company\n",
        "        non_cash_items: Financial transactions or events that are recorded in a company's financial statements but do not involve the exchange of cash\n",
        "        changes_in_working_capital: Difference in a company's working capital between two reporting periods\n",
        "\n",
        "    Returns:\n",
        "        Value of cash flow from operations\n",
        "  \"\"\"\n",
        "  if (net_income is None) or (non_cash_items is None) or (changes_in_working_capital is None):\n",
        "    print(\"Give me the net income, non cash items and change in working capital data first\")\n",
        "    return None\n",
        "\n",
        "  return net_income + non_cash_items + changes_in_working_capital"
      ],
      "metadata": {
        "id": "iSkRYRoqW_XO"
      },
      "execution_count": null,
      "outputs": []
    },
    {
      "cell_type": "markdown",
      "source": [
        "### Retriever Tool"
      ],
      "metadata": {
        "id": "jWWgAEIiY3wu"
      }
    },
    {
      "cell_type": "markdown",
      "source": [
        "#### Build Vector DB\n",
        "\n",
        "You can skip this part for demo."
      ],
      "metadata": {
        "id": "_4wIVPe47efF"
      }
    },
    {
      "cell_type": "code",
      "source": [
        "import json\n",
        "\n",
        "def load_and_view_sample(file_path):\n",
        "  \"\"\"Loads a JSON file and prints a sample of its contents.\"\"\"\n",
        "  try:\n",
        "    with open(file_path, 'r') as f:\n",
        "      data = json.load(f)\n",
        "      print(\"Sample Data from JSON:\")\n",
        "      print(json.dumps(data, indent=2)[:500]) # Print first 500 chars for sample\n",
        "  except FileNotFoundError:\n",
        "    print(f\"File not found: {file_path}\")\n",
        "  except json.JSONDecodeError:\n",
        "    print(f\"Error decoding JSON from file: {file_path}\")\n",
        "\n",
        "\n",
        "# Assuming your file is named 'test.json' in the current directory\n",
        "load_and_view_sample('test.json')"
      ],
      "metadata": {
        "id": "v4PeaKc-hz95"
      },
      "execution_count": null,
      "outputs": []
    },
    {
      "cell_type": "code",
      "source": [
        "import json\n",
        "\n",
        "def count_rows_in_json(file_path):\n",
        "  \"\"\"Counts the number of rows (objects) in a JSON file.\"\"\"\n",
        "  try:\n",
        "    with open(file_path, 'r') as f:\n",
        "      data = json.load(f)\n",
        "      if isinstance(data, list):\n",
        "        return len(data)\n",
        "      elif isinstance(data, dict):\n",
        "        return len(data)\n",
        "      else:\n",
        "        return 0  # Or raise an error, depending on your needs\n",
        "  except FileNotFoundError:\n",
        "    print(f\"File not found: {file_path}\")\n",
        "    return 0\n",
        "  except json.JSONDecodeError:\n",
        "    print(f\"Error decoding JSON from file: {file_path}\")\n",
        "    return 0\n",
        "\n",
        "# Assuming your file is named 'test.json' in the current directory\n",
        "num_rows = count_rows_in_json('test.json')\n",
        "print(f\"Number of rows in the JSON file: {num_rows}\")"
      ],
      "metadata": {
        "id": "NyVmLPJuiHas"
      },
      "execution_count": null,
      "outputs": []
    },
    {
      "cell_type": "code",
      "source": [
        "import json\n",
        "\n",
        "def analyze_json(file_path):\n",
        "  \"\"\"Analyzes a JSON file, printing information about its attributes.\"\"\"\n",
        "  try:\n",
        "    with open(file_path, 'r') as f:\n",
        "      data = json.load(f)\n",
        "      if isinstance(data, list):\n",
        "        print(\"JSON file contains a list of objects.\")\n",
        "        if len(data) > 0:\n",
        "          print(\"Example object:\")\n",
        "          print(json.dumps(data[0], indent=2))\n",
        "          for key in data[0].keys():\n",
        "            print(f\"- Attribute: {key}\")\n",
        "      elif isinstance(data, dict):\n",
        "        print(\"JSON file contains a dictionary.\")\n",
        "        print(\"Attributes:\")\n",
        "        for key in data.keys():\n",
        "          print(f\"- Attribute: {key}\")\n",
        "      else:\n",
        "        print(\"JSON file is empty or contains an unexpected data type.\")\n",
        "  except FileNotFoundError:\n",
        "    print(f\"File not found: {file_path}\")\n",
        "  except json.JSONDecodeError:\n",
        "    print(f\"Error decoding JSON from file: {file_path}\")\n",
        "\n",
        "# Analyze 'test.json'\n",
        "analyze_json('test.json')"
      ],
      "metadata": {
        "id": "MWSKJ1PAjOVq"
      },
      "execution_count": null,
      "outputs": []
    },
    {
      "cell_type": "code",
      "source": [
        "from langchain_openai import ChatOpenAI\n",
        "from langchain_core.tools import tool\n",
        "from langchain_core.messages import HumanMessage\n",
        "from langchain_core.prompts import PromptTemplate\n",
        "from pydantic import BaseModel, Field\n",
        "from langchain_core.output_parsers import StrOutputParser\n",
        "from datetime import datetime\n",
        "import json\n",
        "\n",
        "# Define pre_text and post_text\n",
        "pre_text = \"\"\"\n",
        "## Financial Data Analysis with Tools\n",
        "\n",
        "This system is designed to analyze financial data and answer your questions about companies.\n",
        "It uses tools like calculating metrics (EPS, cash flow from operations) and retrieving information from a financial dataset.\n",
        "\n",
        "\"\"\"\n",
        "\n",
        "post_text = \"\"\"\n",
        "**Note:** The system may not always have the information you're looking for.\n",
        "If the response is insufficient, please refine your question or provide more details.\n",
        "\"\"\"\n",
        "\n",
        "# Define a table with examples\n",
        "table = \"\"\"\n",
        "| Question Example | Expected Outcome |\n",
        "|---|---|\n",
        "| What was Apple's EPS in 2022? | Retrieves Apple's 2022 net income and shares outstanding, then calculates and returns EPS. |\n",
        "| What was the cash flow from operations for Microsoft in 2023? | Retrieves Microsoft's net income, non-cash items, and changes in working capital, then calculates and returns cash flow from operations. |\n",
        "\"\"\"\n",
        "\n",
        "# Combine pre_text, post_text, and table\n",
        "combined_text = f\"{pre_text}\\n\\n**Example Usage:**\\n\\n{table}\\n\\n{post_text}\"\n",
        "\n",
        "# Function to ask ChatGPT and compare answers\n",
        "def qa_and_compare(question):\n",
        "    prompt_with_context = f\"{combined_text}\\n\\n**Question:** {question}\"\n",
        "\n",
        "    messages = [HumanMessage(content=prompt_with_context)]\n",
        "\n",
        "    ai_msg = llm.invoke(messages)\n",
        "\n",
        "    print(\"ChatGPT's Answer:\")\n",
        "    print(ai_msg.content)\n",
        "\n",
        "\n",
        "# Example question\n",
        "question = \"What was the revenue of Apple in 2022?\"\n",
        "\n",
        "qa_and_compare(question)"
      ],
      "metadata": {
        "id": "jTSOsa7WmbMo"
      },
      "execution_count": null,
      "outputs": []
    },
    {
      "cell_type": "code",
      "source": [
        "from langchain.text_splitter import RecursiveCharacterTextSplitter\n",
        "from langchain.embeddings.openai import OpenAIEmbeddings\n",
        "from langchain.vectorstores import Chroma\n",
        "\n",
        "splitter = RecursiveCharacterTextSplitter(chunk_size=1000, chunk_overlap=0)\n",
        "\n",
        "embeddings = OpenAIEmbeddings(model='text-embedding-3-small',api_key=OPENAI_API_KEY)\n",
        "\n",
        "# Assuming 'distinct_items_with_context' is a dictionary as shown in your code\n",
        "for filename, context_data in distinct_items_with_context.items():\n",
        "    pre_text = merge_text_list(context_data['pre_text'])\n",
        "    post_text = merge_text_list(context_data['post_text'])\n",
        "    table = context_data['table']\n",
        "\n",
        "    # Split the pre-text and post-text into smaller chunks\n",
        "    pre_text_chunks = splitter.split_text(pre_text)\n",
        "    post_text_chunks = splitter.split_text(post_text)\n",
        "\n",
        "    # Create a list of texts to store in the vector DB\n",
        "    texts_for_db = []\n",
        "    metadatas_for_db = []\n",
        "\n",
        "    # Add pre-text chunks\n",
        "    for chunk in pre_text_chunks:\n",
        "        texts_for_db.append(chunk)\n",
        "        metadatas_for_db.append({'company': filename.split('/')[0], 'fiscal': int(filename.split('/')[1]), 'context_type': 'pre_text'})\n",
        "\n",
        "    # Add table\n",
        "    if table:\n",
        "        texts_for_db.append(table)\n",
        "        metadatas_for_db.append({'company': filename.split('/')[0], 'fiscal': int(filename.split('/')[1]), 'context_type': 'table'})\n",
        "\n",
        "    # Add post-text chunks\n",
        "    for chunk in post_text_chunks:\n",
        "        texts_for_db.append(chunk)\n",
        "        metadatas_for_db.append({'company': filename.split('/')[0], 'fiscal': int(filename.split('/')[1]), 'context_type': 'post_text'})\n",
        "\n",
        "\n",
        "    # Create the vector database for each file\n",
        "    docsearch = Chroma.from_texts(texts_for_db, embeddings, metadatas=metadatas_for_db, persist_directory=\"./db\")"
      ],
      "metadata": {
        "id": "0mseZMcxRXPJ"
      },
      "execution_count": null,
      "outputs": []
    },
    {
      "cell_type": "code",
      "source": [
        "docsearch.persist()"
      ],
      "metadata": {
        "id": "UWcWY1lOTJbg"
      },
      "execution_count": null,
      "outputs": []
    },
    {
      "cell_type": "code",
      "source": [
        "!zip -r ./db.zip ./db"
      ],
      "metadata": {
        "id": "4w5q5cW_gBDe"
      },
      "execution_count": null,
      "outputs": []
    },
    {
      "cell_type": "code",
      "source": [
        "query = \"What was the revenue of Apple in 2012?\"\n",
        "docs = docsearch.similarity_search(query)\n",
        "\n",
        "for doc in docs:\n",
        "  print(doc.page_content)\n",
        "  print(doc.metadata)\n",
        "  print('--------------')"
      ],
      "metadata": {
        "id": "Id9ZfhizggtP"
      },
      "execution_count": null,
      "outputs": []
    },
    {
      "cell_type": "markdown",
      "source": [
        "#### Load Vector DB"
      ],
      "metadata": {
        "id": "qfczWkd17mYg"
      }
    },
    {
      "cell_type": "code",
      "source": [
        "from langchain.text_splitter import RecursiveCharacterTextSplitter\n",
        "from langchain.embeddings.openai import OpenAIEmbeddings\n",
        "from langchain.vectorstores import Chroma\n",
        "\n",
        "embeddings = OpenAIEmbeddings(model='text-embedding-3-small',api_key=OPENAI_API_KEY)\n",
        "\n",
        "from langchain_chroma import Chroma\n",
        "\n",
        "docsearch = Chroma(\n",
        "    persist_directory=\"./db\",\n",
        "    embedding_function=embeddings\n",
        ")"
      ],
      "metadata": {
        "id": "cGy1jdEL7qXc"
      },
      "execution_count": null,
      "outputs": []
    },
    {
      "cell_type": "markdown",
      "source": [
        "#### Retriever tool with filtered search"
      ],
      "metadata": {
        "id": "6jYHaV8ogG3N"
      }
    },
    {
      "cell_type": "code",
      "source": [
        "def retrieve(question:str, ticker: str, fy: int) -> list[str]:\n",
        "  \"\"\"Search vector DB for the financial reports with the question and ticker and fiscal year\n",
        "\n",
        "   Args:\n",
        "        question: Question need to be answered\n",
        "        ticker: Ticker of the company for filtering the documents\n",
        "        fy: Fiscal year for filtering the documents\n",
        "\n",
        "    Returns:\n",
        "        A related document for the question.\n",
        "  \"\"\"\n",
        "  retriever = docsearch.as_retriever(search_kwargs={'k': 1, 'filter':\n",
        "  {\n",
        "      \"$and\": [\n",
        "          {\n",
        "              \"company\": {\n",
        "                  \"$eq\": ticker\n",
        "              }\n",
        "          },\n",
        "          {\n",
        "              \"fiscal\": {\n",
        "                  \"$eq\": fy\n",
        "              }\n",
        "          }\n",
        "      ]\n",
        "  }})\n",
        "  result = retriever.invoke(question)\n",
        "  if result:\n",
        "    return result\n",
        "  else:\n",
        "    return [\"No data returned. Try again with correct ticker and fiscal year, or different question\"]"
      ],
      "metadata": {
        "id": "yyRdQ7L_aQfv"
      },
      "execution_count": null,
      "outputs": []
    },
    {
      "cell_type": "code",
      "source": [
        "retrieve(\"what was the hqla in the q4 of Citigroup in 2015?\",\"AAPL\", 2012)"
      ],
      "metadata": {
        "id": "LQdFHlSsaXtv"
      },
      "execution_count": null,
      "outputs": []
    },
    {
      "cell_type": "code",
      "source": [
        "@tool\n",
        "def retrieve_factual_data(question:str, ticker: str, fy: int) -> str:\n",
        "  \"\"\"Search vector DB for the financial reports with the question and ticker and fiscal year\n",
        "\n",
        "   Args:\n",
        "        question: Question need to be answered\n",
        "        ticker: Ticker of the company for filtering the documents\n",
        "        fy: Fiscal year for filtering the documents\n",
        "\n",
        "    Returns:\n",
        "        A related document for the question.\n",
        "  \"\"\"\n",
        "  retriever = docsearch.as_retriever(search_kwargs={'k': 1, 'filter':\n",
        "  {\n",
        "      \"$and\": [\n",
        "          {\n",
        "              \"company\": {\n",
        "                  \"$eq\": ticker\n",
        "              }\n",
        "          },\n",
        "          {\n",
        "              \"fiscal\": {\n",
        "                  \"$eq\": fy\n",
        "              }\n",
        "          }\n",
        "      ]\n",
        "  }})\n",
        "  result = retriever.invoke(question)\n",
        "  if result:\n",
        "    return result[0].page_content\n",
        "  else:\n",
        "    return \"No data returned. Try again with correct ticker and fiscal year, or different question\""
      ],
      "metadata": {
        "id": "wCAtGqUDQ4QT"
      },
      "execution_count": null,
      "outputs": []
    },
    {
      "cell_type": "markdown",
      "source": [
        "## Agent with tools"
      ],
      "metadata": {
        "id": "uyGfbMuCgagT"
      }
    },
    {
      "cell_type": "code",
      "source": [
        "from langchain_core.messages import HumanMessage, SystemMessage\n",
        "from langchain_core.prompts import ChatPromptTemplate\n",
        "\n",
        "def agentic_rag(query: str) -> str:\n",
        "  tools = [rewrite2fiscal, calculate_eps, calculate_cashflowfromoperations, retrieve_factual_data]\n",
        "  system_query = 'You are the professional agent that can use tools to answer the financial question. Output answer without selecting tool if you can answer the question with chat history.'\n",
        "  user_query = \"\"\"For the given question, you should decide which tool you should use and arguments for the tool to answer the question.\n",
        "        Question: {question}\"\"\"\n",
        "  messages = [SystemMessage(content=system_query), HumanMessage(content=user_query.format(question=query))]\n",
        "  llm_with_tools = llm.bind_tools(tools)\n",
        "  ai_msg = llm_with_tools.invoke(messages)\n",
        "  # print(ai_msg.content)\n",
        "  while ai_msg.content == '':\n",
        "    messages.append(ai_msg)\n",
        "    for tool_call in ai_msg.tool_calls:\n",
        "      selected_tool = {\"rewrite2fiscal\": rewrite2fiscal,\n",
        "                      \"calculate_eps\": calculate_eps,\n",
        "                      \"calculate_cashflowfromoperations\": calculate_cashflowfromoperations,\n",
        "                      \"retrieve_factual_data\": retrieve_factual_data}[tool_call[\"name\"].lower()]\n",
        "      tool_msg = selected_tool.invoke(tool_call)\n",
        "      messages.append(tool_msg)\n",
        "    ai_msg = llm_with_tools.invoke(messages)\n",
        "    # print(ai_msg.content)\n",
        "\n",
        "  # for message in messages:\n",
        "  #   print(message)\n",
        "  return ai_msg.content"
      ],
      "metadata": {
        "id": "TkfvVXEGayVP"
      },
      "execution_count": null,
      "outputs": []
    },
    {
      "cell_type": "code",
      "source": [
        "response = agentic_rag(\"what was brazilian paper sales of International Paper Company in 2006?\")"
      ],
      "metadata": {
        "id": "WH0Xe4_KbLVN"
      },
      "execution_count": null,
      "outputs": []
    },
    {
      "cell_type": "code",
      "source": [
        "response"
      ],
      "metadata": {
        "id": "-dbIL73rbSaD"
      },
      "execution_count": null,
      "outputs": []
    },
    {
      "cell_type": "markdown",
      "source": [
        "## Scoring section\n",
        "\n",
        "Use this Q&A dictionary to test your project code.\n",
        "\n",
        "You should not change the scoring prompt.\n",
        "\n",
        "You can submit your accuracy result with the screenshot to TA email, then I will post the score to the leaderboard."
      ],
      "metadata": {
        "id": "cZNNeYupG0BJ"
      }
    },
    {
      "cell_type": "code",
      "source": [
        "qa_dict = [{'Question': '\"what was the hqla in the q4 of Citigroup in 2015\"',\n",
        "  'Answer': '\"378.5 billion dollars\"'},\n",
        " {'Question': '\"as a result of the sales of certain non-core towers and other assets what was the recorded net losses of American Tower in 2008\"',\n",
        "  'Answer': '\"10.5 million dollars\"'},\n",
        " {'Question': '\"what was the port call costsin of Royal Caribbean Cruises in 2012\"',\n",
        "  'Answer': '\"459.8 million dollars\"'},\n",
        " {'Question': '\"what is the aggregate rent expense of American Tower Corp in 2014?\"',\n",
        "  'Answer': '\"655.0 million dollars\"'},\n",
        " {'Question': '\"what is the long-term component of BlackRock at 12/31/2011?\"',\n",
        "  'Answer': '\"593356 million dollars\"'},\n",
        " {'Question': '\"at december 31 , 2012 of The PNC Financial Services, what was the potential maximum exposure under the loss share arrangements?\"',\n",
        "  'Answer': '\"3.9 billion dollars\"'},\n",
        " {'Question': '\"what is the total financial liabilities at fair value of Goldman Sachs in 2012?\"',\n",
        "  'Answer': '\"377677 million dollars\"'},\n",
        " {'Question': '\"what was brazilian paper sales of International Paper Company in 2006?\"',\n",
        "  'Answer': '\"6930 million dollars\"'},\n",
        " {'Question': '\"what was brazilian paper sales of International Paper Company in 2005?\"',\n",
        "  'Answer': '\"7170 million dollars\"'},\n",
        " {'Question': '\"what is the cashflow of Kellogg in 2006?\"',\n",
        "  'Answer': '\"957.4 million dollars\"'},\n",
        " {'Question': '\"From the perspective of 5 years ago, what percentage of total minimum lease payments of Dish Network are due in 2015?\"',\n",
        "  'Answer': '\"10%\"'},\n",
        " {'Question': '\"in 2011 what was the SL Green Realty Corp\\'s percent of the change in the account balance at end of year\"',\n",
        "  'Answer': '\"93.7%\"'},\n",
        " {'Question': '\"what was the value in thousands of unvested restricted stock and performance awards at the weighted-averagegrant-datefair value as of december 31 , 2018 of Global Payments?\"',\n",
        "  'Answer': '\"117624.84\"'},\n",
        " {'Question': '\"based on the cash dividends paid of the year, how many common stock shares were outstanding in 2007 Snap-on?\"',\n",
        "  'Answer': '\"58909091\"'},\n",
        " {'Question': '\"what is the Entergy Corp\\'s 2008 total value , in millions of dollars , of issuable long-term securities?\"',\n",
        "  'Answer': '\"1450\"'},\n",
        " {'Question': '\"for the capital framework of Goldman Sachs Group 7 years ago, what percent of the minimum supplementary leverage ratio consisted of a buffer?\"',\n",
        "  'Answer': '\"40%\"'},\n",
        " {'Question': '\"in 2007 what was the 3M\\'s ratio of the interest expense to the interest income\"',\n",
        "  'Answer': '\"1.59\"'},\n",
        " {'Question': '\"what is the AON\\'s decrease observed in the additions for tax positions of prior years as of 2018, in millions?\"',\n",
        "  'Answer': '\"2\"'},\n",
        " {'Question': '\"In 2014 Global Payments, what is the total value of securities approved by security holders but net yer issued , ( in millions ) ?\"',\n",
        "  'Answer': '\"365.4\"'},\n",
        " {'Question': '\"what is the percent of our network route miles that is owned rather than operated on pursuant to trackage rights or leases in 2016 Union Pacific Corp\"',\n",
        "  'Answer': '\"81.2%\"'},\n",
        " {'Question': '\"What is the American Tower Corp\\'s current ratio in 12 years ago?\"',\n",
        "  'Answer': 1.7923},\n",
        " {'Question': '\"What is the DISH Network Corporation\\'s current ratio in 13 years ago?\"',\n",
        "  'Answer': 1.7804},\n",
        " {'Question': '\"What is the American Tower Corp\\'s current ratio in 2012?\"',\n",
        "  'Answer': 1.7923},\n",
        " {'Question': '\"What is the DISH Network Corporation\\'s current ratio in 2011?\"',\n",
        "  'Answer': 1.7804},\n",
        " {'Question': '\"What is the International Paper Company\\'s Operating Profit Margin in 2006?\"',\n",
        "  'Answer': 9.769119769},\n",
        " {'Question': '\"What is the International Paper Company\\'s Operating Profit Margin in 2005?\"',\n",
        "  'Answer': 6.59693166},\n",
        " {'Question': '\"What is the International Paper Company\\'s Operating Profit Margin in 2004?\"',\n",
        "  'Answer': 7.119831815},\n",
        " {'Question': '\"What is the Air Products and Chemicals\\'s Operating Profit Margin in 2016?\"',\n",
        "  'Answer': 26.7735375},\n",
        " {'Question': '\"What is the Air Products and Chemicals\\'s Operating Profit Margin in 2015?\"',\n",
        "  'Answer': 21.88472888},\n",
        " {'Question': '\"What is the Air Products and Chemicals\\'s Operating Profit Margin in 2014?\"',\n",
        "  'Answer': 18.69805075},\n",
        " {'Question': '\"What is the difference of Operating Profit Margin between Air Products and Chemicals in 2016 and International Paper Company in 2006?\"',\n",
        "  'Answer': '17.00441774'},\n",
        " {'Question': '\"What is the average of Operating Profit Margin between Air Products and Chemicals in 2016 and International Paper Company in 2005?\"',\n",
        "  'Answer': '16.68523458'},\n",
        " {'Question': '\"What is the sum of Operating Profit Margin between Air Products and Chemicals in 2016 and International Paper Company in 2004?\"',\n",
        "  'Answer': '33.89336932'},\n",
        " {'Question': '\"Which one\\'s Operating Profit Margin is bigger between Air Products and Chemicals in 2014 and International Paper Company in 2006?\"',\n",
        "  'Answer': 'Air Products and Chemicals'},\n",
        " {'Question': '\"What is the difference of Operating Profit Margin between Air Products and Chemicals in 2015 and International Paper Company in 2006?\"',\n",
        "  'Answer': '12.11560911'},\n",
        " {'Question': '\"What is the average of Operating Profit Margin between Air Products and Chemicals in 2015 and International Paper Company in 2005?\"',\n",
        "  'Answer': '14.24083027'},\n",
        " {'Question': '\"What is the sum of Operating Profit Margin between Air Products and Chemicals in 2015 and International Paper Company in 2004?\"',\n",
        "  'Answer': '29.00456069'},\n",
        " {'Question': '\"Which one\\'s current ratio is bigger between American Tower Corp in 2012 and DISH Network Corporation in 2011?\"',\n",
        "  'Answer': 'American Tower Corp'},\n",
        " {'Question': '\"What is the average of current ratio between American Tower Corp in 2012 and DISH Network Corporation in 2011?\"',\n",
        "  'Answer': '1.786341177'},\n",
        " {'Question': '\"What is the difference of current ratio between American Tower Corp in 2012 and DISH Network Corporation in a year before that?\"',\n",
        "  'Answer': '0.01185521735'},\n",
        " {'Question': '\"What is the Goldman Sachs Group\\'s Total Assets change from 2014 to 2016 multiplied by the average of current ratio between American Tower Corp in 2012 and DISH Network Corporation in 2011?\"',\n",
        "  'Answer': '48722.45 million'},\n",
        " {'Question': '\"What is the Goldman Sachs Group\\'s Total Assets change from 2013 to 2017 multiplied by the average of current ratio between American Tower Corp in 2012 and DISH Network Corporation in 2011?\"',\n",
        "  'Answer': '46296.6 million'},\n",
        " {'Question': '\"What is the sum of Goldman Sachs Group\\'s Total Assets from 2011 to 2014 divided by the average of Operating Profit Margin between Air Products and Chemicals in 2016 and International Paper Company in 2005?',\n",
        "  'Answer': '217529.28 million'},\n",
        " {'Question': '\"What is the sum of Goldman Sachs Group\\'s Total Assets from 2011 to 2014 multiplied by the average of Operating Profit Margin between Air Products and Chemicals in 2015 and International Paper Company in 2005?\"',\n",
        "  'Answer': '51687477.96 million'},\n",
        " {'Question': '\"What is the Goldman Sachs Group\\'s Total Assets change from 2014 to 2016 divided the difference of Operating Profit Margin between Air Products and Chemicals in 2016 and International Paper Company in 2006?\"',\n",
        "  'Answer': '1604 million'},\n",
        " {'Question': '\"What is the Goldman Sachs Group\\'s Total Assets change from 2013 to 2017 dividied the sum of Operating Profit Margin between Air Products and Chemicals in 2016 and International Paper Company in 2004?\"',\n",
        "  'Answer': '764.6 million'},\n",
        " {'Question': '\"What is the difference of Union Pacific Corp\\'s revenue from 2013 to 2016 divided the sum of Operating Profit Margin between Air Products and Chemicals in 2015 and International Paper Company in 2004?\"',\n",
        "  'Answer': '-69.7 million'},\n",
        " {'Question': '\"What is the average of Union Pacific Corp\\'s revenue from 2013 to 2016 divided by the sum of Operating Profit Margin between Air Products and Chemicals in 2015 and International Paper Company in 2004?\"',\n",
        "  'Answer': '755.95 million'},\n",
        " {'Question': '\"What is the difference of Union Pacific Corp\\'s revenue from 2013 to 2016 multiplied by the average of current ratio between American Tower Corp in 2012 and DISH Network Corporation in 2011?\"',\n",
        "  'Answer': '-3611.98 million'},\n",
        " {'Question': '\"What is the average of Union Pacific Corp\\'s revenue from 2013 to 2016 divided by the average of Operating Profit Margin between Air Products and Chemicals in 2015 and International Paper Company in 2005?\"',\n",
        "  'Answer': '1539.67 million'}]"
      ],
      "metadata": {
        "id": "DhGfYElBZruy"
      },
      "execution_count": null,
      "outputs": []
    },
    {
      "cell_type": "code",
      "source": [
        "score_answer_prompt = PromptTemplate(\n",
        "    input_variables=[\"question\", \"answer\", \"response\"],\n",
        "    template=\"\"\"\n",
        "    You have to score the response by comparing with the answer.\n",
        "    You should score 0 or 1 as JSON with \"score\" key.\n",
        "    You can ignore minor difference with the unit or numerical value.\n",
        "    Question: {question}\n",
        "    Answer: {answer}\n",
        "    Response: {response}\n",
        "    Score:\n",
        "\n",
        "    Output JSON: {{\n",
        "      \"score\": <1 if the answer response is meaningfully the same as the answer, 0 if the response is different from the answer>\n",
        "    }}\n",
        "    \"\"\"\n",
        ")\n",
        "\n",
        "from pydantic import BaseModel, Field\n",
        "\n",
        "class Score(BaseModel):\n",
        "    \"\"\"Score of the response\"\"\"\n",
        "    score: int = Field(description=\"score of the response\")\n",
        "\n",
        "score_answer_chain = score_answer_prompt | llm.with_structured_output(Score)"
      ],
      "metadata": {
        "id": "sKBmgzDACWn6"
      },
      "execution_count": null,
      "outputs": []
    },
    {
      "cell_type": "code",
      "source": [
        "score_answer_chain.invoke({'question': qa_dict[0]['Question'], 'answer': qa_dict[0]['Answer'], 'response': 'it is 375 B'}).score"
      ],
      "metadata": {
        "id": "DRHc-NcgDyga"
      },
      "execution_count": null,
      "outputs": []
    },
    {
      "cell_type": "markdown",
      "source": [
        "### Accuracy score"
      ],
      "metadata": {
        "id": "XYG2NV2oHgdA"
      }
    },
    {
      "cell_type": "code",
      "source": [
        "correct = 0\n",
        "for i, item in enumerate(qa_dict):\n",
        "  response = agentic_rag(item['Question'])\n",
        "  correct += score_answer_chain.invoke({'question': item['Question'], 'answer': item['Answer'], 'response': response}).score\n",
        "\n",
        "print(f\"Accuracy: {correct}/{len(qa_dict)}\")"
      ],
      "metadata": {
        "id": "OS7oSulvaC6f"
      },
      "execution_count": null,
      "outputs": []
    }
  ],
  "metadata": {
    "colab": {
      "provenance": []
    },
    "kernelspec": {
      "display_name": "Python 3",
      "name": "python3"
    },
    "language_info": {
      "name": "python"
    }
  },
  "nbformat": 4,
  "nbformat_minor": 0
}