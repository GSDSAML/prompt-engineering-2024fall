{
  "cells": [
    {
      "cell_type": "markdown",
      "source": [
        "# Skeleton Code for the Final Project"
      ],
      "metadata": {
        "id": "19O4MAoFHUjz"
      }
    },
    {
      "cell_type": "markdown",
      "source": [
        "## Environment Setup"
      ],
      "metadata": {
        "id": "JM1XarjUHjqf"
      }
    },
    {
      "cell_type": "code",
      "execution_count": 2,
      "metadata": {
        "colab": {
          "base_uri": "https://localhost:8080/"
        },
        "id": "JnqUcYp07ban",
        "outputId": "cdd2525e-0f42-4aef-c9c9-0e486c3848ff"
      },
      "outputs": [
        {
          "output_type": "stream",
          "name": "stdout",
          "text": [
            "\u001b[?25l     \u001b[90m━━━━━━━━━━━━━━━━━━━━━━━━━━━━━━━━━━━━━━━━\u001b[0m \u001b[32m0.0/67.3 kB\u001b[0m \u001b[31m?\u001b[0m eta \u001b[36m-:--:--\u001b[0m\r\u001b[2K     \u001b[90m━━━━━━━━━━━━━━━━━━━━━━━━━━━━━━━━━━━━━━━━\u001b[0m \u001b[32m67.3/67.3 kB\u001b[0m \u001b[31m1.9 MB/s\u001b[0m eta \u001b[36m0:00:00\u001b[0m\n",
            "\u001b[?25h  Installing build dependencies ... \u001b[?25l\u001b[?25hdone\n",
            "  Getting requirements to build wheel ... \u001b[?25l\u001b[?25hdone\n",
            "  Preparing metadata (pyproject.toml) ... \u001b[?25l\u001b[?25hdone\n",
            "\u001b[2K     \u001b[90m━━━━━━━━━━━━━━━━━━━━━━━━━━━━━━━━━━━━━━━━\u001b[0m \u001b[32m50.6/50.6 kB\u001b[0m \u001b[31m3.1 MB/s\u001b[0m eta \u001b[36m0:00:00\u001b[0m\n",
            "\u001b[2K   \u001b[90m━━━━━━━━━━━━━━━━━━━━━━━━━━━━━━━━━━━━━━━━\u001b[0m \u001b[32m1.0/1.0 MB\u001b[0m \u001b[31m18.3 MB/s\u001b[0m eta \u001b[36m0:00:00\u001b[0m\n",
            "\u001b[2K   \u001b[90m━━━━━━━━━━━━━━━━━━━━━━━━━━━━━━━━━━━━━━━━\u001b[0m \u001b[32m2.4/2.4 MB\u001b[0m \u001b[31m56.1 MB/s\u001b[0m eta \u001b[36m0:00:00\u001b[0m\n",
            "\u001b[2K   \u001b[90m━━━━━━━━━━━━━━━━━━━━━━━━━━━━━━━━━━━━━━━━\u001b[0m \u001b[32m49.9/49.9 kB\u001b[0m \u001b[31m3.2 MB/s\u001b[0m eta \u001b[36m0:00:00\u001b[0m\n",
            "\u001b[2K   \u001b[90m━━━━━━━━━━━━━━━━━━━━━━━━━━━━━━━━━━━━━━━━\u001b[0m \u001b[32m607.0/607.0 kB\u001b[0m \u001b[31m31.1 MB/s\u001b[0m eta \u001b[36m0:00:00\u001b[0m\n",
            "\u001b[2K   \u001b[90m━━━━━━━━━━━━━━━━━━━━━━━━━━━━━━━━━━━━━━━━\u001b[0m \u001b[32m2.4/2.4 MB\u001b[0m \u001b[31m46.2 MB/s\u001b[0m eta \u001b[36m0:00:00\u001b[0m\n",
            "\u001b[2K   \u001b[90m━━━━━━━━━━━━━━━━━━━━━━━━━━━━━━━━━━━━━━━━\u001b[0m \u001b[32m94.6/94.6 kB\u001b[0m \u001b[31m6.3 MB/s\u001b[0m eta \u001b[36m0:00:00\u001b[0m\n",
            "\u001b[2K   \u001b[90m━━━━━━━━━━━━━━━━━━━━━━━━━━━━━━━━━━━━━━━━\u001b[0m \u001b[32m407.7/407.7 kB\u001b[0m \u001b[31m21.0 MB/s\u001b[0m eta \u001b[36m0:00:00\u001b[0m\n",
            "\u001b[2K   \u001b[90m━━━━━━━━━━━━━━━━━━━━━━━━━━━━━━━━━━━━━━━━\u001b[0m \u001b[32m296.9/296.9 kB\u001b[0m \u001b[31m17.7 MB/s\u001b[0m eta \u001b[36m0:00:00\u001b[0m\n",
            "\u001b[2K   \u001b[90m━━━━━━━━━━━━━━━━━━━━━━━━━━━━━━━━━━━━━━━━\u001b[0m \u001b[32m386.9/386.9 kB\u001b[0m \u001b[31m20.3 MB/s\u001b[0m eta \u001b[36m0:00:00\u001b[0m\n",
            "\u001b[2K   \u001b[90m━━━━━━━━━━━━━━━━━━━━━━━━━━━━━━━━━━━━━━━━\u001b[0m \u001b[32m1.2/1.2 MB\u001b[0m \u001b[31m31.2 MB/s\u001b[0m eta \u001b[36m0:00:00\u001b[0m\n",
            "\u001b[2K   \u001b[90m━━━━━━━━━━━━━━━━━━━━━━━━━━━━━━━━━━━━━━━━\u001b[0m \u001b[32m273.8/273.8 kB\u001b[0m \u001b[31m16.0 MB/s\u001b[0m eta \u001b[36m0:00:00\u001b[0m\n",
            "\u001b[2K   \u001b[90m━━━━━━━━━━━━━━━━━━━━━━━━━━━━━━━━━━━━━━━━\u001b[0m \u001b[32m76.4/76.4 kB\u001b[0m \u001b[31m4.2 MB/s\u001b[0m eta \u001b[36m0:00:00\u001b[0m\n",
            "\u001b[2K   \u001b[90m━━━━━━━━━━━━━━━━━━━━━━━━━━━━━━━━━━━━━━━━\u001b[0m \u001b[32m78.0/78.0 kB\u001b[0m \u001b[31m5.2 MB/s\u001b[0m eta \u001b[36m0:00:00\u001b[0m\n",
            "\u001b[2K   \u001b[90m━━━━━━━━━━━━━━━━━━━━━━━━━━━━━━━━━━━━━━━━\u001b[0m \u001b[32m325.2/325.2 kB\u001b[0m \u001b[31m16.7 MB/s\u001b[0m eta \u001b[36m0:00:00\u001b[0m\n",
            "\u001b[2K   \u001b[90m━━━━━━━━━━━━━━━━━━━━━━━━━━━━━━━━━━━━━━━━\u001b[0m \u001b[32m1.9/1.9 MB\u001b[0m \u001b[31m36.3 MB/s\u001b[0m eta \u001b[36m0:00:00\u001b[0m\n",
            "\u001b[2K   \u001b[90m━━━━━━━━━━━━━━━━━━━━━━━━━━━━━━━━━━━━━━━━\u001b[0m \u001b[32m49.5/49.5 kB\u001b[0m \u001b[31m3.1 MB/s\u001b[0m eta \u001b[36m0:00:00\u001b[0m\n",
            "\u001b[2K   \u001b[90m━━━━━━━━━━━━━━━━━━━━━━━━━━━━━━━━━━━━━━━━\u001b[0m \u001b[32m93.2/93.2 kB\u001b[0m \u001b[31m5.2 MB/s\u001b[0m eta \u001b[36m0:00:00\u001b[0m\n",
            "\u001b[2K   \u001b[90m━━━━━━━━━━━━━━━━━━━━━━━━━━━━━━━━━━━━━━━━\u001b[0m \u001b[32m13.2/13.2 MB\u001b[0m \u001b[31m78.0 MB/s\u001b[0m eta \u001b[36m0:00:00\u001b[0m\n",
            "\u001b[2K   \u001b[90m━━━━━━━━━━━━━━━━━━━━━━━━━━━━━━━━━━━━━━━━\u001b[0m \u001b[32m52.5/52.5 kB\u001b[0m \u001b[31m3.5 MB/s\u001b[0m eta \u001b[36m0:00:00\u001b[0m\n",
            "\u001b[2K   \u001b[90m━━━━━━━━━━━━━━━━━━━━━━━━━━━━━━━━━━━━━━━━\u001b[0m \u001b[32m149.7/149.7 kB\u001b[0m \u001b[31m9.4 MB/s\u001b[0m eta \u001b[36m0:00:00\u001b[0m\n",
            "\u001b[2K   \u001b[90m━━━━━━━━━━━━━━━━━━━━━━━━━━━━━━━━━━━━━━━━\u001b[0m \u001b[32m64.0/64.0 kB\u001b[0m \u001b[31m4.0 MB/s\u001b[0m eta \u001b[36m0:00:00\u001b[0m\n",
            "\u001b[2K   \u001b[90m━━━━━━━━━━━━━━━━━━━━━━━━━━━━━━━━━━━━━━━━\u001b[0m \u001b[32m110.5/110.5 kB\u001b[0m \u001b[31m7.5 MB/s\u001b[0m eta \u001b[36m0:00:00\u001b[0m\n",
            "\u001b[2K   \u001b[90m━━━━━━━━━━━━━━━━━━━━━━━━━━━━━━━━━━━━━━━━\u001b[0m \u001b[32m144.5/144.5 kB\u001b[0m \u001b[31m7.7 MB/s\u001b[0m eta \u001b[36m0:00:00\u001b[0m\n",
            "\u001b[2K   \u001b[90m━━━━━━━━━━━━━━━━━━━━━━━━━━━━━━━━━━━━━━━━\u001b[0m \u001b[32m54.4/54.4 kB\u001b[0m \u001b[31m3.4 MB/s\u001b[0m eta \u001b[36m0:00:00\u001b[0m\n",
            "\u001b[2K   \u001b[90m━━━━━━━━━━━━━━━━━━━━━━━━━━━━━━━━━━━━━━━━\u001b[0m \u001b[32m54.5/54.5 kB\u001b[0m \u001b[31m2.8 MB/s\u001b[0m eta \u001b[36m0:00:00\u001b[0m\n",
            "\u001b[2K   \u001b[90m━━━━━━━━━━━━━━━━━━━━━━━━━━━━━━━━━━━━━━━━\u001b[0m \u001b[32m73.2/73.2 kB\u001b[0m \u001b[31m4.2 MB/s\u001b[0m eta \u001b[36m0:00:00\u001b[0m\n",
            "\u001b[2K   \u001b[90m━━━━━━━━━━━━━━━━━━━━━━━━━━━━━━━━━━━━━━━━\u001b[0m \u001b[32m63.7/63.7 kB\u001b[0m \u001b[31m3.7 MB/s\u001b[0m eta \u001b[36m0:00:00\u001b[0m\n",
            "\u001b[2K   \u001b[90m━━━━━━━━━━━━━━━━━━━━━━━━━━━━━━━━━━━━━━━━\u001b[0m \u001b[32m58.3/58.3 kB\u001b[0m \u001b[31m3.3 MB/s\u001b[0m eta \u001b[36m0:00:00\u001b[0m\n",
            "\u001b[2K   \u001b[90m━━━━━━━━━━━━━━━━━━━━━━━━━━━━━━━━━━━━━━━━\u001b[0m \u001b[32m442.1/442.1 kB\u001b[0m \u001b[31m25.7 MB/s\u001b[0m eta \u001b[36m0:00:00\u001b[0m\n",
            "\u001b[2K   \u001b[90m━━━━━━━━━━━━━━━━━━━━━━━━━━━━━━━━━━━━━━━━\u001b[0m \u001b[32m3.8/3.8 MB\u001b[0m \u001b[31m70.9 MB/s\u001b[0m eta \u001b[36m0:00:00\u001b[0m\n",
            "\u001b[2K   \u001b[90m━━━━━━━━━━━━━━━━━━━━━━━━━━━━━━━━━━━━━━━━\u001b[0m \u001b[32m425.7/425.7 kB\u001b[0m \u001b[31m22.8 MB/s\u001b[0m eta \u001b[36m0:00:00\u001b[0m\n",
            "\u001b[2K   \u001b[90m━━━━━━━━━━━━━━━━━━━━━━━━━━━━━━━━━━━━━━━━\u001b[0m \u001b[32m164.1/164.1 kB\u001b[0m \u001b[31m10.8 MB/s\u001b[0m eta \u001b[36m0:00:00\u001b[0m\n",
            "\u001b[2K   \u001b[90m━━━━━━━━━━━━━━━━━━━━━━━━━━━━━━━━━━━━━━━━\u001b[0m \u001b[32m46.0/46.0 kB\u001b[0m \u001b[31m2.7 MB/s\u001b[0m eta \u001b[36m0:00:00\u001b[0m\n",
            "\u001b[2K   \u001b[90m━━━━━━━━━━━━━━━━━━━━━━━━━━━━━━━━━━━━━━━━\u001b[0m \u001b[32m86.8/86.8 kB\u001b[0m \u001b[31m4.4 MB/s\u001b[0m eta \u001b[36m0:00:00\u001b[0m\n",
            "\u001b[?25h  Building wheel for pypika (pyproject.toml) ... \u001b[?25l\u001b[?25hdone\n"
          ]
        }
      ],
      "source": [
        "# Install langchain\n",
        "!pip install --upgrade --quiet  langchain langchain-community langchainhub langchain-openai langchain-chroma bs4"
      ]
    },
    {
      "cell_type": "markdown",
      "source": [
        "### Set API key"
      ],
      "metadata": {
        "id": "AybAbPJsMJFH"
      }
    },
    {
      "cell_type": "code",
      "source": [
        "# Set API key\n",
        "OPENAI_API_KEY=\"your_api_key\""
      ],
      "metadata": {
        "id": "dNgq1RVvMLkh"
      },
      "execution_count": null,
      "outputs": []
    },
    {
      "cell_type": "markdown",
      "source": [
        "### Prepare model"
      ],
      "metadata": {
        "id": "44i0fn9TMQHV"
      }
    },
    {
      "cell_type": "code",
      "execution_count": 4,
      "metadata": {
        "id": "-oDeBNrKkb7l"
      },
      "outputs": [],
      "source": [
        "# Prepare model\n",
        "from langchain_openai import ChatOpenAI\n",
        "\n",
        "llm = ChatOpenAI(model=\"gpt-4o-mini\", temperature=0.0, api_key=OPENAI_API_KEY)"
      ]
    },
    {
      "cell_type": "markdown",
      "source": [
        "## Data Preparation"
      ],
      "metadata": {
        "id": "Nt_8KIg1LulJ"
      }
    },
    {
      "cell_type": "markdown",
      "source": [
        "### Download and unzip backup vector DB\n",
        "\n",
        "*   Source dataset: [FinQA](https://finqasite.github.io/)\n",
        "*   EDA for the FinQA dataset: https://medium.com/@sohilsharma1996/finqa-project-numerical-reasoning-over-financial-data-77a3fb4133d2\n",
        "\n",
        "We will provide the augmented dataset with evaluation code later(~31st Oct.)\n",
        "\n",
        "Then you should build your own vector DB for retrieval."
      ],
      "metadata": {
        "id": "6E-jaNPlP5O6"
      }
    },
    {
      "cell_type": "code",
      "source": [
        "!wget https://github.com/GSDSAML/prompt-engineering-2024fall/raw/refs/heads/main/final_project/db.zip"
      ],
      "metadata": {
        "colab": {
          "base_uri": "https://localhost:8080/"
        },
        "id": "JVDMQIK22yBC",
        "outputId": "36fd2812-6939-431d-f706-b923156d908b"
      },
      "execution_count": 5,
      "outputs": [
        {
          "output_type": "stream",
          "name": "stdout",
          "text": [
            "--2024-10-23 17:30:01--  https://github.com/GSDSAML/prompt-engineering-2024fall/raw/refs/heads/main/final_project/db.zip\n",
            "Resolving github.com (github.com)... 140.82.114.3\n",
            "Connecting to github.com (github.com)|140.82.114.3|:443... connected.\n",
            "HTTP request sent, awaiting response... 302 Found\n",
            "Location: https://raw.githubusercontent.com/GSDSAML/prompt-engineering-2024fall/refs/heads/main/final_project/db.zip [following]\n",
            "--2024-10-23 17:30:02--  https://raw.githubusercontent.com/GSDSAML/prompt-engineering-2024fall/refs/heads/main/final_project/db.zip\n",
            "Resolving raw.githubusercontent.com (raw.githubusercontent.com)... 185.199.110.133, 185.199.111.133, 185.199.109.133, ...\n",
            "Connecting to raw.githubusercontent.com (raw.githubusercontent.com)|185.199.110.133|:443... connected.\n",
            "HTTP request sent, awaiting response... 200 OK\n",
            "Length: 91090068 (87M) [application/zip]\n",
            "Saving to: ‘db.zip’\n",
            "\n",
            "db.zip              100%[===================>]  86.87M   122MB/s    in 0.7s    \n",
            "\n",
            "2024-10-23 17:30:03 (122 MB/s) - ‘db.zip’ saved [91090068/91090068]\n",
            "\n"
          ]
        }
      ]
    },
    {
      "cell_type": "code",
      "source": [
        "!unzip db.zip"
      ],
      "metadata": {
        "colab": {
          "base_uri": "https://localhost:8080/"
        },
        "id": "3jbbxmA_LsOi",
        "outputId": "7bb42cab-3c55-4884-bd21-35123481da6d"
      },
      "execution_count": 6,
      "outputs": [
        {
          "output_type": "stream",
          "name": "stdout",
          "text": [
            "Archive:  db.zip\n",
            "   creating: db/\n",
            "  inflating: db/chroma.sqlite3       \n",
            "   creating: db/c52496c4-34d2-4e9a-a78e-3c563b0247ff/\n",
            "  inflating: db/c52496c4-34d2-4e9a-a78e-3c563b0247ff/data_level0.bin  \n",
            "  inflating: db/c52496c4-34d2-4e9a-a78e-3c563b0247ff/header.bin  \n",
            "  inflating: db/c52496c4-34d2-4e9a-a78e-3c563b0247ff/index_metadata.pickle  \n",
            "  inflating: db/c52496c4-34d2-4e9a-a78e-3c563b0247ff/length.bin  \n",
            "  inflating: db/c52496c4-34d2-4e9a-a78e-3c563b0247ff/link_lists.bin  \n"
          ]
        }
      ]
    },
    {
      "cell_type": "markdown",
      "source": [
        "### Fiscal year end date dictionary\n",
        "\n",
        "Collected from SEC EDGAR\n",
        "\n",
        "Dictionary with Key(ticker): Value(Fiscal year end date)\n",
        "\n",
        "Actually, the date may different every year, but we will use this for now."
      ],
      "metadata": {
        "id": "TygXV4kiPoSe"
      }
    },
    {
      "cell_type": "code",
      "source": [
        "company_fiscal_year_end = {'GIS': '0530', 'FRT': '1231', 'MMM': '1231', 'K': '1228', 'INTC': '1228', 'CAG': '0525', 'MSI': '1231', 'FIS': '1231', 'CCI': '1231', 'CDW': '1231', 'GPN': '1231', 'TMUS': '1231', 'D': '1231', 'KMI': '1231', 'NTAP': '0426', 'TSCO': '1230', 'BLK': '1231', 'CNC': '1231', 'MRK': '1231', 'JKHY': '0630', 'VTR': '1231', 'GRMN': '1228', 'AMT': '1231', 'MAR': '1231', 'HIG': '1231', 'ADI': '1102', 'ILMN': '1229', 'NKE': '0531', 'VNO': '1231', 'FITB': '1231', 'ETR': '1231', 'KIM': '1231', 'AMAT': '1027', 'OKE': '1231', 'DG': '0131', 'TFX': '1231', 'AAL': '1231', 'EXPD': '1231', 'V': '0930', 'REGN': '1231', 'PPG': '1231', 'RCL': '1231', 'VLO': '1231', 'KHC': '1228', 'HUM': '1231', 'WELL': '1231', 'ALLE': '1231', 'UNP': '1231', 'LLY': '1231', 'TXN': '1231', 'GS': '1231', 'LKQ': '1231', 'SYY': '0629', 'IPG': '1231', 'AAP': '1228', 'ECL': '1231', 'MKTX': '1231', 'C': '1231', 'ZBH': '1231', 'UAA': '0331', 'MRO': '1231', 'AON': '1231', 'SPGI': '1231', 'ORLY': '1231', 'MO': '1231', 'PM': '1231', 'BKNG': '1231', 'BKR': '1231', 'AWK': '1231', 'APTV': '1231', 'WRK': '0930', 'SWKS': '0927', 'CMCSA': '1231', 'CE': '1231', 'CB': '1231', 'WMT': '0131', 'STT': '1231', 'RSG': '1231', 'AOS': '1231', 'AAPL': '0928', 'EXR': '1231', 'UA': '0331', 'CME': '1231', 'HII': '1231', 'HOLX': '0928', 'SLB': '1231', 'EW': '1231', 'EMR': '0930', 'VRTX': '1231', 'APD': '0930', 'ADBE': '1129', 'CAT': '1231', 'PNC': '1231', 'MAA': '1231', 'AES': '1231', 'SNA': '1228', 'JPM': '1231', 'NCLH': '1231', 'PKG': '1231', 'TROW': '1231', 'HST': '1231', 'NWS': '0630', 'MA': '1231', 'DVN': '1231', 'ANSS': '1231', 'ANET': '1231', 'SNPS': '1031', 'RL': '0328', 'DISH': '1231', 'HWM': '1231', 'FTV': '1231', 'L': '1231', 'LMT': '1231', 'MAS': '1231', 'STZ': '0228', 'EMN': '1231', 'CDNS': '1231', 'EL': '0630', 'SLG': '1231', 'BDX': '0930', 'UPS': '1231', 'MS': '1231', 'IQV': '1231', 'IP': '1231', 'EOG': '1231'}"
      ],
      "metadata": {
        "id": "g8rLfgccqo4h"
      },
      "execution_count": 7,
      "outputs": []
    },
    {
      "cell_type": "markdown",
      "source": [
        "## Define Tools"
      ],
      "metadata": {
        "id": "ZNZo8fc5P0Ea"
      }
    },
    {
      "cell_type": "markdown",
      "source": [
        "### LangChain Tool Use Example\n",
        "\n",
        "List of pre-defined tools in LangChain: https://python.langchain.com/docs/integrations/tools/"
      ],
      "metadata": {
        "id": "dn7_THCzRWY7"
      }
    },
    {
      "cell_type": "code",
      "source": [
        "from langchain_core.tools import tool\n",
        "\n",
        "\n",
        "@tool\n",
        "def multiply(a: int, b: int) -> int:\n",
        "    \"\"\"Multiply two numbers.\"\"\"\n",
        "    return a * b\n",
        "\n",
        "\n",
        "# Let's inspect some of the attributes associated with the tool.\n",
        "print(multiply.name)\n",
        "print(multiply.description)\n",
        "print(multiply.args)\n",
        "\n",
        "@tool\n",
        "def add(a: int, b: int) -> int:\n",
        "    \"\"\"Add two integers.\"\"\"\n",
        "    return a + b\n",
        "\n",
        "print(add.name)\n",
        "print(add.description)\n",
        "print(add.args)"
      ],
      "metadata": {
        "id": "MdLyOCHIdEbt",
        "colab": {
          "base_uri": "https://localhost:8080/"
        },
        "outputId": "3d248d03-aa9a-4a74-b2c9-9594d5fff740"
      },
      "execution_count": 215,
      "outputs": [
        {
          "output_type": "stream",
          "name": "stdout",
          "text": [
            "multiply\n",
            "Multiply two numbers.\n",
            "{'a': {'title': 'A', 'type': 'integer'}, 'b': {'title': 'B', 'type': 'integer'}}\n",
            "add\n",
            "Add two integers.\n",
            "{'a': {'title': 'A', 'type': 'integer'}, 'b': {'title': 'B', 'type': 'integer'}}\n"
          ]
        }
      ]
    },
    {
      "cell_type": "code",
      "source": [
        "tools = [add, multiply]"
      ],
      "metadata": {
        "id": "NpFIzwndaQtg"
      },
      "execution_count": 216,
      "outputs": []
    },
    {
      "cell_type": "code",
      "source": [
        "llm_with_tools = llm.bind_tools(tools)\n",
        "\n",
        "query = \"What is 3 * 12?\"\n",
        "\n",
        "llm_with_tools.invoke(query).tool_calls"
      ],
      "metadata": {
        "colab": {
          "base_uri": "https://localhost:8080/"
        },
        "id": "mp1jDdlbdYa-",
        "outputId": "59520ada-42e3-4efc-8894-a05ffef1e5f2"
      },
      "execution_count": 217,
      "outputs": [
        {
          "output_type": "execute_result",
          "data": {
            "text/plain": [
              "[{'name': 'multiply',\n",
              "  'args': {'a': 3, 'b': 12},\n",
              "  'id': 'call_P7RZURkNGgCugW0IMl4uC0tU',\n",
              "  'type': 'tool_call'}]"
            ]
          },
          "metadata": {},
          "execution_count": 217
        }
      ]
    },
    {
      "cell_type": "code",
      "source": [
        "from langchain_core.messages import HumanMessage\n",
        "\n",
        "query = \"What is 3 * 12? Also, what is 11 + 49?\"\n",
        "\n",
        "messages = [HumanMessage(query)]\n",
        "\n",
        "ai_msg = llm_with_tools.invoke(messages)\n",
        "\n",
        "print(ai_msg.tool_calls)\n",
        "\n",
        "messages.append(ai_msg)"
      ],
      "metadata": {
        "colab": {
          "base_uri": "https://localhost:8080/"
        },
        "id": "QTbFn1r3R2wH",
        "outputId": "d6e7ad51-9696-488a-e789-f813c686b661"
      },
      "execution_count": 221,
      "outputs": [
        {
          "output_type": "stream",
          "name": "stdout",
          "text": [
            "[{'name': 'multiply', 'args': {'a': 3, 'b': 12}, 'id': 'call_6S3NdO7nPNREYC1PpJI3GXIJ', 'type': 'tool_call'}, {'name': 'add', 'args': {'a': 11, 'b': 49}, 'id': 'call_fmZ5xe7lRpcXNtY8OP9mlydw', 'type': 'tool_call'}]\n"
          ]
        }
      ]
    },
    {
      "cell_type": "code",
      "source": [
        "for tool_call in ai_msg.tool_calls:\n",
        "    selected_tool = {\"add\": add, \"multiply\": multiply}[tool_call[\"name\"].lower()]\n",
        "    tool_msg = selected_tool.invoke(tool_call)\n",
        "    messages.append(tool_msg)\n",
        "\n",
        "messages"
      ],
      "metadata": {
        "colab": {
          "base_uri": "https://localhost:8080/"
        },
        "id": "EavFjCRGSfRz",
        "outputId": "7bed12b3-a321-42ed-ac9e-072b3a5f1ced"
      },
      "execution_count": 222,
      "outputs": [
        {
          "output_type": "execute_result",
          "data": {
            "text/plain": [
              "[HumanMessage(content='What is 3 * 12? Also, what is 11 + 49?', additional_kwargs={}, response_metadata={}),\n",
              " AIMessage(content='', additional_kwargs={'tool_calls': [{'id': 'call_6S3NdO7nPNREYC1PpJI3GXIJ', 'function': {'arguments': '{\"a\": 3, \"b\": 12}', 'name': 'multiply'}, 'type': 'function'}, {'id': 'call_fmZ5xe7lRpcXNtY8OP9mlydw', 'function': {'arguments': '{\"a\": 11, \"b\": 49}', 'name': 'add'}, 'type': 'function'}], 'refusal': None}, response_metadata={'token_usage': {'completion_tokens': 50, 'prompt_tokens': 83, 'total_tokens': 133, 'completion_tokens_details': {'audio_tokens': None, 'reasoning_tokens': 0}, 'prompt_tokens_details': {'audio_tokens': None, 'cached_tokens': 0}}, 'model_name': 'gpt-4o-mini-2024-07-18', 'system_fingerprint': 'fp_482c22a7bc', 'finish_reason': 'tool_calls', 'logprobs': None}, id='run-8266bde4-cba4-4104-af87-e193fe88fbde-0', tool_calls=[{'name': 'multiply', 'args': {'a': 3, 'b': 12}, 'id': 'call_6S3NdO7nPNREYC1PpJI3GXIJ', 'type': 'tool_call'}, {'name': 'add', 'args': {'a': 11, 'b': 49}, 'id': 'call_fmZ5xe7lRpcXNtY8OP9mlydw', 'type': 'tool_call'}], usage_metadata={'input_tokens': 83, 'output_tokens': 50, 'total_tokens': 133, 'input_token_details': {'cache_read': 0}, 'output_token_details': {'reasoning': 0}}),\n",
              " ToolMessage(content='36', name='multiply', tool_call_id='call_6S3NdO7nPNREYC1PpJI3GXIJ'),\n",
              " ToolMessage(content='60', name='add', tool_call_id='call_fmZ5xe7lRpcXNtY8OP9mlydw')]"
            ]
          },
          "metadata": {},
          "execution_count": 222
        }
      ]
    },
    {
      "cell_type": "code",
      "source": [
        "llm_with_tools.invoke(messages).content"
      ],
      "metadata": {
        "colab": {
          "base_uri": "https://localhost:8080/",
          "height": 36
        },
        "id": "4OW5A9F9SgVv",
        "outputId": "54704a26-e7e0-49ef-8049-f2f764b64162"
      },
      "execution_count": 223,
      "outputs": [
        {
          "output_type": "execute_result",
          "data": {
            "text/plain": [
              "'The result of \\\\(3 \\\\times 12\\\\) is 36, and the result of \\\\(11 + 49\\\\) is 60.'"
            ],
            "application/vnd.google.colaboratory.intrinsic+json": {
              "type": "string"
            }
          },
          "metadata": {},
          "execution_count": 223
        }
      ]
    },
    {
      "cell_type": "markdown",
      "source": [
        "### Extract fiscal tool"
      ],
      "metadata": {
        "id": "8WJZgyasgOO-"
      }
    },
    {
      "cell_type": "code",
      "source": [
        "company_fiscal_year_end"
      ],
      "metadata": {
        "id": "7f4Gox8K--TB",
        "colab": {
          "base_uri": "https://localhost:8080/"
        },
        "collapsed": true,
        "outputId": "f1f56b60-11cf-45e6-8087-dcb5cc2ef7c6"
      },
      "execution_count": 224,
      "outputs": [
        {
          "output_type": "execute_result",
          "data": {
            "text/plain": [
              "{'GIS': '0530',\n",
              " 'FRT': '1231',\n",
              " 'MMM': '1231',\n",
              " 'K': '1228',\n",
              " 'INTC': '1228',\n",
              " 'CAG': '0525',\n",
              " 'MSI': '1231',\n",
              " 'FIS': '1231',\n",
              " 'CCI': '1231',\n",
              " 'CDW': '1231',\n",
              " 'GPN': '1231',\n",
              " 'TMUS': '1231',\n",
              " 'D': '1231',\n",
              " 'KMI': '1231',\n",
              " 'NTAP': '0426',\n",
              " 'TSCO': '1230',\n",
              " 'BLK': '1231',\n",
              " 'CNC': '1231',\n",
              " 'MRK': '1231',\n",
              " 'JKHY': '0630',\n",
              " 'VTR': '1231',\n",
              " 'GRMN': '1228',\n",
              " 'AMT': '1231',\n",
              " 'MAR': '1231',\n",
              " 'HIG': '1231',\n",
              " 'ADI': '1102',\n",
              " 'ILMN': '1229',\n",
              " 'NKE': '0531',\n",
              " 'VNO': '1231',\n",
              " 'FITB': '1231',\n",
              " 'ETR': '1231',\n",
              " 'KIM': '1231',\n",
              " 'AMAT': '1027',\n",
              " 'OKE': '1231',\n",
              " 'DG': '0131',\n",
              " 'TFX': '1231',\n",
              " 'AAL': '1231',\n",
              " 'EXPD': '1231',\n",
              " 'V': '0930',\n",
              " 'REGN': '1231',\n",
              " 'PPG': '1231',\n",
              " 'RCL': '1231',\n",
              " 'VLO': '1231',\n",
              " 'KHC': '1228',\n",
              " 'HUM': '1231',\n",
              " 'WELL': '1231',\n",
              " 'ALLE': '1231',\n",
              " 'UNP': '1231',\n",
              " 'LLY': '1231',\n",
              " 'TXN': '1231',\n",
              " 'GS': '1231',\n",
              " 'LKQ': '1231',\n",
              " 'SYY': '0629',\n",
              " 'IPG': '1231',\n",
              " 'AAP': '1228',\n",
              " 'ECL': '1231',\n",
              " 'MKTX': '1231',\n",
              " 'C': '1231',\n",
              " 'ZBH': '1231',\n",
              " 'UAA': '0331',\n",
              " 'MRO': '1231',\n",
              " 'AON': '1231',\n",
              " 'SPGI': '1231',\n",
              " 'ORLY': '1231',\n",
              " 'MO': '1231',\n",
              " 'PM': '1231',\n",
              " 'BKNG': '1231',\n",
              " 'BKR': '1231',\n",
              " 'AWK': '1231',\n",
              " 'APTV': '1231',\n",
              " 'WRK': '0930',\n",
              " 'SWKS': '0927',\n",
              " 'CMCSA': '1231',\n",
              " 'CE': '1231',\n",
              " 'CB': '1231',\n",
              " 'WMT': '0131',\n",
              " 'STT': '1231',\n",
              " 'RSG': '1231',\n",
              " 'AOS': '1231',\n",
              " 'AAPL': '0928',\n",
              " 'EXR': '1231',\n",
              " 'UA': '0331',\n",
              " 'CME': '1231',\n",
              " 'HII': '1231',\n",
              " 'HOLX': '0928',\n",
              " 'SLB': '1231',\n",
              " 'EW': '1231',\n",
              " 'EMR': '0930',\n",
              " 'VRTX': '1231',\n",
              " 'APD': '0930',\n",
              " 'ADBE': '1129',\n",
              " 'CAT': '1231',\n",
              " 'PNC': '1231',\n",
              " 'MAA': '1231',\n",
              " 'AES': '1231',\n",
              " 'SNA': '1228',\n",
              " 'JPM': '1231',\n",
              " 'NCLH': '1231',\n",
              " 'PKG': '1231',\n",
              " 'TROW': '1231',\n",
              " 'HST': '1231',\n",
              " 'NWS': '0630',\n",
              " 'MA': '1231',\n",
              " 'DVN': '1231',\n",
              " 'ANSS': '1231',\n",
              " 'ANET': '1231',\n",
              " 'SNPS': '1031',\n",
              " 'RL': '0328',\n",
              " 'DISH': '1231',\n",
              " 'HWM': '1231',\n",
              " 'FTV': '1231',\n",
              " 'L': '1231',\n",
              " 'LMT': '1231',\n",
              " 'MAS': '1231',\n",
              " 'STZ': '0228',\n",
              " 'EMN': '1231',\n",
              " 'CDNS': '1231',\n",
              " 'EL': '0630',\n",
              " 'SLG': '1231',\n",
              " 'BDX': '0930',\n",
              " 'UPS': '1231',\n",
              " 'MS': '1231',\n",
              " 'IQV': '1231',\n",
              " 'IP': '1231',\n",
              " 'EOG': '1231'}"
            ]
          },
          "metadata": {},
          "execution_count": 224
        }
      ]
    },
    {
      "cell_type": "markdown",
      "source": [
        "Extract company ticker from the question\n",
        "\n",
        "We implemented using only LLM for now, but we may need to connect DB for stability later."
      ],
      "metadata": {
        "id": "t-ARd27WTqwy"
      }
    },
    {
      "cell_type": "code",
      "source": [
        "from langchain_core.prompts import PromptTemplate\n",
        "\n",
        "extract_ticker_prompt = PromptTemplate(\n",
        "    input_variables=[\"question\"],\n",
        "    template=\"\"\"\n",
        "    You have to extract the company name in the given question, and answer the ticker of the company.\n",
        "    Answer in JSON format, with 'ticker' key.\n",
        "\n",
        "    Question: {question}\n",
        "\n",
        "    Output JSON: {{\n",
        "      \"ticker\": \"<ticker of the company>\"\n",
        "    }}\n",
        "    \"\"\"\n",
        ")\n",
        "\n",
        "from pydantic import BaseModel, Field\n",
        "\n",
        "class Ticker(BaseModel):\n",
        "    \"\"\"Ticker of the company in the given question\"\"\"\n",
        "    ticker: str = Field(description=\"ticker of the company\")\n",
        "\n",
        "extract_ticker_chain = extract_ticker_prompt | llm.with_structured_output(Ticker)"
      ],
      "metadata": {
        "id": "UfyesW-YAlD-"
      },
      "execution_count": 8,
      "outputs": []
    },
    {
      "cell_type": "code",
      "source": [
        "extract_ticker_chain.invoke({\"question\": \"What was the revenue of Apple in 2022?\"})"
      ],
      "metadata": {
        "colab": {
          "base_uri": "https://localhost:8080/"
        },
        "id": "aYHiFpRCAmql",
        "outputId": "fdacada4-1952-491d-890c-70cbc60c416f"
      },
      "execution_count": 9,
      "outputs": [
        {
          "output_type": "execute_result",
          "data": {
            "text/plain": [
              "Ticker(ticker='AAPL')"
            ]
          },
          "metadata": {},
          "execution_count": 9
        }
      ]
    },
    {
      "cell_type": "code",
      "source": [
        "from langchain_core.output_parsers import StrOutputParser\n",
        "from datetime import datetime\n",
        "\n",
        "parser = StrOutputParser()\n",
        "\n",
        "change_prompt = PromptTemplate(\n",
        "    input_variables=[\"original_question\", \"fiscal_info\", \"today\"],\n",
        "    template=\"\"\"\n",
        "    You have to convert relative time information in the given original question to the fiscal year of the company.\n",
        "    Use the fiscal end date to convert to fiscal year.\n",
        "    Answer only the converted question.\n",
        "\n",
        "    Original question: {original_question}\n",
        "    Fiscal end date for the company: {fiscal_info}\n",
        "    Today date: {today}\n",
        "    \"\"\"\n",
        ")\n",
        "\n",
        "convert_chain = change_prompt | llm | parser\n",
        "\n",
        "def get_fiscal_info_with_ticker(ticker: str) -> str:\n",
        "    \"\"\"Get fiscal year information of the company with ticker string.\"\"\"\n",
        "    ticker = ticker.upper()\n",
        "    if ticker in company_fiscal_year_end:\n",
        "      end_date = company_fiscal_year_end[ticker]\n",
        "      return end_date[:2] + '-' + end_date[2:]\n",
        "    else:\n",
        "      return '12-31'\n",
        "\n",
        "extract_fiscal_prompt = PromptTemplate(\n",
        "    input_variables=[\"question\"],\n",
        "    template=\"\"\"\n",
        "    You have to extract the fiscal year in the given question.\n",
        "    Answer in JSON format, with 'fy' key.\n",
        "\n",
        "    Question: {question}\n",
        "\n",
        "    Output JSON: {{\n",
        "      \"fy\": <fiscal year in the question>\n",
        "    }}\n",
        "    \"\"\"\n",
        ")\n",
        "\n",
        "from pydantic import BaseModel, Field\n",
        "\n",
        "class FiscalYear(BaseModel):\n",
        "    \"\"\"FiscalYear mentioned in the given question\"\"\"\n",
        "    fy: int = Field(description=\"fiscal year in the question\")\n",
        "\n",
        "extract_fiscal_chain = extract_fiscal_prompt | llm.with_structured_output(FiscalYear)"
      ],
      "metadata": {
        "id": "nIm_nhmfoIWP"
      },
      "execution_count": 10,
      "outputs": []
    },
    {
      "cell_type": "code",
      "source": [
        "from langchain_core.tools import tool\n",
        "\n",
        "@tool\n",
        "def rewrite2fiscal(question: str) -> tuple[str, int]:\n",
        "  \"\"\"Extract the company and convert relative time information in the question to the actual fiscal year of the company.\n",
        "     It uses today function for the date information.\n",
        "\n",
        "    Args:\n",
        "        question: Question to be extracted.\n",
        "\n",
        "    Returns:\n",
        "        A tuple of ticker of the company and the fiscal year\n",
        "  \"\"\"\n",
        "  ticker = extract_ticker_chain.invoke({\"question\": question}).ticker\n",
        "  today = datetime.now().strftime(\"%Y-%m-%d\")\n",
        "  response = convert_chain.invoke({\"original_question\": question, \"fiscal_info\": get_fiscal_info_with_ticker(ticker), \"today\": today})\n",
        "  fy = extract_fiscal_chain.invoke({'question': response}).fy\n",
        "  return ticker, fy"
      ],
      "metadata": {
        "id": "xdpBeMeRUy8J"
      },
      "execution_count": 16,
      "outputs": []
    },
    {
      "cell_type": "code",
      "source": [
        "rewrite2fiscal(\"What was the revenue of Apple in 2023-07-10?\")"
      ],
      "metadata": {
        "colab": {
          "base_uri": "https://localhost:8080/"
        },
        "id": "3GOj-6lcKivd",
        "outputId": "05d3add7-7bf6-4b80-d724-4275fb957b03"
      },
      "execution_count": 12,
      "outputs": [
        {
          "output_type": "stream",
          "name": "stderr",
          "text": [
            "<ipython-input-12-572a0c605e94>:1: LangChainDeprecationWarning: The method `BaseTool.__call__` was deprecated in langchain-core 0.1.47 and will be removed in 1.0. Use :meth:`~invoke` instead.\n",
            "  rewrite2fiscal(\"What was the revenue of Apple in 2023-07-10?\")\n"
          ]
        },
        {
          "output_type": "stream",
          "name": "stdout",
          "text": [
            "09-28\n"
          ]
        },
        {
          "output_type": "execute_result",
          "data": {
            "text/plain": [
              "('AAPL', 2023)"
            ]
          },
          "metadata": {},
          "execution_count": 12
        }
      ]
    },
    {
      "cell_type": "code",
      "source": [
        "rewrite2fiscal(\"What was the revenue of Apple in 2023-12-20?\")"
      ],
      "metadata": {
        "colab": {
          "base_uri": "https://localhost:8080/"
        },
        "id": "keuaxuI3Ayr7",
        "outputId": "c8b0a317-e508-4b95-e317-525e3541810e"
      },
      "execution_count": 13,
      "outputs": [
        {
          "output_type": "stream",
          "name": "stdout",
          "text": [
            "09-28\n"
          ]
        },
        {
          "output_type": "execute_result",
          "data": {
            "text/plain": [
              "('AAPL', 2024)"
            ]
          },
          "metadata": {},
          "execution_count": 13
        }
      ]
    },
    {
      "cell_type": "code",
      "source": [
        "rewrite2fiscal(\"What was the revenue of Apple in last year?\")"
      ],
      "metadata": {
        "colab": {
          "base_uri": "https://localhost:8080/"
        },
        "id": "X42RHclaBmxQ",
        "outputId": "1ff3a6e8-f700-40df-b0b6-58f36192d5bc"
      },
      "execution_count": 14,
      "outputs": [
        {
          "output_type": "stream",
          "name": "stdout",
          "text": [
            "09-28\n"
          ]
        },
        {
          "output_type": "execute_result",
          "data": {
            "text/plain": [
              "('AAPL', 2023)"
            ]
          },
          "metadata": {},
          "execution_count": 14
        }
      ]
    },
    {
      "cell_type": "code",
      "source": [
        "rewrite2fiscal(\"What was the revenue of Apple in this year?\")"
      ],
      "metadata": {
        "colab": {
          "base_uri": "https://localhost:8080/"
        },
        "id": "gPtNMB8QKzsF",
        "outputId": "5bff44df-7c3e-447c-b4d8-42b9235d1367"
      },
      "execution_count": 15,
      "outputs": [
        {
          "output_type": "stream",
          "name": "stdout",
          "text": [
            "09-28\n"
          ]
        },
        {
          "output_type": "execute_result",
          "data": {
            "text/plain": [
              "('AAPL', 2024)"
            ]
          },
          "metadata": {},
          "execution_count": 15
        }
      ]
    },
    {
      "cell_type": "markdown",
      "source": [
        "### Domain specific calulation tools\n",
        "\n",
        "You should implement more tools to answer complex questions."
      ],
      "metadata": {
        "id": "5EwXgvdOgSCa"
      }
    },
    {
      "cell_type": "code",
      "source": [
        "@tool\n",
        "def calculate_eps(net_income: float, outstanding_shares: int):\n",
        "  \"\"\"Calculate the EPS of the company using net income and outstanding share\n",
        "\n",
        "   Args:\n",
        "        net_income: Net income value of the company\n",
        "        outstanding_shares: Total stock held by the company's shareholders\n",
        "\n",
        "    Returns:\n",
        "        EPS value\n",
        "  \"\"\"\n",
        "  if (net_income is None) or (outstanding_shares is None):\n",
        "    print(\"Give me the net income and outstanding shares first\")\n",
        "    return None\n",
        "  elif outstanding_shares == 0:\n",
        "    print(\"Outstanding shares cannot be zero\")\n",
        "    return None\n",
        "\n",
        "  return net_income / outstanding_shares"
      ],
      "metadata": {
        "id": "JfPNAZqoXSs3"
      },
      "execution_count": 17,
      "outputs": []
    },
    {
      "cell_type": "code",
      "source": [
        "@tool\n",
        "def calculate_cashflowfromoperations(net_income: float, non_cash_items: float, changes_in_working_capital: float):\n",
        "  \"\"\"Calculate the cash flow from operations of the company using net income, non cash items and change in working capital\n",
        "\n",
        "   Args:\n",
        "        net_income: Net income value of the company\n",
        "        non_cash_items: Financial transactions or events that are recorded in a company's financial statements but do not involve the exchange of cash\n",
        "        changes_in_working_capital: Difference in a company's working capital between two reporting periods\n",
        "\n",
        "    Returns:\n",
        "        Value of cash flow from operations\n",
        "  \"\"\"\n",
        "  if (net_income is None) or (non_cash_items is None) or (changes_in_working_capital is None):\n",
        "    print(\"Give me the net income, non cash items and change in working capital data first\")\n",
        "    return None\n",
        "\n",
        "  return net_income + non_cash_items + changes_in_working_capital"
      ],
      "metadata": {
        "id": "iSkRYRoqW_XO"
      },
      "execution_count": 18,
      "outputs": []
    },
    {
      "cell_type": "markdown",
      "source": [
        "### Retriever Tool"
      ],
      "metadata": {
        "id": "jWWgAEIiY3wu"
      }
    },
    {
      "cell_type": "markdown",
      "source": [
        "#### Build Vector DB\n",
        "\n",
        "You can skip this part for demo."
      ],
      "metadata": {
        "id": "_4wIVPe47efF"
      }
    },
    {
      "cell_type": "code",
      "source": [
        "from langchain.text_splitter import RecursiveCharacterTextSplitter\n",
        "from langchain.embeddings.openai import OpenAIEmbeddings\n",
        "from langchain.vectorstores import Chroma\n",
        "\n",
        "splitter = RecursiveCharacterTextSplitter(chunk_size=1000, chunk_overlap=0)\n",
        "\n",
        "embeddings = OpenAIEmbeddings(model='text-embedding-3-small',api_key=OPENAI_API_KEY)\n",
        "\n",
        "# Assuming 'distinct_items_with_context' is a dictionary as shown in your code\n",
        "for filename, context_data in distinct_items_with_context.items():\n",
        "    pre_text = merge_text_list(context_data['pre_text'])\n",
        "    post_text = merge_text_list(context_data['post_text'])\n",
        "    table = context_data['table']\n",
        "\n",
        "    # Split the pre-text and post-text into smaller chunks\n",
        "    pre_text_chunks = splitter.split_text(pre_text)\n",
        "    post_text_chunks = splitter.split_text(post_text)\n",
        "\n",
        "    # Create a list of texts to store in the vector DB\n",
        "    texts_for_db = []\n",
        "    metadatas_for_db = []\n",
        "\n",
        "    # Add pre-text chunks\n",
        "    for chunk in pre_text_chunks:\n",
        "        texts_for_db.append(chunk)\n",
        "        metadatas_for_db.append({'company': filename.split('/')[0], 'fiscal': int(filename.split('/')[1]), 'context_type': 'pre_text'})\n",
        "\n",
        "    # Add table\n",
        "    if table:\n",
        "        texts_for_db.append(table)\n",
        "        metadatas_for_db.append({'company': filename.split('/')[0], 'fiscal': int(filename.split('/')[1]), 'context_type': 'table'})\n",
        "\n",
        "    # Add post-text chunks\n",
        "    for chunk in post_text_chunks:\n",
        "        texts_for_db.append(chunk)\n",
        "        metadatas_for_db.append({'company': filename.split('/')[0], 'fiscal': int(filename.split('/')[1]), 'context_type': 'post_text'})\n",
        "\n",
        "\n",
        "    # Create the vector database for each file\n",
        "    docsearch = Chroma.from_texts(texts_for_db, embeddings, metadatas=metadatas_for_db, persist_directory=\"./db\")"
      ],
      "metadata": {
        "id": "0mseZMcxRXPJ"
      },
      "execution_count": 133,
      "outputs": []
    },
    {
      "cell_type": "code",
      "source": [
        "docsearch.persist()"
      ],
      "metadata": {
        "id": "UWcWY1lOTJbg",
        "colab": {
          "base_uri": "https://localhost:8080/"
        },
        "outputId": "10b59ffe-6f43-4c14-f711-8105f14418aa"
      },
      "execution_count": 134,
      "outputs": [
        {
          "output_type": "stream",
          "name": "stderr",
          "text": [
            "<ipython-input-134-2ebc4a538f4a>:1: LangChainDeprecationWarning: Since Chroma 0.4.x the manual persistence method is no longer supported as docs are automatically persisted.\n",
            "  docsearch.persist()\n"
          ]
        }
      ]
    },
    {
      "cell_type": "code",
      "source": [
        "!zip -r ./db.zip ./db"
      ],
      "metadata": {
        "id": "4w5q5cW_gBDe",
        "colab": {
          "base_uri": "https://localhost:8080/"
        },
        "outputId": "67b9894b-36c0-42b5-deeb-1551bf8f0dde"
      },
      "execution_count": 135,
      "outputs": [
        {
          "output_type": "stream",
          "name": "stdout",
          "text": [
            "  adding: db/ (stored 0%)\n",
            "  adding: db/chroma.sqlite3 (deflated 62%)\n",
            "  adding: db/c52496c4-34d2-4e9a-a78e-3c563b0247ff/ (stored 0%)\n",
            "  adding: db/c52496c4-34d2-4e9a-a78e-3c563b0247ff/data_level0.bin (deflated 17%)\n",
            "  adding: db/c52496c4-34d2-4e9a-a78e-3c563b0247ff/header.bin (deflated 54%)\n",
            "  adding: db/c52496c4-34d2-4e9a-a78e-3c563b0247ff/index_metadata.pickle (deflated 43%)\n",
            "  adding: db/c52496c4-34d2-4e9a-a78e-3c563b0247ff/length.bin (deflated 18%)\n",
            "  adding: db/c52496c4-34d2-4e9a-a78e-3c563b0247ff/link_lists.bin (deflated 79%)\n"
          ]
        }
      ]
    },
    {
      "cell_type": "code",
      "source": [
        "query = \"What was the revenue of Apple in 2012?\"\n",
        "docs = docsearch.similarity_search(query)\n",
        "\n",
        "for doc in docs:\n",
        "  print(doc.page_content)\n",
        "  print(doc.metadata)\n",
        "  print('--------------')"
      ],
      "metadata": {
        "id": "Id9ZfhizggtP",
        "colab": {
          "base_uri": "https://localhost:8080/"
        },
        "outputId": "a807e62d-adad-4279-f155-1ded920d395c"
      },
      "execution_count": 258,
      "outputs": [
        {
          "output_type": "stream",
          "name": "stdout",
          "text": [
            "( in millions ),2013,2012,2011\r\n",
            "net revenue,$ 33039,$ 34504,$ 35624\r\n",
            "operating income,$ 11827,$ 13106,$ 14840\r\n",
            "\n",
            "{'company': 'INTC', 'context_type': 'table', 'fiscal': 2013}\n",
            "--------------\n",
            "in millions,2012,2011,2010\r\n",
            "sales,$ 6230,$ 6215,$ 5940\r\n",
            "operating profit,599,872,481\r\n",
            "\n",
            "{'company': 'IP', 'context_type': 'table', 'fiscal': 2012}\n",
            "--------------\n",
            "in millions,2012,2011,2010\r\n",
            "sales,$ 13280,$ 10430,$ 9840\r\n",
            "operating profit,1066,1147,826\r\n",
            "\n",
            "{'company': 'IP', 'context_type': 'table', 'fiscal': 2012}\n",
            "--------------\n",
            "in millions,2012,2011,2010\r\n",
            "sales,$ 3170,$ 3710,$ 3400\r\n",
            "operating profit,268,163,207\r\n",
            "\n",
            "{'company': 'IP', 'context_type': 'table', 'fiscal': 2012}\n",
            "--------------\n"
          ]
        }
      ]
    },
    {
      "cell_type": "markdown",
      "source": [
        "#### Load Vector DB"
      ],
      "metadata": {
        "id": "qfczWkd17mYg"
      }
    },
    {
      "cell_type": "code",
      "source": [
        "from langchain.text_splitter import RecursiveCharacterTextSplitter\n",
        "from langchain.embeddings.openai import OpenAIEmbeddings\n",
        "from langchain.vectorstores import Chroma\n",
        "\n",
        "embeddings = OpenAIEmbeddings(model='text-embedding-3-small',api_key=OPENAI_API_KEY)\n",
        "\n",
        "from langchain_chroma import Chroma\n",
        "\n",
        "docsearch = Chroma(\n",
        "    persist_directory=\"./db\",\n",
        "    embedding_function=embeddings\n",
        ")"
      ],
      "metadata": {
        "id": "cGy1jdEL7qXc",
        "colab": {
          "base_uri": "https://localhost:8080/"
        },
        "outputId": "42752a07-8d01-477f-d7c2-b58c80a4ee25"
      },
      "execution_count": 19,
      "outputs": [
        {
          "output_type": "stream",
          "name": "stderr",
          "text": [
            "<ipython-input-19-dfa477852d10>:5: LangChainDeprecationWarning: The class `OpenAIEmbeddings` was deprecated in LangChain 0.0.9 and will be removed in 1.0. An updated version of the class exists in the :class:`~langchain-openai package and should be used instead. To use it run `pip install -U :class:`~langchain-openai` and import as `from :class:`~langchain_openai import OpenAIEmbeddings``.\n",
            "  embeddings = OpenAIEmbeddings(model='text-embedding-3-small',api_key=OPENAI_API_KEY)\n"
          ]
        }
      ]
    },
    {
      "cell_type": "markdown",
      "source": [
        "#### Retriever tool with filtered search"
      ],
      "metadata": {
        "id": "6jYHaV8ogG3N"
      }
    },
    {
      "cell_type": "code",
      "source": [
        "def retrieve(question:str, ticker: str, fy: int) -> list[str]:\n",
        "  \"\"\"Search vector DB for the financial reports with the question and ticker and fiscal year\n",
        "\n",
        "   Args:\n",
        "        question: Question need to be answered\n",
        "        ticker: Ticker of the company for filtering the documents\n",
        "        fy: Fiscal year for filtering the documents\n",
        "\n",
        "    Returns:\n",
        "        A related document for the question.\n",
        "  \"\"\"\n",
        "  retriever = docsearch.as_retriever(search_kwargs={'k': 1, 'filter':\n",
        "  {\n",
        "      \"$and\": [\n",
        "          {\n",
        "              \"company\": {\n",
        "                  \"$eq\": ticker\n",
        "              }\n",
        "          },\n",
        "          {\n",
        "              \"fiscal\": {\n",
        "                  \"$eq\": fy\n",
        "              }\n",
        "          }\n",
        "      ]\n",
        "  }})\n",
        "  result = retriever.invoke(question)\n",
        "  if result:\n",
        "    return result\n",
        "  else:\n",
        "    return [\"No data returned. Try again with correct ticker and fiscal year, or different question\"]"
      ],
      "metadata": {
        "id": "yyRdQ7L_aQfv"
      },
      "execution_count": 20,
      "outputs": []
    },
    {
      "cell_type": "code",
      "source": [
        "retrieve(\"What was the revenue of Apple in 2012?\",\"AAPL\", 2012)"
      ],
      "metadata": {
        "colab": {
          "base_uri": "https://localhost:8080/"
        },
        "id": "LQdFHlSsaXtv",
        "outputId": "86ee364a-8be6-499c-b663-892d774ace4d"
      },
      "execution_count": 21,
      "outputs": [
        {
          "output_type": "execute_result",
          "data": {
            "text/plain": [
              "[Document(metadata={'company': 'AAPL', 'context_type': 'post_text', 'fiscal': 2012}, page_content='the gross margin percentage in 2012 was 43.9% ( 43.9 % ) , compared to 40.5% ( 40.5 % ) in 2011 .this year-over-year increase in gross margin was largely driven by lower commodity and other product costs , a higher mix of iphone sales , and improved leverage on fixed costs from higher net sales .the increase in gross margin was partially offset by the impact of a stronger u.s .dollar .the gross margin percentage during the first half of 2012 was 45.9% ( 45.9 % ) compared to 41.4% ( 41.4 % ) during the second half of 2012 .the primary drivers of higher gross margin in the first half of 2012 compared to the second half are a higher mix of iphone sales and improved leverage on fixed costs from higher net sales .additionally , gross margin in the second half of 2012 was also affected by the introduction of new products with flat pricing that have higher cost structures and deliver greater value to customers , price reductions on certain existing products , higher transition costs')]"
            ]
          },
          "metadata": {},
          "execution_count": 21
        }
      ]
    },
    {
      "cell_type": "code",
      "source": [
        "@tool\n",
        "def retrieve_factual_data(question:str, ticker: str, fy: int) -> str:\n",
        "  \"\"\"Search vector DB for the financial reports with the question and ticker and fiscal year\n",
        "\n",
        "   Args:\n",
        "        question: Question need to be answered\n",
        "        ticker: Ticker of the company for filtering the documents\n",
        "        fy: Fiscal year for filtering the documents\n",
        "\n",
        "    Returns:\n",
        "        A related document for the question.\n",
        "  \"\"\"\n",
        "  retriever = docsearch.as_retriever(search_kwargs={'k': 1, 'filter':\n",
        "  {\n",
        "      \"$and\": [\n",
        "          {\n",
        "              \"company\": {\n",
        "                  \"$eq\": ticker\n",
        "              }\n",
        "          },\n",
        "          {\n",
        "              \"fiscal\": {\n",
        "                  \"$eq\": fy\n",
        "              }\n",
        "          }\n",
        "      ]\n",
        "  }})\n",
        "  result = retriever.invoke(question)\n",
        "  if result:\n",
        "    return result[0].page_content\n",
        "  else:\n",
        "    return \"No data returned. Try again with correct ticker and fiscal year, or different question\""
      ],
      "metadata": {
        "id": "wCAtGqUDQ4QT"
      },
      "execution_count": 22,
      "outputs": []
    },
    {
      "cell_type": "markdown",
      "source": [
        "## Agent with tools"
      ],
      "metadata": {
        "id": "uyGfbMuCgagT"
      }
    },
    {
      "cell_type": "code",
      "source": [
        "tools = [rewrite2fiscal, calculate_eps, calculate_cashflowfromoperations, retrieve_factual_data]"
      ],
      "metadata": {
        "id": "WiIfDm59jkmn"
      },
      "execution_count": 23,
      "outputs": []
    },
    {
      "cell_type": "code",
      "source": [
        "from langchain_core.prompts import ChatPromptTemplate\n",
        "\n",
        "llm_with_tools = llm.bind_tools(tools)"
      ],
      "metadata": {
        "id": "sBQHqnzJcCY1"
      },
      "execution_count": 24,
      "outputs": []
    },
    {
      "cell_type": "code",
      "source": [
        "from langchain_core.messages import HumanMessage, SystemMessage\n",
        "system_query = 'You are the professional agent that can use tools to answer the financial question. Output answer without selecting tool if you can answer the question with chat history.'\n",
        "user_query = \"\"\"For the given question, you should decide which tool you should use and arguments for the tool to answer the question.\n",
        "        Question: {question}\"\"\""
      ],
      "metadata": {
        "id": "ptOTU2DqpQX3"
      },
      "execution_count": 25,
      "outputs": []
    },
    {
      "cell_type": "code",
      "source": [
        "query = \"What was the trend of revenue for Intel 10 years ago?\""
      ],
      "metadata": {
        "id": "TfpI6OvJuSzG"
      },
      "execution_count": 41,
      "outputs": []
    },
    {
      "cell_type": "code",
      "source": [
        "messages = [SystemMessage(content=system_query), HumanMessage(content=user_query.format(question=query))]\n",
        "\n",
        "ai_msg = llm_with_tools.invoke(messages)\n",
        "print(ai_msg.content)\n",
        "while ai_msg.content == '':\n",
        "  messages.append(ai_msg)\n",
        "  for tool_call in ai_msg.tool_calls:\n",
        "    selected_tool = {\"rewrite2fiscal\": rewrite2fiscal,\n",
        "                     \"calculate_eps\": calculate_eps,\n",
        "                     \"calculate_cashflowfromoperations\": calculate_cashflowfromoperations,\n",
        "                     \"retrieve_factual_data\": retrieve_factual_data}[tool_call[\"name\"].lower()]\n",
        "    tool_msg = selected_tool.invoke(tool_call)\n",
        "    messages.append(tool_msg)\n",
        "  ai_msg = llm_with_tools.invoke(messages)\n",
        "  print(ai_msg.content)\n",
        "\n",
        "for message in messages:\n",
        "  print(message)"
      ],
      "metadata": {
        "colab": {
          "base_uri": "https://localhost:8080/"
        },
        "id": "xlB0PW9Gum99",
        "outputId": "2c77e3a5-4531-46d6-b234-9030d11d7668"
      },
      "execution_count": 42,
      "outputs": [
        {
          "output_type": "stream",
          "name": "stdout",
          "text": [
            "\n",
            "\n",
            "The trend of revenue for Intel in 2013 showed a decrease of 2% compared to 2011. This decline was primarily attributed to $494 million in excess capacity charges and lower revenue from the PC Client Group (PCCG) and Data Center Group (DCG) platforms. Additionally, higher unit costs and reduced revenue from netbooks and multi-comm contributed to the decrease. However, this decline was partially offset by lower factory start-up costs and additional revenue from the acquisition of McAfee, which added approximately $334 million in gross margin dollars in 2012 compared to 2011.\n",
            "content='You are the professional agent that can use tools to answer the financial question. Output answer without selecting tool if you can answer the question with chat history.' additional_kwargs={} response_metadata={}\n",
            "content='For the given question, you should decide which tool you should use and arguments for the tool to answer the question.\\n        Question: What was the trend of revenue for Intel 10 years ago?' additional_kwargs={} response_metadata={}\n",
            "content='' additional_kwargs={'tool_calls': [{'id': 'call_iLTyzVbqNtem7G9g9DuwlZMt', 'function': {'arguments': '{\"question\":\"What was the trend of revenue for Intel 10 years ago?\"}', 'name': 'rewrite2fiscal'}, 'type': 'function'}], 'refusal': None} response_metadata={'token_usage': {'completion_tokens': 29, 'prompt_tokens': 433, 'total_tokens': 462, 'completion_tokens_details': {'audio_tokens': None, 'reasoning_tokens': 0}, 'prompt_tokens_details': {'audio_tokens': None, 'cached_tokens': 0}}, 'model_name': 'gpt-4o-mini-2024-07-18', 'system_fingerprint': 'fp_482c22a7bc', 'finish_reason': 'tool_calls', 'logprobs': None} id='run-06acfa35-6eb2-4549-99d3-e8de10f95871-0' tool_calls=[{'name': 'rewrite2fiscal', 'args': {'question': 'What was the trend of revenue for Intel 10 years ago?'}, 'id': 'call_iLTyzVbqNtem7G9g9DuwlZMt', 'type': 'tool_call'}] usage_metadata={'input_tokens': 433, 'output_tokens': 29, 'total_tokens': 462, 'input_token_details': {'cache_read': 0}, 'output_token_details': {'reasoning': 0}}\n",
            "content='[\"INTC\", 2013]' name='rewrite2fiscal' tool_call_id='call_iLTyzVbqNtem7G9g9DuwlZMt'\n",
            "content='' additional_kwargs={'tool_calls': [{'id': 'call_K9KrJ5CfsBU1eu5JghT2X9QC', 'function': {'arguments': '{\"question\":\"What was the trend of revenue for Intel 10 years ago?\",\"ticker\":\"INTC\",\"fy\":2013}', 'name': 'retrieve_factual_data'}, 'type': 'function'}], 'refusal': None} response_metadata={'token_usage': {'completion_tokens': 38, 'prompt_tokens': 480, 'total_tokens': 518, 'completion_tokens_details': {'audio_tokens': None, 'reasoning_tokens': 0}, 'prompt_tokens_details': {'audio_tokens': None, 'cached_tokens': 0}}, 'model_name': 'gpt-4o-mini-2024-07-18', 'system_fingerprint': 'fp_482c22a7bc', 'finish_reason': 'tool_calls', 'logprobs': None} id='run-38b60535-7149-41be-963f-fd8553c7191c-0' tool_calls=[{'name': 'retrieve_factual_data', 'args': {'question': 'What was the trend of revenue for Intel 10 years ago?', 'ticker': 'INTC', 'fy': 2013}, 'id': 'call_K9KrJ5CfsBU1eu5JghT2X9QC', 'type': 'tool_call'}] usage_metadata={'input_tokens': 480, 'output_tokens': 38, 'total_tokens': 518, 'input_token_details': {'cache_read': 0}, 'output_token_details': {'reasoning': 0}}\n",
            "content='or 2% ( 2 % ) , compared to 2011 .the decrease was due in large part to $ 494 million of excess capacity charges , as well as lower revenue from the pccg and dcg platform .to a lesser extent , approximately $ 390 million of higher unit costs on the pccg and dcg platform as well as lower netbook and multi-comm revenue contributed to the decrease .the decrease was partially offset by $ 643 million of lower factory start-up costs as we transition from our 22nm process technology to r&d of our next- generation 14nm process technology , as well as $ 422 million of charges recorded in 2011 to repair and replace materials and systems impacted by a design issue related to our intel ae 6 series express chipset family .the decrease was also partially offset by the two additional months of results from our acquisition of mcafee , which occurred on february 28 , 2011 , contributing approximately $ 334 million of additional gross margin dollars in 2012 compared to 2011 .the amortization of' name='retrieve_factual_data' tool_call_id='call_K9KrJ5CfsBU1eu5JghT2X9QC'\n"
          ]
        }
      ]
    },
    {
      "cell_type": "code",
      "source": [
        "query = \"How was the trend in Entergy's cash flow from operations between 2014 and 2017?\"\n",
        "\n",
        "messages = [SystemMessage(content=system_query), HumanMessage(content=user_query.format(question=query))]\n",
        "\n",
        "ai_msg = llm_with_tools.invoke(messages)\n",
        "print(ai_msg.content)\n",
        "while ai_msg.content == '':\n",
        "  messages.append(ai_msg)\n",
        "  for tool_call in ai_msg.tool_calls:\n",
        "    selected_tool = {\"rewrite2fiscal\": rewrite2fiscal,\n",
        "                     \"calculate_eps\": calculate_eps,\n",
        "                     \"calculate_cashflowfromoperations\": calculate_cashflowfromoperations,\n",
        "                     \"retrieve_factual_data\": retrieve_factual_data}[tool_call[\"name\"].lower()]\n",
        "    tool_msg = selected_tool.invoke(tool_call)\n",
        "    messages.append(tool_msg)\n",
        "  ai_msg = llm_with_tools.invoke(messages)\n",
        "  print(ai_msg.content)\n",
        "\n",
        "for message in messages:\n",
        "  print(message)"
      ],
      "metadata": {
        "colab": {
          "base_uri": "https://localhost:8080/"
        },
        "id": "oKQP4o1OvOO4",
        "outputId": "a6896666-85f9-4110-a31d-e4a13681a33e"
      },
      "execution_count": 44,
      "outputs": [
        {
          "output_type": "stream",
          "name": "stdout",
          "text": [
            "\n",
            "\n",
            "The retrieved data does not provide specific cash flow from operations figures for Entergy between 2014 and 2017. However, it does include some financial context for those years.\n",
            "\n",
            "1. **2014**: The net revenue was $5,735 million.\n",
            "2. **2015**: The data focuses on changes in net revenue but does not provide cash flow from operations.\n",
            "3. **2016**: The increase in net revenue was attributed to lower operating and maintenance expenses, higher net revenue, and other income, but specific cash flow figures are not mentioned.\n",
            "4. **2017**: Similar to 2016, the report discusses net revenue changes without detailing cash flow from operations.\n",
            "\n",
            "To analyze the trend in cash flow from operations for Entergy between 2014 and 2017, you would typically look for specific cash flow statements for each year. Unfortunately, the current data does not include those specific figures. You may need to access Entergy's financial reports directly for detailed cash flow information.\n",
            "content='You are the professional agent that can use tools to answer the financial question. Output answer without selecting tool if you can answer the question with chat history.' additional_kwargs={} response_metadata={}\n",
            "content=\"For the given question, you should decide which tool you should use and arguments for the tool to answer the question.\\n        Question: How was the trend in Entergy's cash flow from operations between 2014 and 2017?\" additional_kwargs={} response_metadata={}\n",
            "content='' additional_kwargs={'tool_calls': [{'id': 'call_6S3NdO7nPNREYC1PpJI3GXIJ', 'function': {'arguments': '{\"question\":\"How was the trend in Entergy\\'s cash flow from operations between 2014 and 2017?\"}', 'name': 'rewrite2fiscal'}, 'type': 'function'}], 'refusal': None} response_metadata={'token_usage': {'completion_tokens': 37, 'prompt_tokens': 441, 'total_tokens': 478, 'completion_tokens_details': {'audio_tokens': None, 'reasoning_tokens': 0}, 'prompt_tokens_details': {'audio_tokens': None, 'cached_tokens': 0}}, 'model_name': 'gpt-4o-mini-2024-07-18', 'system_fingerprint': 'fp_482c22a7bc', 'finish_reason': 'tool_calls', 'logprobs': None} id='run-592e5c15-802c-4424-b1f7-3697d99746a5-0' tool_calls=[{'name': 'rewrite2fiscal', 'args': {'question': \"How was the trend in Entergy's cash flow from operations between 2014 and 2017?\"}, 'id': 'call_6S3NdO7nPNREYC1PpJI3GXIJ', 'type': 'tool_call'}] usage_metadata={'input_tokens': 441, 'output_tokens': 37, 'total_tokens': 478, 'input_token_details': {'cache_read': 0}, 'output_token_details': {'reasoning': 0}}\n",
            "content='[\"ETR\", 2015]' name='rewrite2fiscal' tool_call_id='call_6S3NdO7nPNREYC1PpJI3GXIJ'\n",
            "content='' additional_kwargs={'tool_calls': [{'id': 'call_23qb0snjuvWZKZRturJsRAmz', 'function': {'arguments': '{\"question\": \"cash flow from operations\", \"ticker\": \"ETR\", \"fy\": 2015}', 'name': 'retrieve_factual_data'}, 'type': 'function'}, {'id': 'call_uwDQTjnZkRiyMRr23WKKBfb0', 'function': {'arguments': '{\"question\": \"cash flow from operations\", \"ticker\": \"ETR\", \"fy\": 2016}', 'name': 'retrieve_factual_data'}, 'type': 'function'}, {'id': 'call_LDUKZ6LFVxOwyoS6P1IYPAeY', 'function': {'arguments': '{\"question\": \"cash flow from operations\", \"ticker\": \"ETR\", \"fy\": 2017}', 'name': 'retrieve_factual_data'}, 'type': 'function'}], 'refusal': None} response_metadata={'token_usage': {'completion_tokens': 103, 'prompt_tokens': 496, 'total_tokens': 599, 'completion_tokens_details': {'audio_tokens': None, 'reasoning_tokens': 0}, 'prompt_tokens_details': {'audio_tokens': None, 'cached_tokens': 0}}, 'model_name': 'gpt-4o-mini-2024-07-18', 'system_fingerprint': 'fp_482c22a7bc', 'finish_reason': 'tool_calls', 'logprobs': None} id='run-c32d9018-3d87-46c0-9108-01f4704d43bf-0' tool_calls=[{'name': 'retrieve_factual_data', 'args': {'question': 'cash flow from operations', 'ticker': 'ETR', 'fy': 2015}, 'id': 'call_23qb0snjuvWZKZRturJsRAmz', 'type': 'tool_call'}, {'name': 'retrieve_factual_data', 'args': {'question': 'cash flow from operations', 'ticker': 'ETR', 'fy': 2016}, 'id': 'call_uwDQTjnZkRiyMRr23WKKBfb0', 'type': 'tool_call'}, {'name': 'retrieve_factual_data', 'args': {'question': 'cash flow from operations', 'ticker': 'ETR', 'fy': 2017}, 'id': 'call_LDUKZ6LFVxOwyoS6P1IYPAeY', 'type': 'tool_call'}] usage_metadata={'input_tokens': 496, 'output_tokens': 103, 'total_tokens': 599, 'input_token_details': {'cache_read': 0}, 'output_token_details': {'reasoning': 0}}\n",
            "content=',amount ( in millions )\\r\\n2013 net revenue,$ 5524\\r\\nretail electric price,135\\r\\nasset retirement obligation,56\\r\\nvolume/weather,36\\r\\nmiso deferral,16\\r\\nnet wholesale revenue,-29 ( 29 )\\r\\nother,-3 ( 3 )\\r\\n2014 net revenue,$ 5735\\r\\n' name='retrieve_factual_data' tool_call_id='call_23qb0snjuvWZKZRturJsRAmz'\n",
            "content='of operating revenues net of : 1 ) fuel , fuel-related expenses , and gas purchased for resale , 2 ) purchased power expenses , and 3 ) other regulatory charges .following is an analysis of the change in net revenue comparing 2016 to 2015 .amount ( in millions ) .' name='retrieve_factual_data' tool_call_id='call_uwDQTjnZkRiyMRr23WKKBfb0'\n",
            "content='reduction of income tax expense in 2016 .also contributing to the increase were lower other operation and maintenance expenses , higher net revenue , and higher other income .the increase was partially offset by higher depreciation and amortization expenses , higher interest expense , and higher nuclear refueling outage expenses .see note 3 to the financial statements for discussion of the irs audit .net revenue 2017 compared to 2016 net revenue consists of operating revenues net of : 1 ) fuel , fuel-related expenses , and gas purchased for resale , 2 ) purchased power expenses , and 3 ) other regulatory charges ( credits ) .following is an analysis of the change in net revenue comparing 2017 to 2016 .amount ( in millions ) .' name='retrieve_factual_data' tool_call_id='call_LDUKZ6LFVxOwyoS6P1IYPAeY'\n"
          ]
        }
      ]
    },
    {
      "cell_type": "code",
      "source": [
        "query = \"What was the EPS of Intel in 2017?\""
      ],
      "metadata": {
        "id": "--eWgLC4reuY"
      },
      "execution_count": 45,
      "outputs": []
    },
    {
      "cell_type": "code",
      "source": [
        "query = \"What was the EPS of Entergy in 2017?\""
      ],
      "metadata": {
        "id": "XTRTPOoveU8G"
      },
      "execution_count": 47,
      "outputs": []
    },
    {
      "cell_type": "code",
      "source": [
        "messages = [SystemMessage(content=system_query), HumanMessage(content=user_query.format(question=query))]\n",
        "\n",
        "ai_msg = llm_with_tools.invoke(messages)\n",
        "print(ai_msg.content)\n",
        "while ai_msg.content == '':\n",
        "  messages.append(ai_msg)\n",
        "  for tool_call in ai_msg.tool_calls:\n",
        "    selected_tool = {\"rewrite2fiscal\": rewrite2fiscal,\n",
        "                     \"calculate_eps\": calculate_eps,\n",
        "                     \"calculate_cashflowfromoperations\": calculate_cashflowfromoperations,\n",
        "                     \"retrieve_factual_data\": retrieve_factual_data}[tool_call[\"name\"].lower()]\n",
        "    tool_msg = selected_tool.invoke(tool_call)\n",
        "    messages.append(tool_msg)\n",
        "  ai_msg = llm_with_tools.invoke(messages)\n",
        "  print(ai_msg.content)\n",
        "\n",
        "for message in messages:\n",
        "  print(message)"
      ],
      "metadata": {
        "colab": {
          "base_uri": "https://localhost:8080/"
        },
        "id": "TkfvVXEGayVP",
        "outputId": "241c497e-d49f-4daf-f3ba-a3aac0979348"
      },
      "execution_count": 48,
      "outputs": [
        {
          "output_type": "stream",
          "name": "stdout",
          "text": [
            "\n",
            "\n",
            "The retrieved document does not provide the EPS for Entergy in 2017. It mentions a regulatory liability but does not include specific EPS information. Would you like me to search for additional financial reports or data to find the EPS for Entergy in 2017?\n",
            "content='You are the professional agent that can use tools to answer the financial question. Output answer without selecting tool if you can answer the question with chat history.' additional_kwargs={} response_metadata={}\n",
            "content='For the given question, you should decide which tool you should use and arguments for the tool to answer the question.\\n        Question: What was the EPS of Entergy in 2017?' additional_kwargs={} response_metadata={}\n",
            "content='' additional_kwargs={'tool_calls': [{'id': 'call_lHnBz6DqJRTuoVwE9LWBuLGp', 'function': {'arguments': '{\"question\":\"What was the EPS of Entergy in 2017?\"}', 'name': 'rewrite2fiscal'}, 'type': 'function'}], 'refusal': None} response_metadata={'token_usage': {'completion_tokens': 28, 'prompt_tokens': 432, 'total_tokens': 460, 'completion_tokens_details': {'audio_tokens': None, 'reasoning_tokens': 0}, 'prompt_tokens_details': {'audio_tokens': None, 'cached_tokens': 0}}, 'model_name': 'gpt-4o-mini-2024-07-18', 'system_fingerprint': 'fp_482c22a7bc', 'finish_reason': 'tool_calls', 'logprobs': None} id='run-e585f509-d8c6-4914-96ab-871c8367089c-0' tool_calls=[{'name': 'rewrite2fiscal', 'args': {'question': 'What was the EPS of Entergy in 2017?'}, 'id': 'call_lHnBz6DqJRTuoVwE9LWBuLGp', 'type': 'tool_call'}] usage_metadata={'input_tokens': 432, 'output_tokens': 28, 'total_tokens': 460, 'input_token_details': {'cache_read': 0}, 'output_token_details': {'reasoning': 0}}\n",
            "content='[\"ETR\", 2017]' name='rewrite2fiscal' tool_call_id='call_lHnBz6DqJRTuoVwE9LWBuLGp'\n",
            "content='' additional_kwargs={'tool_calls': [{'id': 'call_9yMo5lpdUc32TXTVbqZYCWdh', 'function': {'arguments': '{\"question\":\"What was the EPS of Entergy in 2017?\",\"ticker\":\"ETR\",\"fy\":2017}', 'name': 'retrieve_factual_data'}, 'type': 'function'}], 'refusal': None} response_metadata={'token_usage': {'completion_tokens': 37, 'prompt_tokens': 478, 'total_tokens': 515, 'completion_tokens_details': {'audio_tokens': None, 'reasoning_tokens': 0}, 'prompt_tokens_details': {'audio_tokens': None, 'cached_tokens': 0}}, 'model_name': 'gpt-4o-mini-2024-07-18', 'system_fingerprint': 'fp_482c22a7bc', 'finish_reason': 'tool_calls', 'logprobs': None} id='run-59225c28-95ab-4f9d-b9c3-4563d2da0217-0' tool_calls=[{'name': 'retrieve_factual_data', 'args': {'question': 'What was the EPS of Entergy in 2017?', 'ticker': 'ETR', 'fy': 2017}, 'id': 'call_9yMo5lpdUc32TXTVbqZYCWdh', 'type': 'tool_call'}] usage_metadata={'input_tokens': 478, 'output_tokens': 37, 'total_tokens': 515, 'input_token_details': {'cache_read': 0}, 'output_token_details': {'reasoning': 0}}\n",
            "content='entergy recorded a regulatory liability of $ 107 million ( $ 66 million net-of-tax ) .these costs are being entergy corporation and subsidiaries management 2019s financial discussion and analysis .' name='retrieve_factual_data' tool_call_id='call_9yMo5lpdUc32TXTVbqZYCWdh'\n"
          ]
        }
      ]
    },
    {
      "cell_type": "code",
      "source": [],
      "metadata": {
        "id": "3_tmfLa1eWUL"
      },
      "execution_count": null,
      "outputs": []
    }
  ],
  "metadata": {
    "colab": {
      "provenance": [],
      "toc_visible": true
    },
    "kernelspec": {
      "display_name": "Python 3",
      "name": "python3"
    },
    "language_info": {
      "name": "python"
    }
  },
  "nbformat": 4,
  "nbformat_minor": 0
}