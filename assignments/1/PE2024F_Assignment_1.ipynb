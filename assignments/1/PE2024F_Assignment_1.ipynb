{
 "cells": [
  {
   "cell_type": "markdown",
   "metadata": {
    "id": "w0WCcr_F4-oP"
   },
   "source": [
    "# Topic 1: Prompt Anatomy & Prompt Frameworks\n",
    "\n",
    "**Learning Objectives:**\n",
    "\n",
    "* Learn how to prompt LLM models using API.\n",
    "* Understand the components of LLM prompts.\n",
    "* Learn about different prompt frameworks and their applications.\n",
    "* Practice designing effective prompts for various tasks.\n",
    "\n",
    "**Outline:**\n",
    "\n",
    "1. **Environment Setup**\n",
    "2. **Prompt Anatomy**\n",
    "3. **Prompt Frameworks**\n",
    "4. **Assignment 1**"
   ]
  },
  {
   "cell_type": "markdown",
   "metadata": {
    "id": "NOFruKHs76Az"
   },
   "source": [
    "## 1. Environment Setup"
   ]
  },
  {
   "cell_type": "code",
   "execution_count": null,
   "metadata": {
    "id": "YD-GUB6s78er"
   },
   "outputs": [],
   "source": [
    "# Install openai\n",
    "!pip install openai"
   ]
  },
  {
   "cell_type": "markdown",
   "metadata": {
    "id": "2duN-x-D2tMq"
   },
   "source": [
    "**Set API key**"
   ]
  },
  {
   "cell_type": "code",
   "execution_count": null,
   "metadata": {
    "id": "_0_PH_8Fnfhz"
   },
   "outputs": [],
   "source": [
    "# Set API key\n",
    "OPENAI_API_KEY=\"your_api_key_here\"\n",
    "\n",
    "from openai import OpenAI\n",
    "\n",
    "client = OpenAI(api_key=OPENAI_API_KEY)"
   ]
  },
  {
   "cell_type": "markdown",
   "metadata": {
    "id": "ztDA7lWl5Z4s"
   },
   "source": [
    "Test OpenAI API"
   ]
  },
  {
   "cell_type": "code",
   "execution_count": null,
   "metadata": {
    "id": "9Qxvsp02nW5y"
   },
   "outputs": [],
   "source": [
    "# Test OpenAI API\n",
    "completion = client.chat.completions.create(\n",
    "    model=\"gpt-4o-mini\",\n",
    "    messages=[\n",
    "        {\"role\": \"system\", \"content\": \"You are a helpful assistant.\"},\n",
    "        {\n",
    "            \"role\": \"user\",\n",
    "            \"content\": \"What is the capital of South Korea?\"\n",
    "        }\n",
    "    ]\n",
    ")\n",
    "\n",
    "print(completion.choices[0].message)"
   ]
  },
  {
   "cell_type": "code",
   "execution_count": null,
   "metadata": {
    "id": "N92ZQTfL6gUJ"
   },
   "outputs": [],
   "source": [
    "def test_chat_completion_parameters(temperature, max_tokens):\n",
    "    completion = client.chat.completions.create(\n",
    "        model=\"gpt-4o-mini\",\n",
    "        messages=[\n",
    "            {\"role\": \"system\", \"content\": \"You are a helpful assistant.\"},\n",
    "            {\n",
    "                \"role\": \"user\",\n",
    "                \"content\": \"What is prompt engineering?\"\n",
    "            }\n",
    "        ],\n",
    "        temperature=temperature,\n",
    "        max_tokens=max_tokens\n",
    "    )\n",
    "\n",
    "    print(f\"Temperature: {temperature}, Max Tokens: {max_tokens}\")\n",
    "    print(completion.choices[0].message.content)\n",
    "\n",
    "# Test with different parameters\n",
    "test_chat_completion_parameters(temperature=0.2, max_tokens=100)\n",
    "test_chat_completion_parameters(temperature=1.0, max_tokens=50)\n",
    "test_chat_completion_parameters(temperature=1.0, max_tokens=200)"
   ]
  },
  {
   "cell_type": "markdown",
   "metadata": {
    "id": "CaJwAvF756ZE"
   },
   "source": [
    "## 2. Prompt Anatomy\n",
    "\n",
    "![prompt_anatomy](https://raw.githubusercontent.com/GSDSAML/prompt-engineering-2024fall/main/prompt_anatomy.png)\n",
    "\n",
    "General elements of prompt\n",
    "\n",
    "*   Task(Instruction): a specific task or instruction you want the model to perform\n",
    "*   Persona(Roles): defines how LLM should behave when responding\n",
    "*   Exemplar(Example): Example of the output or input-output pairs\n",
    "*   Tone: word in the prompt to elicit a particular tone for the output text\n",
    "*   Context: Provides background information or relevant details\n",
    "*   Output format: indicates the type or format of the output\n",
    "\n"
   ]
  },
  {
   "cell_type": "markdown",
   "metadata": {
    "id": "rUXXIUiFm7zN"
   },
   "source": [
    "### Task(Instruction)\n",
    "\n",
    "*   Can design effective prompts for various simple tasks by using commands to instruct the model.\n",
    "  *   Ex) \"Write\", \"Classify\", \"Summarize\", \"Translate\", \"Order\", etc.\n",
    "*   Structure:\n",
    "  *   Place instructions at the beginning or end of the prompt.\n",
    "  *   Another recommendation is to use some clear separator like \"###\" to separate the instruction and context.\n",
    "      *   \n",
    "      ```\n",
    "      ### Translate the text to Spanish ###\n",
    "      Text: \"hello!\"\n",
    "      ```"
   ]
  },
  {
   "cell_type": "code",
   "execution_count": null,
   "metadata": {
    "id": "Sw22qtTMuDpS"
   },
   "outputs": [],
   "source": [
    "# Example 1: Text classification\n",
    "completion = client.chat.completions.create(\n",
    "    model=\"gpt-4o-mini\",\n",
    "    messages=[\n",
    "        {\"role\": \"system\", \"content\": \"You are a helpful assistant.\"},\n",
    "        {\n",
    "            \"role\": \"user\",\n",
    "            \"content\": \"\"\"Classify the text into neutral, negative or positive.\n",
    "            Text: I think the food was okay.\n",
    "            Sentiment:\"\"\"\n",
    "        }\n",
    "    ],\n",
    "    temperature = 0.0\n",
    ")\n",
    "\n",
    "print(completion.choices[0].message.content)"
   ]
  },
  {
   "cell_type": "code",
   "execution_count": null,
   "metadata": {
    "id": "odJ0tSIffJ6b"
   },
   "outputs": [],
   "source": [
    "# Example 2: Text summarization\n",
    "completion = client.chat.completions.create(\n",
    "    model=\"gpt-4o-mini\",\n",
    "    messages=[\n",
    "        {\"role\": \"system\", \"content\": \"You are a helpful assistant.\"},\n",
    "        {\n",
    "            \"role\": \"user\",\n",
    "            \"content\": \"\"\"Explain the below in one sentence.\n",
    "            The dominant sequence transduction models are based on complex recurrent or convolutional neural networks in an encoder-decoder configuration.\\\n",
    "            The best performing models also connect the encoder and decoder through an attention mechanism. \\\n",
    "            We propose a new simple network architecture, the Transformer, based solely on attention mechanisms, dispensing with recurrence and convolutions entirely. \\\n",
    "            Experiments on two machine translation tasks show these models to be superior in quality while being more parallelizable and requiring significantly less time to train. \\\n",
    "            Our model achieves 28.4 BLEU on the WMT 2014 English-to-German translation task, improving over the existing best results, including ensembles by over 2 BLEU. \\\n",
    "            On the WMT 2014 English-to-French translation task, our model establishes a new single-model state-of-the-art BLEU score of 41.8 after training for 3.5 days on eight GPUs, a small fraction of the training costs of the best models from the literature.\\\n",
    "            We show that the Transformer generalizes well to other tasks by applying it successfully to English constituency parsing both with large and limited training data.\"\"\"\n",
    "        }\n",
    "    ],\n",
    "    temperature = 0.0\n",
    ")\n",
    "\n",
    "print(completion.choices[0].message.content)\n"
   ]
  },
  {
   "cell_type": "markdown",
   "metadata": {
    "id": "NhcpHlrfuirv"
   },
   "source": [
    "### Persona(Role)\n",
    "\n",
    "*   Definition:\n",
    "  *   Adding a role to the prompt defines how LLM should behave or the persona it should adopt when responding.\n",
    "  *   This extra context allows for tailored and specific outputs.\n",
    "*   Structure:\n",
    "  *   Act as persona X, or provide outputs that persona X would create or from now you are X.\n",
    "  *   Persona can be: a fitness coach, a doctor, a financial expert, a math teacher,...\n",
    "  *   Can be nonliving things, like a translator, a Linux terminal, a movie character,...\n",
    "*   In chat completion API, you can set the role in the system message or the user message."
   ]
  },
  {
   "cell_type": "code",
   "execution_count": null,
   "metadata": {
    "id": "DBEw8eNUu7V-"
   },
   "outputs": [],
   "source": [
    "# Example 1: Setting a role in the system message\n",
    "completion = client.chat.completions.create(\n",
    "    model=\"gpt-4o-mini\",\n",
    "    messages=[\n",
    "        {\"role\": \"system\", \"content\": \"You are a sophisticated translator, able to translate any language to English.\"},\n",
    "        {\n",
    "            \"role\": \"user\",\n",
    "            \"content\": \"Hola Mundo.\"\n",
    "        }\n",
    "    ],\n",
    "    temperature = 0.0\n",
    ")\n",
    "print(\"Output with role:\")\n",
    "print(completion.choices[0].message.content)\n",
    "\n",
    "# Example 1 without a role\n",
    "completion = client.chat.completions.create(\n",
    "    model=\"gpt-4o-mini\",\n",
    "    messages=[\n",
    "        {\"role\": \"system\", \"content\": \"You are a helpful assistant.\"},\n",
    "        {\n",
    "            \"role\": \"user\",\n",
    "            \"content\": \"Hola Mundo.\"\n",
    "        }\n",
    "    ],\n",
    "    temperature = 0.0\n",
    ")\n",
    "print(\"Output without role:\")\n",
    "print(completion.choices[0].message.content)"
   ]
  },
  {
   "cell_type": "code",
   "execution_count": null,
   "metadata": {
    "id": "NQ7IeYLnzR8S"
   },
   "outputs": [],
   "source": [
    "# Example 2 with a detailed role\n",
    "completion = client.chat.completions.create(\n",
    "    model=\"gpt-4o-mini\",\n",
    "    messages=[\n",
    "        {\"role\": \"system\", \"content\": \"You are a helpful assistant.\"},\n",
    "        {\n",
    "            \"role\": \"user\",\n",
    "            \"content\": \"You are an expert AI research scientist specialized in natural language processing, tell me recent tredings of NLP research in 100 words.\"\n",
    "        }\n",
    "    ],\n",
    "    temperature = 0.0\n",
    ")\n",
    "\n",
    "print(\"Output with detailed role:\")\n",
    "print(completion.choices[0].message.content)\n",
    "\n",
    "# Example 2 without detailed role\n",
    "completion = client.chat.completions.create(\n",
    "    model=\"gpt-4o-mini\",\n",
    "    messages=[\n",
    "        {\"role\": \"system\", \"content\": \"You are a helpful assistant.\"},\n",
    "        {\n",
    "            \"role\": \"user\",\n",
    "            \"content\": \"Tell me recent tredings of NLP research in 100 words.\"\n",
    "        }\n",
    "    ],\n",
    "    temperature = 0.0\n",
    ")\n",
    "\n",
    "print(\"\\n\\nOutput without detailed role:\")\n",
    "print(completion.choices[0].message.content)"
   ]
  },
  {
   "cell_type": "markdown",
   "metadata": {
    "id": "F7QRYwSU4w83"
   },
   "source": [
    "### Exemplar(Example)\n",
    "\n",
    "*   Examples provide the kind of desired output pattern for the model in response to a given prompt.\n",
    "*   They help to clarify the expectations and guide the model toward generating more appropriate and relevant responses.\n",
    "*   Exemplars help to minimize ambiguity in the prompt, which can lead to more accurate and relevant outputs from the model.\n",
    "*   Structure:\n",
    "  *   Provide the output format or pattern for the model to follow.\n",
    "  *   Few-shot examples to teach the model a new task.\n"
   ]
  },
  {
   "cell_type": "code",
   "execution_count": null,
   "metadata": {
    "id": "GOrGA7PKKlJw"
   },
   "outputs": [],
   "source": [
    "# with exmplar\n",
    "completion = client.chat.completions.create(\n",
    "    model=\"gpt-4o-mini\",\n",
    "    messages=[\n",
    "        {\"role\": \"system\", \"content\": \"You are a helpful assistant.\"},\n",
    "        {\n",
    "            \"role\": \"user\",\n",
    "            \"content\": \"\"\"\n",
    "            Using a QWERTY keyboard, you should convert the given word to the correct word.\n",
    "\n",
    "            Input: qieks\n",
    "            Output: world\n",
    "\n",
    "            Input: ptsmhr\n",
    "            Output: orange\n",
    "\n",
    "            Input: gwkki\n",
    "            Output: hello\n",
    "\n",
    "            Input: oeinor\n",
    "            Output:\n",
    "            \"\"\"\n",
    "        }\n",
    "    ],\n",
    "    temperature = 0.0\n",
    ")\n",
    "print(\"With exemplar:\")\n",
    "print(completion.choices[0].message.content)\n",
    "\n",
    "# without exemplar\n",
    "completion = client.chat.completions.create(\n",
    "    model=\"gpt-4o-mini\",\n",
    "    messages=[\n",
    "        {\"role\": \"system\", \"content\": \"You are a helpful assistant.\"},\n",
    "        {\n",
    "            \"role\": \"user\",\n",
    "            \"content\": \"\"\"\n",
    "            Using a QWERTY keyboard, you should convert the given word to the correct word.\n",
    "\n",
    "            Input: oeinor\n",
    "            Output:\n",
    "            \"\"\"\n",
    "        }\n",
    "    ],\n",
    "    temperature = 0.0\n",
    ")\n",
    "\n",
    "print(\"\\n\\nWithout exemplar:\")\n",
    "print(completion.choices[0].message.content)\n"
   ]
  },
  {
   "cell_type": "markdown",
   "metadata": {
    "id": "VlDc5FaT2dGx"
   },
   "source": [
    "### Tone\n",
    "\n",
    "*   Definition: a tone-of-voice word in the prompt to elicit a particular tone for the output text\n",
    "  *   Tone modifiers in the form of prompts empower you to go beyond the \"what\" of communication and delve into the \"how\"\n"
   ]
  },
  {
   "cell_type": "code",
   "execution_count": null,
   "metadata": {
    "id": "XBg47VYE5_L4"
   },
   "outputs": [],
   "source": [
    "# Example with tone\n",
    "completion = client.chat.completions.create(\n",
    "    model=\"gpt-4o-mini\",\n",
    "    messages=[\n",
    "        {\"role\": \"system\", \"content\": \"You are a helpful assistant.\"},\n",
    "        {\n",
    "            \"role\": \"user\",\n",
    "            \"content\": \"Generate a tweet about a cat in a humorous and witty tone.\"\n",
    "        }\n",
    "    ],\n",
    "    temperature = 0.0\n",
    ")\n",
    "print(\"Output with humorous and witty tone:\")\n",
    "print(completion.choices[0].message.content)\n",
    "\n",
    "# Example with another tone\n",
    "completion = client.chat.completions.create(\n",
    "    model=\"gpt-4o-mini\",\n",
    "    messages=[\n",
    "        {\"role\": \"system\", \"content\": \"You are a helpful assistant.\"},\n",
    "        {\n",
    "            \"role\": \"user\",\n",
    "            \"content\": \"Generate a tweet about a cat in a formal and professional tone.\"\n",
    "        }\n",
    "    ],\n",
    "    temperature = 0.0\n",
    ")\n",
    "print(\"Output with formal and professional tone:\")\n",
    "print(completion.choices[0].message.content)"
   ]
  },
  {
   "cell_type": "markdown",
   "metadata": {
    "id": "5ZJGbmJ1QpDD"
   },
   "source": [
    "### Context\n",
    "\n",
    "*   Context provides the necessary background information by specifying the situation or the scenario in which the chatbot has to generate the response.\n",
    "*   By specifying the context, the chatbot understands that it has to generate the output according to the specified situation."
   ]
  },
  {
   "cell_type": "code",
   "execution_count": null,
   "metadata": {
    "id": "xD3KAFgU5pzf"
   },
   "outputs": [],
   "source": [
    "# Example with context\n",
    "completion = client.chat.completions.create(\n",
    "    model=\"gpt-4o-mini\",\n",
    "    messages=[\n",
    "        {\"role\": \"system\", \"content\": \"You are a helpful assistant.\"},\n",
    "        {\n",
    "            \"role\": \"user\",\n",
    "            \"content\": \"I'm totally new to programming, and don't know the programming-related terms. Explain the database in one sentence.\"\n",
    "        }\n",
    "    ],\n",
    "    temperature = 0.0\n",
    ")\n",
    "print(\"Output with context:\")\n",
    "print(completion.choices[0].message.content)\n",
    "\n",
    "# Example without context\n",
    "completion = client.chat.completions.create(\n",
    "    model=\"gpt-4o-mini\",\n",
    "    messages=[\n",
    "        {\"role\": \"system\", \"content\": \"You are a helpful assistant.\"},\n",
    "        {\n",
    "            \"role\": \"user\",\n",
    "            \"content\": \"Explain the database in one sentence.\"\n",
    "        }\n",
    "    ],\n",
    "    temperature = 0.0\n",
    ")\n",
    "print(\"\\n\\nOutput without context:\")\n",
    "print(completion.choices[0].message.content)"
   ]
  },
  {
   "cell_type": "markdown",
   "metadata": {
    "id": "DBj0x5yXTy3h"
   },
   "source": [
    "### Output format\n",
    "\n",
    "*   LLM’s output is always text, but sometimes we wants structured outputs.\n",
    "*   In some well-trained LLM, we can guide LLM to output a specific output.\n",
    "  *   JSON format\n",
    "  *   CSV format\n",
    "  *   Table format\n",
    "  *   A customized format\n",
    "*   For more information, please check [OpenAI documentation](https://platform.openai.com/docs/guides/structured-outputs)\n"
   ]
  },
  {
   "cell_type": "code",
   "execution_count": null,
   "metadata": {
    "id": "J0NDyEYJUd-I"
   },
   "outputs": [],
   "source": [
    "# Example with output format (JSON)\n",
    "completion = client.chat.completions.create(\n",
    "    model=\"gpt-4o-mini\",\n",
    "    messages=[\n",
    "        {\"role\": \"system\", \"content\": \"You are a helpful assistant.\"},\n",
    "        {\n",
    "            \"role\": \"user\",\n",
    "            \"content\": \"\"\"\n",
    "            Generate a JSON object with the following keys: \"name\", \"age\", \"city\".\n",
    "            \"\"\"\n",
    "        }\n",
    "    ],\n",
    "    temperature = 0.0\n",
    ")\n",
    "print(\"Output with JSON format:\")\n",
    "print(completion.choices[0].message.content)\n",
    "\n",
    "# Output with response_format\n",
    "completion = client.chat.completions.create(\n",
    "    model=\"gpt-4o-mini\",\n",
    "    messages=[\n",
    "        {\"role\": \"system\", \"content\": \"You are a helpful assistant.\"},\n",
    "        {\n",
    "            \"role\": \"user\",\n",
    "            \"content\": \"\"\"\n",
    "            Generate a JSON object with the following keys: \"name\", \"age\", \"city\".\n",
    "            \"\"\"\n",
    "        }\n",
    "    ],\n",
    "    temperature = 0.0,\n",
    "    response_format={\"type\": \"json_object\"}\n",
    ")\n",
    "print(\"\\n\\nOutput with JSON format with response_format parameter:\")\n",
    "print(completion.choices[0].message.content)\n",
    "\n",
    "\n",
    "# Example without output format\n",
    "completion = client.chat.completions.create(\n",
    "    model=\"gpt-4o-mini\",\n",
    "    messages=[\n",
    "        {\"role\": \"system\", \"content\": \"You are a helpful assistant.\"},\n",
    "        {\n",
    "            \"role\": \"user\",\n",
    "            \"content\": \"\"\"\n",
    "            Generate information about a person with name, age, and city.\n",
    "            \"\"\"\n",
    "        }\n",
    "    ],\n",
    "    temperature = 0.0\n",
    ")\n",
    "print(\"\\n\\nOutput without format:\")\n",
    "print(completion.choices[0].message.content)\n"
   ]
  },
  {
   "cell_type": "markdown",
   "metadata": {
    "id": "LAX1s0uh_5L3"
   },
   "source": [
    "## 3. Prompt Frameworks\n",
    "\n",
    "*   **Prompt Framework** provides a structured framework for influencing the responses generated by language models.\n",
    "*   This methodical approach makes it possible to obtain coherent, specific responses that are adapted to a variety of tasks."
   ]
  },
  {
   "cell_type": "markdown",
   "metadata": {
    "id": "ZbUdEDGBarqT"
   },
   "source": [
    "### Task 1: Generate self-introduction"
   ]
  },
  {
   "cell_type": "code",
   "execution_count": null,
   "metadata": {
    "id": "N2xZDVFOa_fW"
   },
   "outputs": [],
   "source": [
    "completion = client.chat.completions.create(\n",
    "    model=\"gpt-4o-mini\",\n",
    "    ############# TODO: Modify here #############\n",
    "    messages=[\n",
    "        {\"role\": \"system\", \"content\": \"You are a helpful assistant.\"},\n",
    "        {\n",
    "            \"role\": \"user\",\n",
    "            \"content\": \"Generate a self-introduction.\"\n",
    "        }\n",
    "    ],\n",
    "    #############################################\n",
    "    temperature = 0.0\n",
    ")\n",
    "\n",
    "print(completion.choices[0].message.content)"
   ]
  },
  {
   "cell_type": "markdown",
   "metadata": {
    "id": "0A8djwmObd0b"
   },
   "source": [
    "For this task, we will apply the RTF framework for better output.\n",
    "\n",
    "*   Role (R)\n",
    "  *   Defining the character of the AI\n",
    "  *   Ex) a new developer interested in AI\n",
    "*   Task (T)\n",
    "  *   Outlining the desired action\n",
    "  *   Ex) write a self-introduction\n",
    "*   Format (F)\n",
    "  *   Structuring the Response\n",
    "  *   Ex) a concise sentence of no more than 100 words"
   ]
  },
  {
   "cell_type": "code",
   "execution_count": null,
   "metadata": {
    "id": "lRYAVhc0b22Z"
   },
   "outputs": [],
   "source": [
    "completion = client.chat.completions.create(\n",
    "    model=\"gpt-4o-mini\",\n",
    "    ############# TODO: Modify here #############\n",
    "    messages=[\n",
    "        {\"role\": \"system\", \"content\": \"You are a helpful assistant.\"}, ### You can set the role here\n",
    "        {\n",
    "            \"role\": \"user\",\n",
    "            \"content\": \"\"\"\n",
    "            You are a new developer interested in AI.\n",
    "            Please write a self-introduction, in a concise sentence of no more than 100 words.\n",
    "            \"\"\"\n",
    "        }\n",
    "    ],\n",
    "    #############################################\n",
    "    temperature = 0.0\n",
    ")\n",
    "\n",
    "print(completion.choices[0].message.content)"
   ]
  },
  {
   "cell_type": "markdown",
   "metadata": {
    "id": "PQyzHmlzdQ1Z"
   },
   "source": [
    "### Task 2: Create a blog post"
   ]
  },
  {
   "cell_type": "code",
   "execution_count": null,
   "metadata": {
    "id": "oRNCy1rvajTE"
   },
   "outputs": [],
   "source": [
    "completion = client.chat.completions.create(\n",
    "    model=\"gpt-4o-mini\",\n",
    "    ############# TODO: Modify here #############\n",
    "    messages=[\n",
    "        {\"role\": \"system\", \"content\": \"You are a helpful assistant.\"},\n",
    "        {\n",
    "            \"role\": \"user\",\n",
    "            \"content\": \"Create a blog post.\"\n",
    "        }\n",
    "    ],\n",
    "    #############################################\n",
    "    temperature = 0.0,\n",
    "    max_tokens=512\n",
    ")\n",
    "\n",
    "print(completion.choices[0].message.content)"
   ]
  },
  {
   "cell_type": "markdown",
   "metadata": {
    "id": "UXUp64fXd3kz"
   },
   "source": [
    "For this task, we will apply the RISEN framework for better output.\n",
    "\n",
    "*   Role (R)\n",
    "  *   Defining the character of the AI\n",
    "  *   Ex) Technical blogger\n",
    "*   Instruction (I)\n",
    "  *   Clear guidelines on what the AI should do.\n",
    "  *   Ex) Write a blog post about the benefits of AI\n",
    "*   Steps (S)\n",
    "  *   Specific tasks or phases the AI needs to follow to fulfill the prompt's request.\n",
    "  *   Ex) 1. Explain AI techniques 2. Write benefits of AI 3. Example application\n",
    "*   End goal (E)\n",
    "  *   Final objective or outcome the AI’s response should achieve.\n",
    "  *   Ex) The explanation should be clear and understandable for a high school student.\n",
    "*   Narrowing (N)\n",
    "  *   Involves specifying constraints or focusing on particular aspects of the topic to avoid overly broad or irrelevant responses.\n",
    "  *   Ex) Focus only on the basics without delving into technical details."
   ]
  },
  {
   "cell_type": "code",
   "execution_count": null,
   "metadata": {
    "id": "aDgrHauTgcy1"
   },
   "outputs": [],
   "source": [
    "completion = client.chat.completions.create(\n",
    "    model=\"gpt-4o-mini\",\n",
    "    ############# TODO: Modify here #############\n",
    "    messages=[\n",
    "        {\"role\": \"system\", \"content\": \"You are a technical blogger.\"},\n",
    "        {\n",
    "            \"role\": \"user\",\n",
    "            \"content\": \"\"\"\n",
    "            Write a blog post about the benefits of AI.\n",
    "            1. Explain AI techniques. 2. Write benefits of AI. 3. Example application.\n",
    "            The explanation should be clear and understandable for a high school student.\n",
    "            Focus only on the basics without delving into technical details.\n",
    "            \"\"\"\n",
    "        }\n",
    "    ],\n",
    "    #############################################\n",
    "    temperature = 0.0,\n",
    "    max_tokens=512\n",
    ")\n",
    "\n",
    "print(completion.choices[0].message.content)"
   ]
  },
  {
   "cell_type": "markdown",
   "metadata": {
    "id": "Z02Q9DoFg8kF"
   },
   "source": [
    "### Task 3: Create marketing strategies"
   ]
  },
  {
   "cell_type": "code",
   "execution_count": null,
   "metadata": {
    "id": "i-dncUnihL-Q"
   },
   "outputs": [],
   "source": [
    "completion = client.chat.completions.create(\n",
    "    model=\"gpt-4o-mini\",\n",
    "    ############# TODO: Modify here #############\n",
    "    messages=[\n",
    "        {\"role\": \"system\", \"content\": \"You are a helpful assistant.\"},\n",
    "        {\n",
    "            \"role\": \"user\",\n",
    "            \"content\": \"Create a marketing strategy.\"\n",
    "        }\n",
    "    ],\n",
    "    #############################################\n",
    "    temperature = 0.0,\n",
    "    max_tokens=512\n",
    ")\n",
    "\n",
    "print(completion.choices[0].message.content)"
   ]
  },
  {
   "cell_type": "markdown",
   "metadata": {
    "id": "Lsr1BQaUhX2J"
   },
   "source": [
    "For this task, we will apply the RODES framework for better output.\n",
    "\n",
    "\n",
    "*   Role (R)\n",
    "  *   Clarifies the AI's position or function in relation to the prompt, setting the stage for the interaction.\n",
    "  *   Ex) Marketing expert\n",
    "*   Objective (O)\n",
    "  *   Defines the ultimate goal the AI is to achieve, directing its focus and efforts.\n",
    "  *   Ex) announcement of the first launch of a new product\n",
    "*   Details (D)\n",
    "  *   Offers specific information or criteria to guide the AI’s response, ensuring it is aligned with the prompt’s requirements.\n",
    "  *   Ex) Describe your strategy around social media and digital advertising.\n",
    "*   Examples (E)\n",
    "  *   Provides illustrative scenarios or outcomes to help the AI understand the context and expectations.\n",
    "  *   Ex) For example, producing sponsored content using YouTube influencer.\n",
    "*   Sense Check (S)\n",
    "  *   Encourages a final review of the AI's response to ensure it accurately meets the prompt's objectives and details.\n",
    "  *   Ex) Please also include a realistic review so that I can confirm that the strategy is feasible."
   ]
  },
  {
   "cell_type": "code",
   "execution_count": null,
   "metadata": {
    "id": "1Wo1u1nbjUFi"
   },
   "outputs": [],
   "source": [
    "completion = client.chat.completions.create(\n",
    "    model=\"gpt-4o-mini\",\n",
    "    ############# TODO: Modify here #############\n",
    "    messages=[\n",
    "        {\"role\": \"system\", \"content\": \"You are a marketing expert.\"},\n",
    "        {\n",
    "            \"role\": \"user\",\n",
    "            \"content\": \"\"\"\n",
    "            Create a marketing strategy for the announcement of the first launch of a new product.\n",
    "            Describe your strategy around social media and digital advertising.\n",
    "            For example, producing sponsored contents using YouTube influencer.\n",
    "            Please also include a realistic review so that I can confirm that the strategy is feasible.\n",
    "            \"\"\"\n",
    "        }\n",
    "    ],\n",
    "    #############################################\n",
    "    temperature = 0.0,\n",
    "    max_tokens=512\n",
    ")\n",
    "\n",
    "print(completion.choices[0].message.content)\n"
   ]
  },
  {
   "cell_type": "markdown",
   "metadata": {
    "id": "bICWWJCPGQ_6"
   },
   "source": [
    "# Assignment 1: Prompt Anatomy & Prompt Frameworks\n",
    "\n",
    "For given 7 tasks below, please **select 5 tasks** and modify given prompt for the better output."
   ]
  },
  {
   "cell_type": "markdown",
   "metadata": {
    "id": "Lp60Qcc0GlKN"
   },
   "source": [
    "## Task 4: Generate an advertising slogan for the product.\n"
   ]
  },
  {
   "cell_type": "code",
   "execution_count": null,
   "metadata": {
    "id": "IfUyqBpxGg_M"
   },
   "outputs": [],
   "source": [
    "completion = client.chat.completions.create(\n",
    "    model=\"gpt-4o-mini\",\n",
    "    ############# TODO: Modify here #############\n",
    "    messages=[\n",
    "        {\"role\": \"system\", \"content\": \"You are a helpful assistant.\"},\n",
    "        {\n",
    "            \"role\": \"user\",\n",
    "            \"content\": \"\"\"\n",
    "            Generate an advertising slogan for the mechanical keyboard.\n",
    "            \"\"\"\n",
    "        }\n",
    "    ],\n",
    "    #############################################\n",
    "    temperature = 0.0,\n",
    "    max_tokens=512\n",
    ")\n",
    "\n",
    "print(completion.choices[0].message.content)"
   ]
  },
  {
   "cell_type": "markdown",
   "metadata": {
    "id": "DnsNW5MIHEne"
   },
   "source": [
    "## Task 5: Generate recipes for the given materials"
   ]
  },
  {
   "cell_type": "code",
   "execution_count": null,
   "metadata": {
    "id": "pKvFZJGwHX5s"
   },
   "outputs": [],
   "source": [
    "completion = client.chat.completions.create(\n",
    "    model=\"gpt-4o-mini\",\n",
    "    ############# TODO: Modify here #############\n",
    "    messages=[\n",
    "        {\"role\": \"system\", \"content\": \"You are a helpful assistant.\"},\n",
    "        {\n",
    "            \"role\": \"user\",\n",
    "            \"content\": \"\"\"\n",
    "            Generate a simple recipe using these materials: chicken, onion, garlic, squid, rice, soy sauce\n",
    "            \"\"\"\n",
    "        }\n",
    "    ],\n",
    "    #############################################\n",
    "    temperature = 0.0,\n",
    "    max_tokens=512\n",
    ")\n",
    "\n",
    "print(completion.choices[0].message.content)"
   ]
  },
  {
   "cell_type": "markdown",
   "metadata": {
    "id": "bbA_IAT5HYyc"
   },
   "source": [
    "## Task 6: Lyric generator"
   ]
  },
  {
   "cell_type": "code",
   "execution_count": null,
   "metadata": {
    "id": "WugvG39rICF-"
   },
   "outputs": [],
   "source": [
    "completion = client.chat.completions.create(\n",
    "    model=\"gpt-4o-mini\",\n",
    "    ############# TODO: Modify here #############\n",
    "    messages=[\n",
    "        {\"role\": \"system\", \"content\": \"You are a helpful assistant.\"},\n",
    "        {\n",
    "            \"role\": \"user\",\n",
    "            \"content\": \"\"\"\n",
    "            Generate lyrics for a song for love.\n",
    "            \"\"\"\n",
    "        }\n",
    "    ],\n",
    "    #############################################\n",
    "    temperature = 0.0,\n",
    "    max_tokens=512\n",
    ")\n",
    "\n",
    "print(completion.choices[0].message.content)"
   ]
  },
  {
   "cell_type": "markdown",
   "metadata": {
    "id": "GLPzLGn8IDRR"
   },
   "source": [
    "## Task 7: Planning a team project"
   ]
  },
  {
   "cell_type": "code",
   "execution_count": null,
   "metadata": {
    "id": "fV6KRiPn_DGD"
   },
   "outputs": [],
   "source": [
    "completion = client.chat.completions.create(\n",
    "    model=\"gpt-4o-mini\",\n",
    "    ############# TODO: Modify here #############\n",
    "    messages=[\n",
    "        {\"role\": \"system\", \"content\": \"You are a helpful assistant.\"},\n",
    "        {\n",
    "            \"role\": \"user\",\n",
    "            \"content\": \"\"\"\n",
    "            Generate a team project plan for the web application.\n",
    "            \"\"\"\n",
    "        }\n",
    "    ],\n",
    "    #############################################\n",
    "    temperature = 0.0,\n",
    "    max_tokens=512\n",
    ")\n",
    "\n",
    "print(completion.choices[0].message.content)"
   ]
  },
  {
   "cell_type": "markdown",
   "metadata": {
    "id": "nBnPthaqnjbE"
   },
   "source": [
    "## Task 8: Chatbot for customer service"
   ]
  },
  {
   "cell_type": "code",
   "execution_count": null,
   "metadata": {
    "id": "wvOtQdpkn8WS"
   },
   "outputs": [],
   "source": [
    "completion = client.chat.completions.create(\n",
    "    model=\"gpt-4o-mini\",\n",
    "    ############# TODO: Modify here #############\n",
    "    messages=[\n",
    "        {\"role\": \"system\", \"content\": \"You are a helpful assistant.\"},\n",
    "        {\n",
    "            \"role\": \"user\",\n",
    "            \"content\": \"\"\"\n",
    "            Create a response to the customer's delayed delivery complaint.\n",
    "            \"\"\"\n",
    "        }\n",
    "    ],\n",
    "    #############################################\n",
    "    temperature = 0.0,\n",
    "    max_tokens=512\n",
    ")\n",
    "\n",
    "print(completion.choices[0].message.content)"
   ]
  },
  {
   "cell_type": "markdown",
   "metadata": {
    "id": "6LDmTJYCpWaW"
   },
   "source": [
    "## Task 9: Joke generator"
   ]
  },
  {
   "cell_type": "code",
   "execution_count": null,
   "metadata": {
    "id": "CPFVFYs-p9Lk"
   },
   "outputs": [],
   "source": [
    "completion = client.chat.completions.create(\n",
    "    model=\"gpt-4o-mini\",\n",
    "    ############# TODO: Modify here #############\n",
    "    messages=[\n",
    "        {\"role\": \"system\", \"content\": \"You are a helpful assistant.\"},\n",
    "        {\n",
    "            \"role\": \"user\",\n",
    "            \"content\": \"\"\"\n",
    "            Make a joke about a programmer.\n",
    "            \"\"\"\n",
    "        }\n",
    "    ],\n",
    "    #############################################\n",
    "    temperature = 0.0,\n",
    "    max_tokens=512\n",
    ")\n",
    "\n",
    "print(completion.choices[0].message.content)"
   ]
  },
  {
   "cell_type": "markdown",
   "metadata": {
    "id": "9Xdl6030qNPZ"
   },
   "source": [
    "## Task 10: Novel project idea generator"
   ]
  },
  {
   "cell_type": "code",
   "execution_count": null,
   "metadata": {
    "id": "Qhl-j1vMqGws"
   },
   "outputs": [],
   "source": [
    "completion = client.chat.completions.create(\n",
    "    model=\"gpt-4o-mini\",\n",
    "    ############# TODO: Modify here #############\n",
    "    messages=[\n",
    "        {\"role\": \"system\", \"content\": \"You are a helpful assistant.\"},\n",
    "        {\n",
    "            \"role\": \"user\",\n",
    "            \"content\": \"\"\"\n",
    "            Suggest a novel idea for the prompt engineering project.\n",
    "            \"\"\"\n",
    "        }\n",
    "    ],\n",
    "    #############################################\n",
    "    temperature = 0.0,\n",
    "    max_tokens=512\n",
    ")\n",
    "\n",
    "print(completion.choices[0].message.content)"
   ]
  }
 ],
 "metadata": {
  "colab": {
   "authorship_tag": "ABX9TyPO4KS9N3KFNcTA4kPsx96t",
   "provenance": [],
   "toc_visible": true
  },
  "kernelspec": {
   "display_name": "Python 3 (ipykernel)",
   "language": "python",
   "name": "python3"
  },
  "language_info": {
   "codemirror_mode": {
    "name": "ipython",
    "version": 3
   },
   "file_extension": ".py",
   "mimetype": "text/x-python",
   "name": "python",
   "nbconvert_exporter": "python",
   "pygments_lexer": "ipython3",
   "version": "3.12.4"
  }
 },
 "nbformat": 4,
 "nbformat_minor": 4
}
