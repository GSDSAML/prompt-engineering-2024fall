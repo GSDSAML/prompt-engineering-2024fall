{
 "cells": [
  {
   "cell_type": "markdown",
   "metadata": {
    "id": "bICWWJCPGQ_6"
   },
   "source": [
    "# Makeup Assignment 1: Prompt Anatomy & Prompt Frameworks\n",
    "\n",
    "For the **given 5 tasks** below, please modify given prompt for the better output."
   ]
  },
  {
   "cell_type": "code",
   "execution_count": 1,
   "metadata": {
    "colab": {
     "base_uri": "https://localhost:8080/"
    },
    "executionInfo": {
     "elapsed": 13538,
     "status": "ok",
     "timestamp": 1728380053930,
     "user": {
      "displayName": "­이주현 / 학생 / 전기·정보공학부",
      "userId": "15395298132929410797"
     },
     "user_tz": -540
    },
    "id": "4Q4gv5jHeXDG",
    "outputId": "106d8f45-e23f-449d-f602-7f6f4e58a360"
   },
   "outputs": [
    {
     "name": "stdout",
     "output_type": "stream",
     "text": [
      "Collecting openai\n",
      "  Downloading openai-1.51.1-py3-none-any.whl.metadata (24 kB)\n",
      "Requirement already satisfied: anyio<5,>=3.5.0 in /usr/local/lib/python3.10/dist-packages (from openai) (3.7.1)\n",
      "Requirement already satisfied: distro<2,>=1.7.0 in /usr/lib/python3/dist-packages (from openai) (1.7.0)\n",
      "Collecting httpx<1,>=0.23.0 (from openai)\n",
      "  Downloading httpx-0.27.2-py3-none-any.whl.metadata (7.1 kB)\n",
      "Collecting jiter<1,>=0.4.0 (from openai)\n",
      "  Downloading jiter-0.6.1-cp310-cp310-manylinux_2_17_x86_64.manylinux2014_x86_64.whl.metadata (5.2 kB)\n",
      "Requirement already satisfied: pydantic<3,>=1.9.0 in /usr/local/lib/python3.10/dist-packages (from openai) (2.9.2)\n",
      "Requirement already satisfied: sniffio in /usr/local/lib/python3.10/dist-packages (from openai) (1.3.1)\n",
      "Requirement already satisfied: tqdm>4 in /usr/local/lib/python3.10/dist-packages (from openai) (4.66.5)\n",
      "Requirement already satisfied: typing-extensions<5,>=4.11 in /usr/local/lib/python3.10/dist-packages (from openai) (4.12.2)\n",
      "Requirement already satisfied: idna>=2.8 in /usr/local/lib/python3.10/dist-packages (from anyio<5,>=3.5.0->openai) (3.10)\n",
      "Requirement already satisfied: exceptiongroup in /usr/local/lib/python3.10/dist-packages (from anyio<5,>=3.5.0->openai) (1.2.2)\n",
      "Requirement already satisfied: certifi in /usr/local/lib/python3.10/dist-packages (from httpx<1,>=0.23.0->openai) (2024.8.30)\n",
      "Collecting httpcore==1.* (from httpx<1,>=0.23.0->openai)\n",
      "  Downloading httpcore-1.0.6-py3-none-any.whl.metadata (21 kB)\n",
      "Collecting h11<0.15,>=0.13 (from httpcore==1.*->httpx<1,>=0.23.0->openai)\n",
      "  Downloading h11-0.14.0-py3-none-any.whl.metadata (8.2 kB)\n",
      "Requirement already satisfied: annotated-types>=0.6.0 in /usr/local/lib/python3.10/dist-packages (from pydantic<3,>=1.9.0->openai) (0.7.0)\n",
      "Requirement already satisfied: pydantic-core==2.23.4 in /usr/local/lib/python3.10/dist-packages (from pydantic<3,>=1.9.0->openai) (2.23.4)\n",
      "Downloading openai-1.51.1-py3-none-any.whl (383 kB)\n",
      "\u001b[2K   \u001b[90m━━━━━━━━━━━━━━━━━━━━━━━━━━━━━━━━━━━━━━━━\u001b[0m \u001b[32m383.7/383.7 kB\u001b[0m \u001b[31m7.1 MB/s\u001b[0m eta \u001b[36m0:00:00\u001b[0m\n",
      "\u001b[?25hDownloading httpx-0.27.2-py3-none-any.whl (76 kB)\n",
      "\u001b[2K   \u001b[90m━━━━━━━━━━━━━━━━━━━━━━━━━━━━━━━━━━━━━━━━\u001b[0m \u001b[32m76.4/76.4 kB\u001b[0m \u001b[31m1.5 MB/s\u001b[0m eta \u001b[36m0:00:00\u001b[0m\n",
      "\u001b[?25hDownloading httpcore-1.0.6-py3-none-any.whl (78 kB)\n",
      "\u001b[2K   \u001b[90m━━━━━━━━━━━━━━━━━━━━━━━━━━━━━━━━━━━━━━━━\u001b[0m \u001b[32m78.0/78.0 kB\u001b[0m \u001b[31m3.9 MB/s\u001b[0m eta \u001b[36m0:00:00\u001b[0m\n",
      "\u001b[?25hDownloading jiter-0.6.1-cp310-cp310-manylinux_2_17_x86_64.manylinux2014_x86_64.whl (325 kB)\n",
      "\u001b[2K   \u001b[90m━━━━━━━━━━━━━━━━━━━━━━━━━━━━━━━━━━━━━━━━\u001b[0m \u001b[32m325.2/325.2 kB\u001b[0m \u001b[31m11.3 MB/s\u001b[0m eta \u001b[36m0:00:00\u001b[0m\n",
      "\u001b[?25hDownloading h11-0.14.0-py3-none-any.whl (58 kB)\n",
      "\u001b[2K   \u001b[90m━━━━━━━━━━━━━━━━━━━━━━━━━━━━━━━━━━━━━━━━\u001b[0m \u001b[32m58.3/58.3 kB\u001b[0m \u001b[31m1.0 MB/s\u001b[0m eta \u001b[36m0:00:00\u001b[0m\n",
      "\u001b[?25hInstalling collected packages: jiter, h11, httpcore, httpx, openai\n",
      "Successfully installed h11-0.14.0 httpcore-1.0.6 httpx-0.27.2 jiter-0.6.1 openai-1.51.1\n"
     ]
    }
   ],
   "source": [
    "# Install openai\n",
    "!pip install openai"
   ]
  },
  {
   "cell_type": "markdown",
   "metadata": {
    "id": "2duN-x-D2tMq"
   },
   "source": [
    "**Set API key**"
   ]
  },
  {
   "cell_type": "code",
   "execution_count": 2,
   "metadata": {
    "executionInfo": {
     "elapsed": 1953,
     "status": "ok",
     "timestamp": 1728380055875,
     "user": {
      "displayName": "­이주현 / 학생 / 전기·정보공학부",
      "userId": "15395298132929410797"
     },
     "user_tz": -540
    },
    "id": "eC1gO6J6ePbj"
   },
   "outputs": [],
   "source": [
    "# Set API key\n",
    "OPENAI_API_KEY=\"your_api_key_here\"\n",
    "\n",
    "from openai import OpenAI\n",
    "\n",
    "client = OpenAI(api_key=OPENAI_API_KEY)"
   ]
  },
  {
   "cell_type": "markdown",
   "metadata": {
    "id": "Lp60Qcc0GlKN"
   },
   "source": [
    "## Task 4: Syllabus generator\n"
   ]
  },
  {
   "cell_type": "code",
   "execution_count": 4,
   "metadata": {
    "colab": {
     "base_uri": "https://localhost:8080/"
    },
    "executionInfo": {
     "elapsed": 11536,
     "status": "ok",
     "timestamp": 1728380073062,
     "user": {
      "displayName": "­이주현 / 학생 / 전기·정보공학부",
      "userId": "15395298132929410797"
     },
     "user_tz": -540
    },
    "id": "IfUyqBpxGg_M",
    "outputId": "daa65083-eaf1-4109-b4d6-7df7c456374e"
   },
   "outputs": [
    {
     "name": "stdout",
     "output_type": "stream",
     "text": [
      "# Deep Learning Course Syllabus\n",
      "\n",
      "## Course Overview\n",
      "This course provides a comprehensive introduction to deep learning, covering the fundamental concepts, techniques, and applications. Students will learn about neural networks, optimization methods, and various architectures used in deep learning. The course will include both theoretical foundations and practical implementations using popular deep learning frameworks.\n",
      "\n",
      "## Course Objectives\n",
      "By the end of this course, students will be able to:\n",
      "1. Understand the fundamental concepts of deep learning and neural networks.\n",
      "2. Implement and train deep learning models using frameworks like TensorFlow and PyTorch.\n",
      "3. Apply deep learning techniques to solve real-world problems in various domains.\n",
      "4. Evaluate and optimize deep learning models for performance and accuracy.\n",
      "\n",
      "## Prerequisites\n",
      "- Basic knowledge of Python programming\n",
      "- Understanding of linear algebra and calculus\n",
      "- Familiarity with machine learning concepts is beneficial but not required\n",
      "\n",
      "## Course Structure\n",
      "The course will be divided into weekly modules, each focusing on specific topics. Each week will include lectures, readings, and hands-on programming assignments.\n",
      "\n",
      "### Week 1: Introduction to Deep Learning\n",
      "- Overview of deep learning and its applications\n",
      "- History and evolution of neural networks\n",
      "- Comparison with traditional machine learning\n",
      "\n",
      "### Week 2: Neural Networks Basics\n",
      "- Introduction to perceptrons and multi-layer perceptrons (MLPs)\n",
      "- Activation functions (ReLU, Sigmoid, Tanh)\n",
      "- Loss functions and optimization\n",
      "\n",
      "### Week 3: Training Neural Networks\n",
      "- Gradient descent and its variants (SGD, Adam)\n",
      "- Backpropagation algorithm\n",
      "- Overfitting and regularization techniques (L1, L2, Dropout)\n",
      "\n",
      "### Week 4: Convolutional Neural Networks (CNNs)\n",
      "- Introduction to CNNs and their architecture\n",
      "- Convolutional layers, pooling layers, and fully connected layers\n",
      "- Applications of CNNs in image processing\n",
      "\n",
      "### Week 5: Recurrent Neural Networks (RNNs)\n",
      "- Introduction to RNNs and their architecture\n",
      "- Long Short-Term Memory (LSTM) and Gated Recurrent Units (GRUs)\n",
      "- Applications of RNNs in sequence data (NLP, time series)\n",
      "\n",
      "### Week 6: Advanced Deep Learning Architectures\n",
      "- Introduction to Generative Adversarial Networks (GANs)\n",
      "- Variational Autoencoders (VAEs)\n",
      "- Transfer learning and pre-trained models\n",
      "\n",
      "### Week 7: Natural Language Processing with Deep Learning\n",
      "- Word embeddings (Word2Vec, GloVe)\n",
      "- Sequence-to-sequence models\n",
      "- Applications in text classification\n"
     ]
    }
   ],
   "source": [
    "completion = client.chat.completions.create(\n",
    "    model=\"gpt-4o-mini\",\n",
    "    ############# TODO: Modify here #############\n",
    "    messages=[\n",
    "        {\"role\": \"system\", \"content\": \"You are a helpful assistant.\"},\n",
    "        {\n",
    "            \"role\": \"user\",\n",
    "            \"content\": \"\"\"\n",
    "            Generate a syllabus for the Deep Learning Course.\n",
    "            \"\"\"\n",
    "        }\n",
    "    ],\n",
    "    #############################################\n",
    "    temperature = 0.0,\n",
    "    max_tokens=512\n",
    ")\n",
    "\n",
    "print(completion.choices[0].message.content)"
   ]
  },
  {
   "cell_type": "markdown",
   "metadata": {
    "id": "DnsNW5MIHEne"
   },
   "source": [
    "## Task 5: Create a riddle"
   ]
  },
  {
   "cell_type": "code",
   "execution_count": 5,
   "metadata": {
    "colab": {
     "base_uri": "https://localhost:8080/"
    },
    "executionInfo": {
     "elapsed": 1593,
     "status": "ok",
     "timestamp": 1728380147489,
     "user": {
      "displayName": "­이주현 / 학생 / 전기·정보공학부",
      "userId": "15395298132929410797"
     },
     "user_tz": -540
    },
    "id": "pKvFZJGwHX5s",
    "outputId": "683a2069-5a40-4d97-b0d0-9fe7b394646f"
   },
   "outputs": [
    {
     "name": "stdout",
     "output_type": "stream",
     "text": [
      "Sure! Here’s a riddle for you:\n",
      "\n",
      "I can be cracked, made, told, and played.  \n",
      "I can bring laughter or leave you dismayed.  \n",
      "What am I?  \n",
      "\n",
      "What’s your answer?\n"
     ]
    }
   ],
   "source": [
    "completion = client.chat.completions.create(\n",
    "    model=\"gpt-4o-mini\",\n",
    "    ############# TODO: Modify here #############\n",
    "    messages=[\n",
    "        {\"role\": \"system\", \"content\": \"You are a helpful assistant.\"},\n",
    "        {\n",
    "            \"role\": \"user\",\n",
    "            \"content\": \"\"\"\n",
    "            Create a riddle.\n",
    "            \"\"\"\n",
    "        }\n",
    "    ],\n",
    "    #############################################\n",
    "    temperature = 0.0,\n",
    "    max_tokens=512\n",
    ")\n",
    "\n",
    "print(completion.choices[0].message.content)"
   ]
  },
  {
   "cell_type": "markdown",
   "metadata": {
    "id": "bbA_IAT5HYyc"
   },
   "source": [
    "## Task 6: Research idea generator"
   ]
  },
  {
   "cell_type": "code",
   "execution_count": 6,
   "metadata": {
    "colab": {
     "base_uri": "https://localhost:8080/"
    },
    "executionInfo": {
     "elapsed": 7453,
     "status": "ok",
     "timestamp": 1728380459325,
     "user": {
      "displayName": "­이주현 / 학생 / 전기·정보공학부",
      "userId": "15395298132929410797"
     },
     "user_tz": -540
    },
    "id": "WugvG39rICF-",
    "outputId": "65daa5f3-9e17-4915-f7b9-1337af47e695"
   },
   "outputs": [
    {
     "name": "stdout",
     "output_type": "stream",
     "text": [
      "**Research Idea: \"Contextual Adaptation in Large Language Models for Domain-Specific Applications\"**\n",
      "\n",
      "### Overview:\n",
      "This research aims to explore how large language models (LLMs) can be adapted to perform better in specific domains (e.g., legal, medical, technical) by leveraging contextual information and domain-specific knowledge. The goal is to enhance the performance of LLMs in specialized tasks while maintaining their generalizability.\n",
      "\n",
      "### Objectives:\n",
      "1. **Domain Identification**: Identify key domains where LLMs currently underperform and could benefit from contextual adaptation.\n",
      "2. **Data Collection**: Gather domain-specific datasets that include both general language use and specialized terminology.\n",
      "3. **Model Adaptation Techniques**: Develop and evaluate techniques for adapting LLMs to these domains, such as:\n",
      "   - Fine-tuning on domain-specific datasets.\n",
      "   - Incorporating external knowledge bases or ontologies.\n",
      "   - Using prompt engineering to guide the model's responses.\n",
      "4. **Evaluation Metrics**: Establish metrics to evaluate the performance of adapted models in domain-specific tasks, focusing on accuracy, relevance, and user satisfaction.\n",
      "5. **User Studies**: Conduct user studies to assess the practical impact of domain-adapted LLMs in real-world applications.\n",
      "\n",
      "### Methodology:\n",
      "- **Fine-tuning**: Use transfer learning to fine-tune existing LLMs on curated domain-specific datasets.\n",
      "- **Prompt Engineering**: Experiment with different prompting strategies to elicit better responses from the model in specialized contexts.\n",
      "- **Knowledge Integration**: Explore methods to integrate structured knowledge (e.g., knowledge graphs) into the LLM's architecture to enhance its understanding of domain-specific concepts.\n",
      "\n",
      "### Expected Outcomes:\n",
      "- A set of best practices for adapting LLMs to various domains.\n",
      "- Improved performance of LLMs in specialized tasks, leading to more accurate and relevant outputs.\n",
      "- A framework for evaluating the effectiveness of domain adaptation techniques in LLMs.\n",
      "\n",
      "### Potential Applications:\n",
      "- Legal document analysis and summarization.\n",
      "- Medical diagnosis support and patient communication.\n",
      "- Technical support and troubleshooting in engineering fields.\n",
      "\n",
      "### Future Directions:\n",
      "- Investigate the scalability of adaptation techniques across multiple domains.\n",
      "- Explore the ethical implications of using LLMs in sensitive areas like healthcare and law.\n",
      "- Develop user-friendly tools for practitioners to adapt LLMs to their specific needs without requiring extensive technical expertise. \n",
      "\n",
      "This research could significantly enhance the utility of LLMs in specialized fields, making them more effective tools for professionals and improving outcomes in various applications.\n"
     ]
    }
   ],
   "source": [
    "completion = client.chat.completions.create(\n",
    "    model=\"gpt-4o-mini\",\n",
    "    ############# TODO: Modify here #############\n",
    "    messages=[\n",
    "        {\"role\": \"system\", \"content\": \"You are a helpful assistant.\"},\n",
    "        {\n",
    "            \"role\": \"user\",\n",
    "            \"content\": \"\"\"\n",
    "            Generate an idea for LLM research.\n",
    "            \"\"\"\n",
    "        }\n",
    "    ],\n",
    "    #############################################\n",
    "    temperature = 0.0,\n",
    "    max_tokens=512\n",
    ")\n",
    "\n",
    "print(completion.choices[0].message.content)"
   ]
  },
  {
   "cell_type": "markdown",
   "metadata": {
    "id": "GLPzLGn8IDRR"
   },
   "source": [
    "## Task 7: Write an invitation letter"
   ]
  },
  {
   "cell_type": "code",
   "execution_count": 7,
   "metadata": {
    "colab": {
     "base_uri": "https://localhost:8080/"
    },
    "executionInfo": {
     "elapsed": 7396,
     "status": "ok",
     "timestamp": 1728380862716,
     "user": {
      "displayName": "­이주현 / 학생 / 전기·정보공학부",
      "userId": "15395298132929410797"
     },
     "user_tz": -540
    },
    "id": "fV6KRiPn_DGD",
    "outputId": "f2e50a73-a419-410b-ff59-86d7369c6163"
   },
   "outputs": [
    {
     "name": "stdout",
     "output_type": "stream",
     "text": [
      "[Your Name]  \n",
      "[Your Address]  \n",
      "[City, State, Zip Code]  \n",
      "[Email Address]  \n",
      "[Phone Number]  \n",
      "[Date]  \n",
      "\n",
      "[Recipient's Name]  \n",
      "[Recipient's Address]  \n",
      "[City, State, Zip Code]  \n",
      "\n",
      "Dear [Recipient's Name],\n",
      "\n",
      "I hope this message finds you well! I am excited to invite you to my birthday party as I celebrate another year of life. It would mean a lot to me to have you there to share in the fun and festivities.\n",
      "\n",
      "**Date:** [Date of the Party]  \n",
      "**Time:** [Start Time] to [End Time]  \n",
      "**Location:** [Venue/Address of the Party]  \n",
      "\n",
      "We will have food, drinks, games, and plenty of laughter. It’s a great opportunity to catch up and enjoy some time together. Please let me know if you can make it by [RSVP Date].\n",
      "\n",
      "Feel free to bring along a friend or two! I can’t wait to celebrate with you.\n",
      "\n",
      "Warm regards,\n",
      "\n",
      "[Your Name]  \n",
      "\n",
      "---\n",
      "\n",
      "Feel free to customize the details as needed!\n"
     ]
    }
   ],
   "source": [
    "completion = client.chat.completions.create(\n",
    "    model=\"gpt-4o-mini\",\n",
    "    ############# TODO: Modify here #############\n",
    "    messages=[\n",
    "        {\"role\": \"system\", \"content\": \"You are a helpful assistant.\"},\n",
    "        {\n",
    "            \"role\": \"user\",\n",
    "            \"content\": \"\"\"\n",
    "            Write an invitation letter for the birthday party.\n",
    "            \"\"\"\n",
    "        }\n",
    "    ],\n",
    "    #############################################\n",
    "    temperature = 0.0,\n",
    "    max_tokens=512\n",
    ")\n",
    "\n",
    "print(completion.choices[0].message.content)"
   ]
  },
  {
   "cell_type": "markdown",
   "metadata": {
    "id": "nBnPthaqnjbE"
   },
   "source": [
    "## Task 8: Make a news title likely to get many clicks"
   ]
  },
  {
   "cell_type": "code",
   "execution_count": 8,
   "metadata": {
    "colab": {
     "base_uri": "https://localhost:8080/"
    },
    "executionInfo": {
     "elapsed": 1274,
     "status": "ok",
     "timestamp": 1728381300835,
     "user": {
      "displayName": "­이주현 / 학생 / 전기·정보공학부",
      "userId": "15395298132929410797"
     },
     "user_tz": -540
    },
    "id": "wvOtQdpkn8WS",
    "outputId": "6817bf38-cc7c-406e-e0ff-3f69bcdb8f1a"
   },
   "outputs": [
    {
     "name": "stdout",
     "output_type": "stream",
     "text": [
      "\"Thrilling Showdown: [Team A] Clinches Victory Over [Team B] in Nail-Biting Match!\"\n"
     ]
    }
   ],
   "source": [
    "completion = client.chat.completions.create(\n",
    "    model=\"gpt-4o-mini\",\n",
    "    ############# TODO: Modify here #############\n",
    "    messages=[\n",
    "        {\"role\": \"system\", \"content\": \"You are a helpful assistant.\"},\n",
    "        {\n",
    "            \"role\": \"user\",\n",
    "            \"content\": \"\"\"\n",
    "            Create a title for the news about the sports match result.\n",
    "            \"\"\"\n",
    "        }\n",
    "    ],\n",
    "    #############################################\n",
    "    temperature = 0.0,\n",
    "    max_tokens=512\n",
    ")\n",
    "\n",
    "print(completion.choices[0].message.content)"
   ]
  }
 ],
 "metadata": {
  "colab": {
   "authorship_tag": "ABX9TyMMCR6O9ASxVr6lpGDi8HW2",
   "provenance": [
    {
     "file_id": "1nKUwRhS8Bt607T3SM9SsRkxfB75GlMXD",
     "timestamp": 1728377366511
    }
   ],
   "toc_visible": true
  },
  "kernelspec": {
   "display_name": "Python 3 (ipykernel)",
   "language": "python",
   "name": "python3"
  },
  "language_info": {
   "codemirror_mode": {
    "name": "ipython",
    "version": 3
   },
   "file_extension": ".py",
   "mimetype": "text/x-python",
   "name": "python",
   "nbconvert_exporter": "python",
   "pygments_lexer": "ipython3",
   "version": "3.12.4"
  }
 },
 "nbformat": 4,
 "nbformat_minor": 4
}
