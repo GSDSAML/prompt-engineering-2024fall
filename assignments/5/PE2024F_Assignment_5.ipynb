{
 "cells": [
  {
   "cell_type": "markdown",
   "metadata": {
    "id": "w0WCcr_F4-oP"
   },
   "source": [
    "# Assignment 5: Agent\n",
    "\n"
   ]
  },
  {
   "cell_type": "markdown",
   "metadata": {
    "id": "AJ9aSBdUblAI"
   },
   "source": [
    "In this assignment, you will write a program to solve Wordle using LLM agent.\n",
    "\n",
    "## What is Wordle\n",
    "\n",
    "Wordle is a word puzzle game where players have **six chances** to guess a hidden **five-letter word**. After each guess, the game provides feedback to help players refine their guesses:\n",
    "\n",
    "* A **green** letter is in the correct position.\n",
    "* A **yellow** letter is in the word but in the wrong position.\n",
    "* A **gray** letter is not in the word at all.\n",
    "\n",
    "The challenge lies in using these clues strategically to solve the word in the **fewest number of guesses** possible.\n",
    "\n",
    "You can try Wordle game here:\n",
    "* https://www.nytimes.com/games/wordle/index.html: The New York Times Wordle (Daily)\n",
    "* https://wordly.org/"
   ]
  },
  {
   "cell_type": "markdown",
   "metadata": {
    "id": "t9o8gGNgEx12"
   },
   "source": [
    "## Environment Setup"
   ]
  },
  {
   "cell_type": "code",
   "execution_count": null,
   "metadata": {
    "id": "YD-GUB6s78er"
   },
   "outputs": [],
   "source": [
    "# Install langchain\n",
    "!pip install -qU langchain"
   ]
  },
  {
   "cell_type": "code",
   "execution_count": null,
   "metadata": {
    "id": "2ko0_OeTDlr3"
   },
   "outputs": [],
   "source": [
    "# Install langchain-openai\n",
    "!pip install -qU langchain-openai"
   ]
  },
  {
   "cell_type": "code",
   "execution_count": null,
   "metadata": {
    "id": "TTG2yldUdEOz"
   },
   "outputs": [],
   "source": [
    "!pip install -qU wordle-python"
   ]
  },
  {
   "cell_type": "markdown",
   "metadata": {
    "id": "2duN-x-D2tMq"
   },
   "source": [
    "### Set API key"
   ]
  },
  {
   "cell_type": "code",
   "execution_count": null,
   "metadata": {
    "id": "T3K6uUOvP8DP"
   },
   "outputs": [],
   "source": [
    "# Set API key\n",
    "OPENAI_API_KEY=\"your_api_key_here\""
   ]
  },
  {
   "cell_type": "markdown",
   "metadata": {
    "id": "C4rMQuiGBRsh"
   },
   "source": [
    "## Test Wordle"
   ]
  },
  {
   "cell_type": "code",
   "execution_count": null,
   "metadata": {
    "id": "Wvudv5yxBzW-"
   },
   "outputs": [],
   "source": [
    "import wordle\n",
    "\n",
    "word = \"EAGLE\"\n",
    "\n",
    "game = wordle.Wordle(word, real_words = True)\n",
    "\n",
    "### Validating user guess\n",
    "response = game.send_guess(\"WHEAT\")\n",
    "print(response)"
   ]
  },
  {
   "cell_type": "code",
   "execution_count": null,
   "metadata": {
    "id": "s1aOHbX4eitO"
   },
   "outputs": [],
   "source": [
    "guess = \"eater\"\n",
    "response = game.send_guess(guess)\n",
    "print(response)"
   ]
  },
  {
   "cell_type": "code",
   "execution_count": null,
   "metadata": {
    "id": "3N5bsZ_lelbh"
   },
   "outputs": [],
   "source": [
    "guess = \"prompt\"\n",
    "response = game.send_guess(guess)\n",
    "print(response)"
   ]
  },
  {
   "cell_type": "code",
   "execution_count": null,
   "metadata": {
    "id": "74JyjHUB4F60"
   },
   "outputs": [],
   "source": [
    "guess = \"abcde\"\n",
    "print(game.send_guess(guess))"
   ]
  },
  {
   "cell_type": "code",
   "execution_count": null,
   "metadata": {
    "id": "oEkfPS-636GT"
   },
   "outputs": [],
   "source": [
    "guess = \"A bird\"\n",
    "print(game.send_guess(guess))"
   ]
  },
  {
   "cell_type": "code",
   "execution_count": null,
   "metadata": {
    "id": "-ivponV059gm"
   },
   "outputs": [],
   "source": [
    "guess = \"break\"\n",
    "print(game.send_guess(guess))"
   ]
  },
  {
   "cell_type": "code",
   "execution_count": null,
   "metadata": {
    "id": "4Y9cXm7h7gdI"
   },
   "outputs": [],
   "source": [
    "guess = \"brake\"\n",
    "print(game.send_guess(guess))"
   ]
  },
  {
   "cell_type": "code",
   "execution_count": null,
   "metadata": {
    "id": "3udatKHE7koG"
   },
   "outputs": [],
   "source": [
    "guess = \"crazy\"\n",
    "print(game.send_guess(guess))"
   ]
  },
  {
   "cell_type": "code",
   "execution_count": null,
   "metadata": {
    "id": "OjjZ9SbDKphN"
   },
   "outputs": [],
   "source": [
    "guess = \"fable\"\n",
    "print(game.send_guess(guess))"
   ]
  },
  {
   "cell_type": "code",
   "execution_count": null,
   "metadata": {
    "id": "kPQaIoYGLFbJ"
   },
   "outputs": [],
   "source": [
    "word = \"GAMES\"\n",
    "\n",
    "game = wordle.Wordle(word, real_words = True)\n",
    "\n",
    "### Validating user guess\n",
    "response = game.send_guess(\"TREES\")\n",
    "print(response)"
   ]
  },
  {
   "cell_type": "code",
   "execution_count": null,
   "metadata": {
    "id": "iPpYRcVKUZZy"
   },
   "outputs": [],
   "source": [
    "# prompt: check if the response is the tuple or not\n",
    "\n",
    "if isinstance(response, tuple):\n",
    "  print(\"The response is a tuple.\")\n",
    "else:\n",
    "  print(\"The response is not a tuple.\")"
   ]
  },
  {
   "cell_type": "markdown",
   "metadata": {
    "id": "OHTtJfl87Ax8"
   },
   "source": [
    "## Define Class for Structured Output"
   ]
  },
  {
   "cell_type": "code",
   "execution_count": null,
   "metadata": {
    "id": "nIRVEitIKg6k"
   },
   "outputs": [],
   "source": [
    "from pydantic import BaseModel, Field\n",
    "\n",
    "# TypedDict\n",
    "class Guess(BaseModel):\n",
    "    \"\"\"Wordle guess\"\"\"\n",
    "\n",
    "    reason: str = Field(description = \"reason for the guess\")\n",
    "    guess: str = Field(description = \"next best word to guess\")"
   ]
  },
  {
   "cell_type": "markdown",
   "metadata": {
    "id": "ztDA7lWl5Z4s"
   },
   "source": [
    "## Using Language Models"
   ]
  },
  {
   "cell_type": "code",
   "execution_count": null,
   "metadata": {
    "id": "9Qxvsp02nW5y"
   },
   "outputs": [],
   "source": [
    "# Prepare model\n",
    "from langchain_openai import ChatOpenAI\n",
    "\n",
    "llm = ChatOpenAI(model=\"gpt-4o-mini\", temperature=0.00, api_key=OPENAI_API_KEY, max_tokens=512)\n",
    "struct_llm = llm.with_structured_output(Guess)"
   ]
  },
  {
   "cell_type": "code",
   "execution_count": null,
   "metadata": {
    "id": "P6SWflAOrVAi"
   },
   "outputs": [],
   "source": [
    "from langchain_core.prompts import PromptTemplate"
   ]
  },
  {
   "cell_type": "markdown",
   "metadata": {
    "id": "KKI5bGmKTfCi"
   },
   "source": [
    "## Test GPT-4o-mini with a simple Agent"
   ]
  },
  {
   "cell_type": "markdown",
   "metadata": {
    "id": "5ZY52WEGc0Oh"
   },
   "source": [
    "### Define Prompt Templates"
   ]
  },
  {
   "cell_type": "code",
   "execution_count": null,
   "metadata": {
    "id": "WP6aSZf_JegW"
   },
   "outputs": [],
   "source": [
    "guess_prompt = PromptTemplate(\n",
    "    input_variables=[\"game_status\"],\n",
    "    template=\"\"\"\n",
    "    You are a Wordle solver. Your goal is to guess the secret five-letter word in as few tries as possible.\n",
    "    You will receive the current game status, including previous guesses and results.\n",
    "    - Italic Capital Letter (ex: *A*): The letter is in the correct position.\n",
    "    - Capital Letter (ex: A): The letter is in the word but in the wrong position.\n",
    "    - Lower Letter (ex: a): The letter is not in the word.\n",
    "    Based on this information, suggest the next best word to guess.\n",
    "    Respond in JSON with `guess` and `reason` keys\"\n",
    "\n",
    "    <Example>\n",
    "    Game Status:\n",
    "    Game Start!\n",
    "    Result 1: 'c   *R*   A   t   E   '\n",
    "    Output JSON:\n",
    "    {{\n",
    "      'reason': 'The letter 'R' is in the correct position and the letters 'A', 'E' are in the word but in the wrong position. And 'C', 'T' are not in the word.\\\n",
    "       A good next guess could be \"DREAM\", which avoids the lower letters and tries the 'A' and 'E' in different spots along with some new consonants.',\n",
    "      'guess': 'DREAM'\n",
    "    }}\n",
    "    </Example>\n",
    "\n",
    "    Game Status:\n",
    "    {game_status}\n",
    "\n",
    "    Output JSON:\n",
    "    {{\n",
    "      'reason': 'Reason for the guess'\n",
    "      'guess': 'Next best word to guess'\n",
    "    }}\n",
    "    \"\"\"\n",
    ")\n",
    "\n",
    "guess_chain = guess_prompt | struct_llm"
   ]
  },
  {
   "cell_type": "code",
   "execution_count": null,
   "metadata": {
    "id": "Qgg16pPJJgR9"
   },
   "outputs": [],
   "source": [
    "game_status = 'Game Start!'\n",
    "\n",
    "guess = guess_chain.invoke({\"game_status\": game_status})"
   ]
  },
  {
   "cell_type": "code",
   "execution_count": null,
   "metadata": {
    "id": "VP0K8KAeJmVF"
   },
   "outputs": [],
   "source": [
    "guess"
   ]
  },
  {
   "cell_type": "markdown",
   "metadata": {
    "id": "64orJ49qTFHJ"
   },
   "source": [
    "### Wordle Solver"
   ]
  },
  {
   "cell_type": "code",
   "execution_count": null,
   "metadata": {
    "id": "djMV2uFh31kZ"
   },
   "outputs": [],
   "source": [
    "def solve_wordle(word):\n",
    "  \"\"\"Solves a Wordle game using an LLM.\n",
    "\n",
    "  Args:\n",
    "    word: A Wordle game answer.\n",
    "\n",
    "  Returns:\n",
    "    The solution word, or None if the game could not be solved.\n",
    "    The number of tries it took to solve the game.\n",
    "  \"\"\"\n",
    "  game = wordle.Wordle(word, real_words=True)\n",
    "\n",
    "  game_status = \"Game Start!\"\n",
    "\n",
    "  tries = 0\n",
    "\n",
    "  while tries < 6:\n",
    "    guess = guess_chain.invoke({\"game_status\": game_status})\n",
    "    print(guess)\n",
    "    guess = guess.guess.replace(\" \", \"\") # deletes spacings in the output\n",
    "    response = game.send_guess(guess)\n",
    "\n",
    "    if isinstance(response, tuple):\n",
    "      if response[1]:\n",
    "        print(response)\n",
    "        tries += 1\n",
    "        print(\"Wordle solved! The word was\", game.word)\n",
    "        return guess, tries\n",
    "      else:\n",
    "        print(response)\n",
    "        tries += 1\n",
    "        game_status += '\\n' + 'Result ' + str(tries) + ': ' + response[0]\n",
    "        if tries == 6:\n",
    "          print(\"Failed to solve Wordle within 6 tries.\")\n",
    "          return None, tries\n",
    "        continue\n",
    "    else:\n",
    "      print(response)\n",
    "      game_status += '\\n' + guess + \": \"+ response\n",
    "      continue\n",
    "# Test Function\n",
    "word = \"EAGLE\"\n",
    "print(solve_wordle(word))"
   ]
  },
  {
   "cell_type": "code",
   "execution_count": null,
   "metadata": {
    "id": "V8WmA05ldYOr"
   },
   "outputs": [],
   "source": [
    "test_word_list_20 = ['Crisp', 'Blown', 'Heart', 'Gloom', 'Flare', 'Juicy', 'Vapid', 'Mirth', 'Pluck', 'Grave',\n",
    "                  'Snipe', 'Batch', 'Drown', 'Lofty', 'Quake', 'Shark', 'Moped', 'Whirl', 'Grasp', 'Fjord']\n",
    "test_word_list_10 = [\"Trend\", \"Brisk\", \"Giant\", \"Mouth\", \"Flick\", \"Spear\", \"Dwell\", \"Grimy\", \"Vouch\", \"Knead\"]"
   ]
  },
  {
   "cell_type": "code",
   "execution_count": null,
   "metadata": {
    "id": "ngnHPg5-c4vv"
   },
   "outputs": [],
   "source": [
    "def test_wordle_solver(test_word_list):\n",
    "  \"\"\"Tests the Wordle solver with a list of words and calculates success rate and average solve tries.\n",
    "\n",
    "  Args:\n",
    "    test_word_list: A list of words to test the solver with.\n",
    "\n",
    "  Returns:\n",
    "    A tuple containing the success rate and average solve tries.\n",
    "  \"\"\"\n",
    "  success_count = 0\n",
    "  total_tries = 0\n",
    "\n",
    "  for word in test_word_list:\n",
    "    solution, tries = solve_wordle(word)\n",
    "    if solution:\n",
    "      success_count += 1\n",
    "      total_tries += tries\n",
    "\n",
    "  if success_count > 0:\n",
    "    success_rate = (success_count / len(test_word_list)) * 100\n",
    "    average_tries = total_tries / success_count\n",
    "  else:\n",
    "    success_rate = 0\n",
    "    average_tries = 0\n",
    "\n",
    "  return success_rate, average_tries\n",
    "\n",
    "# Test the Wordle solver with the test_word_list\n",
    "# success_rate, average_tries = test_wordle_solver(test_word_list_20)\n",
    "success_rate, average_tries = test_wordle_solver(test_word_list_10)\n",
    "print(f\"Success Rate: {success_rate:.2f}%\")\n",
    "print(f\"Average Solve Tries: {average_tries:.2f}\")"
   ]
  },
  {
   "cell_type": "markdown",
   "metadata": {
    "id": "vRYXe3QqVrib"
   },
   "source": [
    "## TODO: Improve Wordle Solver Agent\n",
    "\n"
   ]
  },
  {
   "cell_type": "markdown",
   "metadata": {
    "id": "qPEeCRs9k41l"
   },
   "source": [
    "### Pre-defined Tools\n",
    "\n",
    "You can use, modify these pre-defined tools.\n",
    "\n",
    "You can also define your own tools for the Wordle solver agent."
   ]
  },
  {
   "cell_type": "markdown",
   "metadata": {
    "id": "Q0EsPyb9lq9W"
   },
   "source": [
    "#### Alphabet Tools"
   ]
  },
  {
   "cell_type": "code",
   "execution_count": null,
   "metadata": {
    "id": "s14CDWJgmxnY"
   },
   "outputs": [],
   "source": [
    "def find_absent_letters(game_status):\n",
    "  \"\"\"\n",
    "  Finds absent letters in the game_status, excluding the game messages.\n",
    "\n",
    "  Returns:\n",
    "    A string list of absent letters.\n",
    "  \"\"\"\n",
    "  absent_letters = set()\n",
    "  lines = game_status.splitlines()\n",
    "  for line in lines:\n",
    "    if line.startswith(\"Result\"):\n",
    "      parts = line.split(\":\")\n",
    "      if len(parts) > 1:\n",
    "        for char in parts[1]:\n",
    "          if 'a' <= char <= 'z':\n",
    "            absent_letters.add(char)\n",
    "  return sorted(list(absent_letters))"
   ]
  },
  {
   "cell_type": "code",
   "execution_count": null,
   "metadata": {
    "id": "vZJvHUBemzV1"
   },
   "outputs": [],
   "source": [
    "game_status = \"\"\"Game Start!\n",
    "Result 1: c   r   A   n   *E*\n",
    "Result 2: A   n   *G*   *L*   *E*\n",
    "\"\"\"\n",
    "result = find_absent_letters(game_status)\n",
    "print(result)"
   ]
  },
  {
   "cell_type": "code",
   "execution_count": null,
   "metadata": {
    "id": "iQ58BcU8r2fg"
   },
   "outputs": [],
   "source": [
    "def find_possible_letters(game_status):\n",
    "  \"\"\"\n",
    "  Finds possible letters in the game_status, excluding the game messages.\n",
    "  Possible letters are the letters that are not in the absent letters.\n",
    "\n",
    "  Returns:\n",
    "    A string list of possible letters.\n",
    "  \"\"\"\n",
    "  absent_letters = set()\n",
    "  present_letters = set()\n",
    "  lines = game_status.splitlines()\n",
    "  for line in lines:\n",
    "    if line.startswith(\"Result\"):\n",
    "      parts = line.split(\":\")\n",
    "      if len(parts) > 1:\n",
    "        for char in parts[1]:\n",
    "          if 'a' <= char <= 'z':\n",
    "            absent_letters.add(char)\n",
    "\n",
    "  all_letters = set(\"abcdefghijklmnopqrstuvwxyz\")\n",
    "  possible_letters = sorted(list(all_letters - absent_letters))\n",
    "  return possible_letters"
   ]
  },
  {
   "cell_type": "code",
   "execution_count": null,
   "metadata": {
    "id": "R5QBcwdRtnDZ"
   },
   "outputs": [],
   "source": [
    "game_status = \"\"\"Game Start!\n",
    "Result 1: c   r   A   n   *E*\n",
    "Result 2: A   n   *G*   *L*   *E*\n",
    "\"\"\"\n",
    "result = find_possible_letters(game_status)\n",
    "print(result)"
   ]
  },
  {
   "cell_type": "code",
   "execution_count": null,
   "metadata": {
    "id": "faIoMoTt3v-l"
   },
   "outputs": [],
   "source": [
    "','.join(result)"
   ]
  },
  {
   "cell_type": "markdown",
   "metadata": {
    "id": "h5XL5EP7lT5a"
   },
   "source": [
    "### Guess Prompt"
   ]
  },
  {
   "cell_type": "code",
   "execution_count": null,
   "metadata": {
    "id": "zWdRbszulYkq"
   },
   "outputs": [],
   "source": [
    "from langchain_core.prompts import PromptTemplate\n",
    "guess_prompt = PromptTemplate(\n",
    "    input_variables= ####### TODO #######\n",
    "    ,\n",
    "    template=\"\"\"\n",
    "    ####### TODO #######\n",
    "    \"\"\"\n",
    ")"
   ]
  },
  {
   "cell_type": "markdown",
   "metadata": {
    "id": "K6z2dAoKdXAa"
   },
   "source": [
    "### Class for Structured Output"
   ]
  },
  {
   "cell_type": "code",
   "execution_count": null,
   "metadata": {
    "id": "kRd1PcbQV7xU"
   },
   "outputs": [],
   "source": [
    "from typing import List\n",
    "from pydantic import BaseModel, Field\n",
    "\n",
    "# TypedDict\n",
    "class\n",
    "####### TODO #######"
   ]
  },
  {
   "cell_type": "code",
   "execution_count": null,
   "metadata": {
    "id": "mTLZ-wJHWdOn"
   },
   "outputs": [],
   "source": [
    "# Prepare model\n",
    "from langchain_openai import ChatOpenAI\n",
    "\n",
    "llm = ChatOpenAI(model=\"gpt-4o-mini\", temperature=0.00, api_key=OPENAI_API_KEY, max_tokens=512)\n",
    "struct_llm = llm.with_structured_output(Guess)"
   ]
  },
  {
   "cell_type": "code",
   "execution_count": null,
   "metadata": {
    "id": "-B1JsyMswZOY"
   },
   "outputs": [],
   "source": [
    "guess_chain = guess_prompt | struct_llm"
   ]
  },
  {
   "cell_type": "markdown",
   "metadata": {
    "id": "_rn-NkLlwmdA"
   },
   "source": [
    "#### Wordle Solver"
   ]
  },
  {
   "cell_type": "code",
   "execution_count": null,
   "metadata": {
    "id": "BylsYvaeXQDM"
   },
   "outputs": [],
   "source": [
    "def solve_wordle(word):\n",
    "  \"\"\"Solves a Wordle game using an LLM.\n",
    "\n",
    "  Args:\n",
    "    word: A Wordle game answer.\n",
    "\n",
    "  Returns:\n",
    "    The solution word, or None if the game could not be solved.\n",
    "    The number of tries it took to solve the game.\n",
    "  \"\"\"\n",
    "  game = wordle.Wordle(word, real_words=True)\n",
    "\n",
    "  game_status = \"Game Start!\"\n",
    "  previous_guesses = []\n",
    "\n",
    "  tries = 0\n",
    "  patience = 9\n",
    "\n",
    "  while tries < 6:\n",
    "    absent_letters = find_absent_letters(game_status)\n",
    "    guess = guess_chain.invoke({####### TODO: fill in with input variables for your own prompt template #######})\n",
    "    print(guess)\n",
    "    try:\n",
    "      guess = guess.guess.replace(\" \", \"\") # deletes spacings in the output\n",
    "    except AttributeError:\n",
    "      print(\"Failed to extract guess from response:\", guess)\n",
    "      guess = \"CRANE\"\n",
    "    response = game.send_guess(guess)\n",
    "    previous_guesses.append(guess)\n",
    "\n",
    "\n",
    "    if isinstance(response, tuple):\n",
    "      if response[1]:\n",
    "        print(response)\n",
    "        tries += 1\n",
    "        print(\"Wordle solved! The word was\", game.word)\n",
    "        return guess, tries\n",
    "      else:\n",
    "        print(response)\n",
    "        tries += 1\n",
    "        game_status += '\\n' + 'Result ' + str(tries) + ': ' + response[0]\n",
    "        if tries == 6:\n",
    "          print(\"Failed to solve Wordle within 6 tries.\")\n",
    "          return None, tries\n",
    "        continue\n",
    "    else:\n",
    "      print(response)\n",
    "      patience -= 1\n",
    "      if patience < 0:\n",
    "        print(\"Failed to solve because of infinite loop.\")\n",
    "        return None, tries\n",
    "      game_status += '\\n' + guess + \": \"+ response\n",
    "      continue"
   ]
  },
  {
   "cell_type": "code",
   "execution_count": null,
   "metadata": {
    "id": "Aqimd1pL2OP_"
   },
   "outputs": [],
   "source": [
    "# Test Function\n",
    "word = \"Eagle\"\n",
    "print(solve_wordle(word))"
   ]
  },
  {
   "cell_type": "code",
   "execution_count": null,
   "metadata": {
    "id": "5D_jTd3CXlKb"
   },
   "outputs": [],
   "source": [
    "test_word_list_20 = ['Crisp', 'Blown', 'Heart', 'Gloom', 'Flare', 'Juicy', 'Vapid', 'Mirth', 'Pluck', 'Grave',\n",
    "                  'Snipe', 'Batch', 'Drown', 'Lofty', 'Quake', 'Shark', 'Moped', 'Whirl', 'Grasp', 'Fjord']\n",
    "test_word_list_10 = [\"Trend\", \"Brisk\", \"Giant\", \"Mouth\", \"Flick\", \"Spear\", \"Dwell\", \"Grimy\", \"Vouch\", \"Knead\"]"
   ]
  },
  {
   "cell_type": "code",
   "execution_count": null,
   "metadata": {
    "id": "2dcFjpNLXsHX"
   },
   "outputs": [],
   "source": [
    "def test_wordle_solver(test_word_list):\n",
    "  \"\"\"Tests the Wordle solver with a list of words and calculates success rate and average solve tries.\n",
    "\n",
    "  Args:\n",
    "    test_word_list: A list of words to test the solver with.\n",
    "\n",
    "  Returns:\n",
    "    A tuple containing the success rate and average solve tries.\n",
    "  \"\"\"\n",
    "  success_count = 0\n",
    "  total_tries = 0\n",
    "\n",
    "  for word in test_word_list:\n",
    "    print(\"Given word: \" + word)\n",
    "    solution, tries = solve_wordle(word)\n",
    "    if solution:\n",
    "      success_count += 1\n",
    "      total_tries += tries\n",
    "    print(\"-------------------------\")\n",
    "\n",
    "  if success_count > 0:\n",
    "    success_rate = (success_count / len(test_word_list)) * 100\n",
    "    average_tries = total_tries / success_count\n",
    "  else:\n",
    "    success_rate = 0\n",
    "    average_tries = 0\n",
    "\n",
    "  return success_rate, average_tries\n",
    "\n",
    "# Test the Wordle solver with the test_word_list\n",
    "success_rate, average_tries = test_wordle_solver(test_word_list_20)\n",
    "# success_rate, average_tries = test_wordle_solver(test_word_list_10)\n",
    "print(f\"Success Rate: {success_rate:.2f}%\")\n",
    "print(f\"Average Solve Tries: {average_tries:.2f}\")"
   ]
  }
 ],
 "metadata": {
  "colab": {
   "authorship_tag": "ABX9TyNplG4VUMGK7Ie5gD1oz99Y",
   "provenance": [
    {
     "file_id": "1XZvYCLVn0lC6zP02lDdQS5mgtzhf_JNG",
     "timestamp": 1727014606026
    }
   ],
   "toc_visible": true
  },
  "kernelspec": {
   "display_name": "Python 3 (ipykernel)",
   "language": "python",
   "name": "python3"
  },
  "language_info": {
   "codemirror_mode": {
    "name": "ipython",
    "version": 3
   },
   "file_extension": ".py",
   "mimetype": "text/x-python",
   "name": "python",
   "nbconvert_exporter": "python",
   "pygments_lexer": "ipython3",
   "version": "3.12.4"
  }
 },
 "nbformat": 4,
 "nbformat_minor": 4
}
